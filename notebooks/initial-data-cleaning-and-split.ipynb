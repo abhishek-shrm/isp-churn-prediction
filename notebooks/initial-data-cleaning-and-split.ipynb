{
 "cells": [
  {
   "cell_type": "markdown",
   "id": "87018e73-92bc-4fb2-9152-e434292e649f",
   "metadata": {},
   "source": [
    "# Initial Data Cleaning and Split\n",
    "In this notebook, I have done a basic exploration and cleaning on the raw dataset. This was done to ensure that the current data is fit for further exploration and analysis. I have tried my best to avoid data leakage at this stage. As a result of this, I was only able to do trivial exploration and cleaning procedures. This dataset will be explored and cleaned(if necessary) rigorously in the later stages. Also, I have split the raw data into train and test set."
   ]
  },
  {
   "cell_type": "code",
   "execution_count": 1,
   "id": "a46113ae-1623-4835-9fea-3384671eea41",
   "metadata": {},
   "outputs": [],
   "source": [
    "# Importing required libraries and modules\n",
    "import os\n",
    "import sys\n",
    "import numpy as np\n",
    "import pandas as pd\n",
    "import matplotlib.pyplot as plt\n",
    "from sklearn.model_selection import train_test_split"
   ]
  },
  {
   "cell_type": "markdown",
   "id": "f4aa8c08-35e8-4aee-a665-b678d9ed47e0",
   "metadata": {},
   "source": [
    "## Data Loading"
   ]
  },
  {
   "cell_type": "code",
   "execution_count": 2,
   "id": "c480050a-539f-4f72-9bf9-53441ad06f42",
   "metadata": {},
   "outputs": [],
   "source": [
    "raw = pd.read_csv('../data/raw/internet_service_churn.csv')"
   ]
  },
  {
   "cell_type": "code",
   "execution_count": 3,
   "id": "e58e2e29-accc-4613-8231-49e1560b30b8",
   "metadata": {},
   "outputs": [
    {
     "name": "stdout",
     "output_type": "stream",
     "text": [
      "Shape=> (72274, 11)\n"
     ]
    },
    {
     "data": {
      "text/html": [
       "<div>\n",
       "<style scoped>\n",
       "    .dataframe tbody tr th:only-of-type {\n",
       "        vertical-align: middle;\n",
       "    }\n",
       "\n",
       "    .dataframe tbody tr th {\n",
       "        vertical-align: top;\n",
       "    }\n",
       "\n",
       "    .dataframe thead th {\n",
       "        text-align: right;\n",
       "    }\n",
       "</style>\n",
       "<table border=\"1\" class=\"dataframe\">\n",
       "  <thead>\n",
       "    <tr style=\"text-align: right;\">\n",
       "      <th></th>\n",
       "      <th>id</th>\n",
       "      <th>is_tv_subscriber</th>\n",
       "      <th>is_movie_package_subscriber</th>\n",
       "      <th>subscription_age</th>\n",
       "      <th>bill_avg</th>\n",
       "      <th>reamining_contract</th>\n",
       "      <th>service_failure_count</th>\n",
       "      <th>download_avg</th>\n",
       "      <th>upload_avg</th>\n",
       "      <th>download_over_limit</th>\n",
       "      <th>churn</th>\n",
       "    </tr>\n",
       "  </thead>\n",
       "  <tbody>\n",
       "    <tr>\n",
       "      <th>0</th>\n",
       "      <td>15</td>\n",
       "      <td>1</td>\n",
       "      <td>0</td>\n",
       "      <td>11.95</td>\n",
       "      <td>25</td>\n",
       "      <td>0.14</td>\n",
       "      <td>0</td>\n",
       "      <td>8.4</td>\n",
       "      <td>2.3</td>\n",
       "      <td>0</td>\n",
       "      <td>0</td>\n",
       "    </tr>\n",
       "    <tr>\n",
       "      <th>1</th>\n",
       "      <td>18</td>\n",
       "      <td>0</td>\n",
       "      <td>0</td>\n",
       "      <td>8.22</td>\n",
       "      <td>0</td>\n",
       "      <td>NaN</td>\n",
       "      <td>0</td>\n",
       "      <td>0.0</td>\n",
       "      <td>0.0</td>\n",
       "      <td>0</td>\n",
       "      <td>1</td>\n",
       "    </tr>\n",
       "    <tr>\n",
       "      <th>2</th>\n",
       "      <td>23</td>\n",
       "      <td>1</td>\n",
       "      <td>0</td>\n",
       "      <td>8.91</td>\n",
       "      <td>16</td>\n",
       "      <td>0.00</td>\n",
       "      <td>0</td>\n",
       "      <td>13.7</td>\n",
       "      <td>0.9</td>\n",
       "      <td>0</td>\n",
       "      <td>1</td>\n",
       "    </tr>\n",
       "    <tr>\n",
       "      <th>3</th>\n",
       "      <td>27</td>\n",
       "      <td>0</td>\n",
       "      <td>0</td>\n",
       "      <td>6.87</td>\n",
       "      <td>21</td>\n",
       "      <td>NaN</td>\n",
       "      <td>1</td>\n",
       "      <td>0.0</td>\n",
       "      <td>0.0</td>\n",
       "      <td>0</td>\n",
       "      <td>1</td>\n",
       "    </tr>\n",
       "    <tr>\n",
       "      <th>4</th>\n",
       "      <td>34</td>\n",
       "      <td>0</td>\n",
       "      <td>0</td>\n",
       "      <td>6.39</td>\n",
       "      <td>0</td>\n",
       "      <td>NaN</td>\n",
       "      <td>0</td>\n",
       "      <td>0.0</td>\n",
       "      <td>0.0</td>\n",
       "      <td>0</td>\n",
       "      <td>1</td>\n",
       "    </tr>\n",
       "  </tbody>\n",
       "</table>\n",
       "</div>"
      ],
      "text/plain": [
       "   id  is_tv_subscriber  is_movie_package_subscriber  subscription_age  \\\n",
       "0  15                 1                            0             11.95   \n",
       "1  18                 0                            0              8.22   \n",
       "2  23                 1                            0              8.91   \n",
       "3  27                 0                            0              6.87   \n",
       "4  34                 0                            0              6.39   \n",
       "\n",
       "   bill_avg  reamining_contract  service_failure_count  download_avg  \\\n",
       "0        25                0.14                      0           8.4   \n",
       "1         0                 NaN                      0           0.0   \n",
       "2        16                0.00                      0          13.7   \n",
       "3        21                 NaN                      1           0.0   \n",
       "4         0                 NaN                      0           0.0   \n",
       "\n",
       "   upload_avg  download_over_limit  churn  \n",
       "0         2.3                    0      0  \n",
       "1         0.0                    0      1  \n",
       "2         0.9                    0      1  \n",
       "3         0.0                    0      1  \n",
       "4         0.0                    0      1  "
      ]
     },
     "execution_count": 3,
     "metadata": {},
     "output_type": "execute_result"
    }
   ],
   "source": [
    "print('Shape=>',raw.shape)\n",
    "raw.head()"
   ]
  },
  {
   "cell_type": "markdown",
   "id": "e11b3143-0f0c-4b91-8aa6-b4133190010b",
   "metadata": {},
   "source": [
    "This dataset contains 11 columns and 72274 rows. The description of each of these columns are as follows:\n",
    "1. **id:** Unique subscriber ID\n",
    "2. **is_tv_subscriber:** Does customer has a TV subscription ?\n",
    "3. **is_movie_package_subscriber:** Is he/she has a cinema movie package subscriber?\n",
    "4. **subscription_age:** How many year has the customer used our service?\n",
    "5. **bill_avg:** Last 3 months average bill\n",
    "6. **reamining_contract:** How many year remaining for customer contract? *(If null, customer don't have a contract. The customer who has a contract time has to use their service until contract ends. If they cancel their service before contract time ends then they have to pay a penalty fare)*\n",
    "7. **service_failure_count:** Count of customer calls to call center for service failure in the last 3 months\n",
    "8. **download_avg:** Last 3 months average download (GB)\n",
    "9. **upload_avg:** Last 3 months average upload (GB)\n",
    "10. **download_over_limit:** Count of download limit reached in the past 9 months. *(Most of the customers have a download limit. If they reach this limit they have to pay for that.)*\n",
    "11. **churn:** This is the target column. If the customer has cancelled the service then it is 1 else 0."
   ]
  },
  {
   "cell_type": "markdown",
   "id": "b4bf8934-f242-4c65-b324-d1d0f55c29f2",
   "metadata": {},
   "source": [
    "## Basic Data Exploration"
   ]
  },
  {
   "cell_type": "code",
   "execution_count": 4,
   "id": "90f737be-d5fd-4c9e-b834-b372858de4bb",
   "metadata": {},
   "outputs": [
    {
     "name": "stdout",
     "output_type": "stream",
     "text": [
      "<class 'pandas.core.frame.DataFrame'>\n",
      "RangeIndex: 72274 entries, 0 to 72273\n",
      "Data columns (total 11 columns):\n",
      " #   Column                       Non-Null Count  Dtype  \n",
      "---  ------                       --------------  -----  \n",
      " 0   id                           72274 non-null  int64  \n",
      " 1   is_tv_subscriber             72274 non-null  int64  \n",
      " 2   is_movie_package_subscriber  72274 non-null  int64  \n",
      " 3   subscription_age             72274 non-null  float64\n",
      " 4   bill_avg                     72274 non-null  int64  \n",
      " 5   reamining_contract           50702 non-null  float64\n",
      " 6   service_failure_count        72274 non-null  int64  \n",
      " 7   download_avg                 71893 non-null  float64\n",
      " 8   upload_avg                   71893 non-null  float64\n",
      " 9   download_over_limit          72274 non-null  int64  \n",
      " 10  churn                        72274 non-null  int64  \n",
      "dtypes: float64(4), int64(7)\n",
      "memory usage: 6.1 MB\n"
     ]
    }
   ],
   "source": [
    "# Getting an overview of the dataset\n",
    "raw.info(show_counts=True,verbose=True)"
   ]
  },
  {
   "cell_type": "markdown",
   "id": "7d28f0b0-cada-4d49-bd96-d5e63a43a0c9",
   "metadata": {},
   "source": [
    "There is a typo in a column name so let's fix that first."
   ]
  },
  {
   "cell_type": "code",
   "execution_count": 5,
   "id": "ef76e4d0-abb0-4c98-887a-82940db50b31",
   "metadata": {},
   "outputs": [],
   "source": [
    "raw.rename(columns={'reamining_contract' : 'remaining_contract'}, inplace = True)"
   ]
  },
  {
   "cell_type": "markdown",
   "id": "cf74d07f-6ea6-4908-93ae-9e232981cf25",
   "metadata": {},
   "source": [
    "Let's now check for duplicates in the dataset."
   ]
  },
  {
   "cell_type": "code",
   "execution_count": 6,
   "id": "dc87e8f7-0b17-4eef-8a35-1be2a6b06c33",
   "metadata": {},
   "outputs": [
    {
     "name": "stdout",
     "output_type": "stream",
     "text": [
      "0\n"
     ]
    }
   ],
   "source": [
    "# Number of duplicate rows in dataframe\n",
    "print(raw.duplicated().sum())"
   ]
  },
  {
   "cell_type": "markdown",
   "id": "78254168-b01a-48e9-b3db-8a1957e81a25",
   "metadata": {},
   "source": [
    "It's good to see that we have no duplicates in our dataset. Let's now look out for columns with high percentage of missing values."
   ]
  },
  {
   "cell_type": "code",
   "execution_count": 7,
   "id": "8b3d6e98-15a5-4a42-8fd4-833732af596b",
   "metadata": {},
   "outputs": [
    {
     "data": {
      "text/plain": [
       "id                              0.0\n",
       "is_tv_subscriber                0.0\n",
       "is_movie_package_subscriber     0.0\n",
       "subscription_age                0.0\n",
       "bill_avg                        0.0\n",
       "remaining_contract             29.8\n",
       "service_failure_count           0.0\n",
       "download_avg                    0.5\n",
       "upload_avg                      0.5\n",
       "download_over_limit             0.0\n",
       "churn                           0.0\n",
       "dtype: float64"
      ]
     },
     "execution_count": 7,
     "metadata": {},
     "output_type": "execute_result"
    }
   ],
   "source": [
    "# Pecentage of missing values per column\n",
    "missing_percentage=raw.isna().mean().round(3)*100\n",
    "missing_percentage"
   ]
  },
  {
   "cell_type": "markdown",
   "id": "02af2555-6012-4b2c-a77a-0dc7136a79aa",
   "metadata": {},
   "source": [
    "Our dataset except *remaining_contract* column has very few missing values so we don't have to remove any column for now and we can handle them in later stages of the project. Next, let's see the number of unique values in every column. This will help us in finding zero-variance predictors."
   ]
  },
  {
   "cell_type": "code",
   "execution_count": 8,
   "id": "5debb939-2b86-4312-980a-025e047089ce",
   "metadata": {},
   "outputs": [
    {
     "data": {
      "text/plain": [
       "id                             72274\n",
       "is_tv_subscriber                   2\n",
       "is_movie_package_subscriber        2\n",
       "subscription_age                1110\n",
       "bill_avg                         179\n",
       "remaining_contract               247\n",
       "service_failure_count             19\n",
       "download_avg                    2856\n",
       "upload_avg                       802\n",
       "download_over_limit                8\n",
       "churn                              2\n",
       "dtype: int64"
      ]
     },
     "execution_count": 8,
     "metadata": {},
     "output_type": "execute_result"
    }
   ],
   "source": [
    "# Number of unique values per column\n",
    "raw.nunique()"
   ]
  },
  {
   "cell_type": "markdown",
   "id": "6f4044cb-0174-4965-8f62-8cfce16f430a",
   "metadata": {},
   "source": [
    "None of the columns contain a single value so now we can move forward. Let's see the distribution of target variable."
   ]
  },
  {
   "cell_type": "code",
   "execution_count": 9,
   "id": "bf2e0fcc-af3b-45fb-903d-581b98e5551c",
   "metadata": {},
   "outputs": [
    {
     "data": {
      "text/plain": [
       "1    55.414118\n",
       "0    44.585882\n",
       "Name: churn, dtype: float64"
      ]
     },
     "execution_count": 9,
     "metadata": {},
     "output_type": "execute_result"
    }
   ],
   "source": [
    "raw['churn'].value_counts(normalize=True)*100"
   ]
  },
  {
   "cell_type": "markdown",
   "id": "893a26b3-bb45-4007-81aa-b631dfd1a053",
   "metadata": {},
   "source": [
    "Our dataset is slightly imbalanced but it's not a matter of serious concern."
   ]
  },
  {
   "cell_type": "markdown",
   "id": "8ad18749-8942-4fbe-9d81-125f58c9bd2f",
   "metadata": {},
   "source": [
    "## Splitting Dataset\n",
    "Next, I will split the raw dataset into train and test sets. Our training and test sets will contain 62274 and 10000 instances, respectively."
   ]
  },
  {
   "cell_type": "code",
   "execution_count": 10,
   "id": "2e74e57d-a424-407f-8d6e-355b4a030fb3",
   "metadata": {},
   "outputs": [],
   "source": [
    "# Creating Train and Test Sets\n",
    "train_df, test_df = train_test_split(raw, stratify=raw['churn'],test_size=10000,random_state=42)"
   ]
  },
  {
   "cell_type": "code",
   "execution_count": 11,
   "id": "f82c2dd8-9ad3-4aaa-b4e1-3a1916334f09",
   "metadata": {},
   "outputs": [
    {
     "name": "stdout",
     "output_type": "stream",
     "text": [
      "Shape of Training set=> (62274, 11)\n"
     ]
    },
    {
     "data": {
      "text/html": [
       "<div>\n",
       "<style scoped>\n",
       "    .dataframe tbody tr th:only-of-type {\n",
       "        vertical-align: middle;\n",
       "    }\n",
       "\n",
       "    .dataframe tbody tr th {\n",
       "        vertical-align: top;\n",
       "    }\n",
       "\n",
       "    .dataframe thead th {\n",
       "        text-align: right;\n",
       "    }\n",
       "</style>\n",
       "<table border=\"1\" class=\"dataframe\">\n",
       "  <thead>\n",
       "    <tr style=\"text-align: right;\">\n",
       "      <th></th>\n",
       "      <th>id</th>\n",
       "      <th>is_tv_subscriber</th>\n",
       "      <th>is_movie_package_subscriber</th>\n",
       "      <th>subscription_age</th>\n",
       "      <th>bill_avg</th>\n",
       "      <th>remaining_contract</th>\n",
       "      <th>service_failure_count</th>\n",
       "      <th>download_avg</th>\n",
       "      <th>upload_avg</th>\n",
       "      <th>download_over_limit</th>\n",
       "      <th>churn</th>\n",
       "    </tr>\n",
       "  </thead>\n",
       "  <tbody>\n",
       "    <tr>\n",
       "      <th>53349</th>\n",
       "      <td>1250624</td>\n",
       "      <td>1</td>\n",
       "      <td>1</td>\n",
       "      <td>1.77</td>\n",
       "      <td>7</td>\n",
       "      <td>0.19</td>\n",
       "      <td>0</td>\n",
       "      <td>114.1</td>\n",
       "      <td>8.7</td>\n",
       "      <td>0</td>\n",
       "      <td>0</td>\n",
       "    </tr>\n",
       "    <tr>\n",
       "      <th>71329</th>\n",
       "      <td>1668176</td>\n",
       "      <td>1</td>\n",
       "      <td>0</td>\n",
       "      <td>0.05</td>\n",
       "      <td>6</td>\n",
       "      <td>0.59</td>\n",
       "      <td>0</td>\n",
       "      <td>12.7</td>\n",
       "      <td>1.3</td>\n",
       "      <td>0</td>\n",
       "      <td>0</td>\n",
       "    </tr>\n",
       "    <tr>\n",
       "      <th>49035</th>\n",
       "      <td>1151155</td>\n",
       "      <td>0</td>\n",
       "      <td>0</td>\n",
       "      <td>1.42</td>\n",
       "      <td>18</td>\n",
       "      <td>NaN</td>\n",
       "      <td>0</td>\n",
       "      <td>0.4</td>\n",
       "      <td>0.0</td>\n",
       "      <td>0</td>\n",
       "      <td>1</td>\n",
       "    </tr>\n",
       "    <tr>\n",
       "      <th>51987</th>\n",
       "      <td>1219428</td>\n",
       "      <td>1</td>\n",
       "      <td>0</td>\n",
       "      <td>0.73</td>\n",
       "      <td>20</td>\n",
       "      <td>0.00</td>\n",
       "      <td>0</td>\n",
       "      <td>9.3</td>\n",
       "      <td>0.4</td>\n",
       "      <td>0</td>\n",
       "      <td>1</td>\n",
       "    </tr>\n",
       "    <tr>\n",
       "      <th>57420</th>\n",
       "      <td>1344910</td>\n",
       "      <td>1</td>\n",
       "      <td>0</td>\n",
       "      <td>0.25</td>\n",
       "      <td>17</td>\n",
       "      <td>0.00</td>\n",
       "      <td>0</td>\n",
       "      <td>6.1</td>\n",
       "      <td>0.5</td>\n",
       "      <td>0</td>\n",
       "      <td>1</td>\n",
       "    </tr>\n",
       "  </tbody>\n",
       "</table>\n",
       "</div>"
      ],
      "text/plain": [
       "            id  is_tv_subscriber  is_movie_package_subscriber  \\\n",
       "53349  1250624                 1                            1   \n",
       "71329  1668176                 1                            0   \n",
       "49035  1151155                 0                            0   \n",
       "51987  1219428                 1                            0   \n",
       "57420  1344910                 1                            0   \n",
       "\n",
       "       subscription_age  bill_avg  remaining_contract  service_failure_count  \\\n",
       "53349              1.77         7                0.19                      0   \n",
       "71329              0.05         6                0.59                      0   \n",
       "49035              1.42        18                 NaN                      0   \n",
       "51987              0.73        20                0.00                      0   \n",
       "57420              0.25        17                0.00                      0   \n",
       "\n",
       "       download_avg  upload_avg  download_over_limit  churn  \n",
       "53349         114.1         8.7                    0      0  \n",
       "71329          12.7         1.3                    0      0  \n",
       "49035           0.4         0.0                    0      1  \n",
       "51987           9.3         0.4                    0      1  \n",
       "57420           6.1         0.5                    0      1  "
      ]
     },
     "execution_count": 11,
     "metadata": {},
     "output_type": "execute_result"
    }
   ],
   "source": [
    "print('Shape of Training set=>', train_df.shape)\n",
    "train_df.head()"
   ]
  },
  {
   "cell_type": "code",
   "execution_count": 12,
   "id": "365725fa-48c2-45e2-b82e-62516f8170a2",
   "metadata": {},
   "outputs": [
    {
     "name": "stdout",
     "output_type": "stream",
     "text": [
      "Shape of Test set=> (10000, 11)\n"
     ]
    },
    {
     "data": {
      "text/html": [
       "<div>\n",
       "<style scoped>\n",
       "    .dataframe tbody tr th:only-of-type {\n",
       "        vertical-align: middle;\n",
       "    }\n",
       "\n",
       "    .dataframe tbody tr th {\n",
       "        vertical-align: top;\n",
       "    }\n",
       "\n",
       "    .dataframe thead th {\n",
       "        text-align: right;\n",
       "    }\n",
       "</style>\n",
       "<table border=\"1\" class=\"dataframe\">\n",
       "  <thead>\n",
       "    <tr style=\"text-align: right;\">\n",
       "      <th></th>\n",
       "      <th>id</th>\n",
       "      <th>is_tv_subscriber</th>\n",
       "      <th>is_movie_package_subscriber</th>\n",
       "      <th>subscription_age</th>\n",
       "      <th>bill_avg</th>\n",
       "      <th>remaining_contract</th>\n",
       "      <th>service_failure_count</th>\n",
       "      <th>download_avg</th>\n",
       "      <th>upload_avg</th>\n",
       "      <th>download_over_limit</th>\n",
       "      <th>churn</th>\n",
       "    </tr>\n",
       "  </thead>\n",
       "  <tbody>\n",
       "    <tr>\n",
       "      <th>50643</th>\n",
       "      <td>1187227</td>\n",
       "      <td>1</td>\n",
       "      <td>1</td>\n",
       "      <td>2.05</td>\n",
       "      <td>14</td>\n",
       "      <td>0.61</td>\n",
       "      <td>0</td>\n",
       "      <td>30.2</td>\n",
       "      <td>2.3</td>\n",
       "      <td>0</td>\n",
       "      <td>0</td>\n",
       "    </tr>\n",
       "    <tr>\n",
       "      <th>20608</th>\n",
       "      <td>481052</td>\n",
       "      <td>1</td>\n",
       "      <td>0</td>\n",
       "      <td>3.19</td>\n",
       "      <td>7</td>\n",
       "      <td>0.00</td>\n",
       "      <td>0</td>\n",
       "      <td>7.0</td>\n",
       "      <td>0.6</td>\n",
       "      <td>0</td>\n",
       "      <td>1</td>\n",
       "    </tr>\n",
       "    <tr>\n",
       "      <th>17528</th>\n",
       "      <td>409792</td>\n",
       "      <td>1</td>\n",
       "      <td>1</td>\n",
       "      <td>6.75</td>\n",
       "      <td>0</td>\n",
       "      <td>NaN</td>\n",
       "      <td>0</td>\n",
       "      <td>0.0</td>\n",
       "      <td>0.0</td>\n",
       "      <td>0</td>\n",
       "      <td>1</td>\n",
       "    </tr>\n",
       "    <tr>\n",
       "      <th>40765</th>\n",
       "      <td>954134</td>\n",
       "      <td>1</td>\n",
       "      <td>0</td>\n",
       "      <td>3.14</td>\n",
       "      <td>12</td>\n",
       "      <td>0.81</td>\n",
       "      <td>0</td>\n",
       "      <td>189.5</td>\n",
       "      <td>15.4</td>\n",
       "      <td>0</td>\n",
       "      <td>0</td>\n",
       "    </tr>\n",
       "    <tr>\n",
       "      <th>16347</th>\n",
       "      <td>380945</td>\n",
       "      <td>1</td>\n",
       "      <td>0</td>\n",
       "      <td>6.45</td>\n",
       "      <td>21</td>\n",
       "      <td>0.19</td>\n",
       "      <td>0</td>\n",
       "      <td>20.2</td>\n",
       "      <td>1.4</td>\n",
       "      <td>0</td>\n",
       "      <td>0</td>\n",
       "    </tr>\n",
       "  </tbody>\n",
       "</table>\n",
       "</div>"
      ],
      "text/plain": [
       "            id  is_tv_subscriber  is_movie_package_subscriber  \\\n",
       "50643  1187227                 1                            1   \n",
       "20608   481052                 1                            0   \n",
       "17528   409792                 1                            1   \n",
       "40765   954134                 1                            0   \n",
       "16347   380945                 1                            0   \n",
       "\n",
       "       subscription_age  bill_avg  remaining_contract  service_failure_count  \\\n",
       "50643              2.05        14                0.61                      0   \n",
       "20608              3.19         7                0.00                      0   \n",
       "17528              6.75         0                 NaN                      0   \n",
       "40765              3.14        12                0.81                      0   \n",
       "16347              6.45        21                0.19                      0   \n",
       "\n",
       "       download_avg  upload_avg  download_over_limit  churn  \n",
       "50643          30.2         2.3                    0      0  \n",
       "20608           7.0         0.6                    0      1  \n",
       "17528           0.0         0.0                    0      1  \n",
       "40765         189.5        15.4                    0      0  \n",
       "16347          20.2         1.4                    0      0  "
      ]
     },
     "execution_count": 12,
     "metadata": {},
     "output_type": "execute_result"
    }
   ],
   "source": [
    "print('Shape of Test set=>', test_df.shape)\n",
    "test_df.head()"
   ]
  },
  {
   "cell_type": "code",
   "execution_count": 13,
   "id": "a03501b0-9c02-4c4e-b2d5-51d8cf74668b",
   "metadata": {},
   "outputs": [
    {
     "data": {
      "text/plain": [
       "1    0.554148\n",
       "0    0.445852\n",
       "Name: churn, dtype: float64"
      ]
     },
     "execution_count": 13,
     "metadata": {},
     "output_type": "execute_result"
    }
   ],
   "source": [
    "train_df['churn'].value_counts(normalize=True)"
   ]
  },
  {
   "cell_type": "code",
   "execution_count": 14,
   "id": "c455f9b0-8839-49ac-b876-1c65ed64e267",
   "metadata": {},
   "outputs": [
    {
     "data": {
      "text/plain": [
       "1    0.5541\n",
       "0    0.4459\n",
       "Name: churn, dtype: float64"
      ]
     },
     "execution_count": 14,
     "metadata": {},
     "output_type": "execute_result"
    }
   ],
   "source": [
    "test_df['churn'].value_counts(normalize=True)"
   ]
  },
  {
   "cell_type": "markdown",
   "id": "c659b357-1681-4f49-a8a4-5aecdbbce84a",
   "metadata": {},
   "source": [
    "## Exporting Datasets"
   ]
  },
  {
   "cell_type": "code",
   "execution_count": 15,
   "id": "d72a2253-1b0b-454f-9916-ae9f0b5d7d66",
   "metadata": {},
   "outputs": [],
   "source": [
    "train_df.to_csv('../data/interim/train.csv', index=False)\n",
    "test_df.to_csv('../data/interim/test.csv', index=False)"
   ]
  }
 ],
 "metadata": {
  "kernelspec": {
   "display_name": "Python 3.9: isp-churn-prediction",
   "language": "python",
   "name": "isp-churn-prediction"
  },
  "language_info": {
   "codemirror_mode": {
    "name": "ipython",
    "version": 3
   },
   "file_extension": ".py",
   "mimetype": "text/x-python",
   "name": "python",
   "nbconvert_exporter": "python",
   "pygments_lexer": "ipython3",
   "version": "3.9.7"
  }
 },
 "nbformat": 4,
 "nbformat_minor": 5
}
