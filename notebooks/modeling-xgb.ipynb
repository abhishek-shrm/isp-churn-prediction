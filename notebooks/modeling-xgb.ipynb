{
 "cells": [
  {
   "cell_type": "markdown",
   "metadata": {},
   "source": [
    "# Modeling - XGBoost Classifier\n",
    "In this notebook, I have created a XGBoost Classifier for predicting churn for an an Internet Service Provider and tuned its hyperparameters using Optuna which is a Hyperparameter Optimization Framework that uses Tree-structured Parzen Estimator (TPE) to find the most optimal parameters."
   ]
  },
  {
   "cell_type": "markdown",
   "metadata": {},
   "source": [
    "## Table of Contents:\n",
    "1. Data Loading\n",
    "2. Modeling\n",
    "    - Finding Best Hyperparameters\n",
    "    - Building Model with tuned parameters"
   ]
  },
  {
   "cell_type": "code",
   "execution_count": 2,
   "metadata": {
    "execution": {
     "iopub.execute_input": "2021-10-13T09:08:30.879219Z",
     "iopub.status.busy": "2021-10-13T09:08:30.878843Z",
     "iopub.status.idle": "2021-10-13T09:08:30.887058Z",
     "shell.execute_reply": "2021-10-13T09:08:30.885916Z",
     "shell.execute_reply.started": "2021-10-13T09:08:30.879158Z"
    }
   },
   "outputs": [],
   "source": [
    "# Importing required libraries and modules\n",
    "import os\n",
    "import sys\n",
    "import optuna\n",
    "import numpy as np\n",
    "import pandas as pd\n",
    "import seaborn as sns\n",
    "import xgboost as xgb\n",
    "import matplotlib.pyplot as plt\n",
    "\n",
    "from sklearn.pipeline import Pipeline\n",
    "from sklearn.impute import SimpleImputer\n",
    "from sklearn.compose import ColumnTransformer\n",
    "from sklearn.model_selection import GridSearchCV\n",
    "from sklearn.preprocessing import QuantileTransformer\n",
    "\n",
    "from sklearn.model_selection import cross_val_score, RepeatedStratifiedKFold"
   ]
  },
  {
   "cell_type": "code",
   "execution_count": 3,
   "metadata": {
    "execution": {
     "iopub.execute_input": "2021-10-13T09:08:30.889452Z",
     "iopub.status.busy": "2021-10-13T09:08:30.889040Z",
     "iopub.status.idle": "2021-10-13T09:08:30.899488Z",
     "shell.execute_reply": "2021-10-13T09:08:30.898366Z",
     "shell.execute_reply.started": "2021-10-13T09:08:30.889409Z"
    }
   },
   "outputs": [],
   "source": [
    "# Setting seaborn figure size\n",
    "sns.set(rc={'figure.figsize':(10,8)})\n",
    "\n",
    "# Setting the seed\n",
    "np.random.seed(42)"
   ]
  },
  {
   "cell_type": "markdown",
   "metadata": {},
   "source": [
    "## Data Loading"
   ]
  },
  {
   "cell_type": "code",
   "execution_count": 4,
   "metadata": {
    "execution": {
     "iopub.execute_input": "2021-10-13T09:08:33.048855Z",
     "iopub.status.busy": "2021-10-13T09:08:33.048561Z",
     "iopub.status.idle": "2021-10-13T09:08:33.148766Z",
     "shell.execute_reply": "2021-10-13T09:08:33.147795Z",
     "shell.execute_reply.started": "2021-10-13T09:08:33.048827Z"
    }
   },
   "outputs": [],
   "source": [
    "train_prepared = pd.read_csv('../data/processed/train-prepared.csv')"
   ]
  },
  {
   "cell_type": "code",
   "execution_count": 5,
   "metadata": {
    "execution": {
     "iopub.execute_input": "2021-10-13T09:08:33.420939Z",
     "iopub.status.busy": "2021-10-13T09:08:33.420247Z",
     "iopub.status.idle": "2021-10-13T09:08:33.458250Z",
     "shell.execute_reply": "2021-10-13T09:08:33.456936Z",
     "shell.execute_reply.started": "2021-10-13T09:08:33.420907Z"
    }
   },
   "outputs": [
    {
     "name": "stdout",
     "output_type": "stream",
     "text": [
      "Shape=> (62273, 11)\n"
     ]
    },
    {
     "data": {
      "text/html": [
       "<div>\n",
       "<style scoped>\n",
       "    .dataframe tbody tr th:only-of-type {\n",
       "        vertical-align: middle;\n",
       "    }\n",
       "\n",
       "    .dataframe tbody tr th {\n",
       "        vertical-align: top;\n",
       "    }\n",
       "\n",
       "    .dataframe thead th {\n",
       "        text-align: right;\n",
       "    }\n",
       "</style>\n",
       "<table border=\"1\" class=\"dataframe\">\n",
       "  <thead>\n",
       "    <tr style=\"text-align: right;\">\n",
       "      <th></th>\n",
       "      <th>is_tv_subscriber</th>\n",
       "      <th>is_movie_package_subscriber</th>\n",
       "      <th>subscription_age</th>\n",
       "      <th>bill_avg</th>\n",
       "      <th>remaining_contract</th>\n",
       "      <th>is_contract</th>\n",
       "      <th>service_failure_count</th>\n",
       "      <th>download_avg</th>\n",
       "      <th>upload_avg</th>\n",
       "      <th>download_over_limit</th>\n",
       "      <th>churn</th>\n",
       "    </tr>\n",
       "  </thead>\n",
       "  <tbody>\n",
       "    <tr>\n",
       "      <th>0</th>\n",
       "      <td>1</td>\n",
       "      <td>1</td>\n",
       "      <td>1.77</td>\n",
       "      <td>7</td>\n",
       "      <td>0.19</td>\n",
       "      <td>1</td>\n",
       "      <td>0</td>\n",
       "      <td>114.1</td>\n",
       "      <td>8.7</td>\n",
       "      <td>0</td>\n",
       "      <td>0</td>\n",
       "    </tr>\n",
       "    <tr>\n",
       "      <th>1</th>\n",
       "      <td>1</td>\n",
       "      <td>0</td>\n",
       "      <td>0.05</td>\n",
       "      <td>6</td>\n",
       "      <td>0.59</td>\n",
       "      <td>1</td>\n",
       "      <td>0</td>\n",
       "      <td>12.7</td>\n",
       "      <td>1.3</td>\n",
       "      <td>0</td>\n",
       "      <td>0</td>\n",
       "    </tr>\n",
       "    <tr>\n",
       "      <th>2</th>\n",
       "      <td>0</td>\n",
       "      <td>0</td>\n",
       "      <td>1.42</td>\n",
       "      <td>18</td>\n",
       "      <td>0.00</td>\n",
       "      <td>0</td>\n",
       "      <td>0</td>\n",
       "      <td>0.4</td>\n",
       "      <td>0.0</td>\n",
       "      <td>0</td>\n",
       "      <td>1</td>\n",
       "    </tr>\n",
       "    <tr>\n",
       "      <th>3</th>\n",
       "      <td>1</td>\n",
       "      <td>0</td>\n",
       "      <td>0.73</td>\n",
       "      <td>20</td>\n",
       "      <td>0.00</td>\n",
       "      <td>1</td>\n",
       "      <td>0</td>\n",
       "      <td>9.3</td>\n",
       "      <td>0.4</td>\n",
       "      <td>0</td>\n",
       "      <td>1</td>\n",
       "    </tr>\n",
       "    <tr>\n",
       "      <th>4</th>\n",
       "      <td>1</td>\n",
       "      <td>0</td>\n",
       "      <td>0.25</td>\n",
       "      <td>17</td>\n",
       "      <td>0.00</td>\n",
       "      <td>1</td>\n",
       "      <td>0</td>\n",
       "      <td>6.1</td>\n",
       "      <td>0.5</td>\n",
       "      <td>0</td>\n",
       "      <td>1</td>\n",
       "    </tr>\n",
       "  </tbody>\n",
       "</table>\n",
       "</div>"
      ],
      "text/plain": [
       "   is_tv_subscriber  is_movie_package_subscriber  subscription_age  bill_avg  \\\n",
       "0                 1                            1              1.77         7   \n",
       "1                 1                            0              0.05         6   \n",
       "2                 0                            0              1.42        18   \n",
       "3                 1                            0              0.73        20   \n",
       "4                 1                            0              0.25        17   \n",
       "\n",
       "   remaining_contract  is_contract  service_failure_count  download_avg  \\\n",
       "0                0.19            1                      0         114.1   \n",
       "1                0.59            1                      0          12.7   \n",
       "2                0.00            0                      0           0.4   \n",
       "3                0.00            1                      0           9.3   \n",
       "4                0.00            1                      0           6.1   \n",
       "\n",
       "   upload_avg  download_over_limit  churn  \n",
       "0         8.7                    0      0  \n",
       "1         1.3                    0      0  \n",
       "2         0.0                    0      1  \n",
       "3         0.4                    0      1  \n",
       "4         0.5                    0      1  "
      ]
     },
     "execution_count": 5,
     "metadata": {},
     "output_type": "execute_result"
    }
   ],
   "source": [
    "print('Shape=>', train_prepared.shape)\n",
    "train_prepared.head()"
   ]
  },
  {
   "cell_type": "code",
   "execution_count": 6,
   "metadata": {
    "execution": {
     "iopub.execute_input": "2021-10-13T09:08:33.801295Z",
     "iopub.status.busy": "2021-10-13T09:08:33.800715Z",
     "iopub.status.idle": "2021-10-13T09:08:33.838736Z",
     "shell.execute_reply": "2021-10-13T09:08:33.837211Z",
     "shell.execute_reply.started": "2021-10-13T09:08:33.801243Z"
    }
   },
   "outputs": [
    {
     "name": "stdout",
     "output_type": "stream",
     "text": [
      "<class 'pandas.core.frame.DataFrame'>\n",
      "RangeIndex: 62273 entries, 0 to 62272\n",
      "Data columns (total 11 columns):\n",
      " #   Column                       Non-Null Count  Dtype  \n",
      "---  ------                       --------------  -----  \n",
      " 0   is_tv_subscriber             62273 non-null  int64  \n",
      " 1   is_movie_package_subscriber  62273 non-null  int64  \n",
      " 2   subscription_age             62273 non-null  float64\n",
      " 3   bill_avg                     62273 non-null  int64  \n",
      " 4   remaining_contract           62273 non-null  float64\n",
      " 5   is_contract                  62273 non-null  int64  \n",
      " 6   service_failure_count        62273 non-null  int64  \n",
      " 7   download_avg                 61948 non-null  float64\n",
      " 8   upload_avg                   61948 non-null  float64\n",
      " 9   download_over_limit          62273 non-null  int64  \n",
      " 10  churn                        62273 non-null  int64  \n",
      "dtypes: float64(4), int64(7)\n",
      "memory usage: 5.2 MB\n"
     ]
    }
   ],
   "source": [
    "# Getting an overview of the dataset\n",
    "train_prepared.info(show_counts=True,verbose=True)"
   ]
  },
  {
   "cell_type": "markdown",
   "metadata": {},
   "source": [
    "## Modeling"
   ]
  },
  {
   "cell_type": "code",
   "execution_count": 7,
   "metadata": {
    "execution": {
     "iopub.execute_input": "2021-10-13T09:08:34.489573Z",
     "iopub.status.busy": "2021-10-13T09:08:34.489199Z",
     "iopub.status.idle": "2021-10-13T09:08:34.500336Z",
     "shell.execute_reply": "2021-10-13T09:08:34.499212Z",
     "shell.execute_reply.started": "2021-10-13T09:08:34.489523Z"
    }
   },
   "outputs": [],
   "source": [
    "# Separating predictors and target\n",
    "X, y = train_prepared.loc[:, train_prepared.columns != 'churn'], train_prepared.loc[:, 'churn']"
   ]
  },
  {
   "cell_type": "markdown",
   "metadata": {},
   "source": [
    "### Finding Best Hyperparameters"
   ]
  },
  {
   "cell_type": "code",
   "execution_count": 8,
   "metadata": {
    "execution": {
     "iopub.execute_input": "2021-10-13T09:08:35.187027Z",
     "iopub.status.busy": "2021-10-13T09:08:35.186159Z",
     "iopub.status.idle": "2021-10-13T09:08:35.198111Z",
     "shell.execute_reply": "2021-10-13T09:08:35.196836Z",
     "shell.execute_reply.started": "2021-10-13T09:08:35.186993Z"
    }
   },
   "outputs": [],
   "source": [
    "def create_xgb_pipeline(quantile_transform: str, n_estimators: int, max_depth: int,\n",
    "                        learning_rate: float, gamma: float, reg_lambda: float,\n",
    "                        scale_pos_weight: float, subsample: float,\n",
    "                        colsample_bytree: float) -> Pipeline:\n",
    "    \"\"\" Returns a pipeline object created around XGBoost algorithm\n",
    "    \n",
    "    Takes data preparation and XGBoost Classifier\n",
    "        parameters as input, creates a Scikit-learn\n",
    "        pipeline object and returns it\n",
    "    \n",
    "    Parameters\n",
    "    ----------\n",
    "    quantile_transform : str\n",
    "        - \"Yes\": Quantile Transformation will be performed\n",
    "        - \"No\": No Transformation\n",
    "    \n",
    "    n_estimators: int\n",
    "        n_estimators argument of xgb.XGBClassifier\n",
    "    \n",
    "    max_depth: int\n",
    "        max_depth argument of xgb.XGBClassifier\n",
    "\n",
    "    learning_rate: float\n",
    "        learning_rate argument of xgb.XGBClassifier\n",
    "    \n",
    "    gamma: float\n",
    "        gamma argument of xgb.XGBClassifier\n",
    "    \n",
    "    reg_lambda: float\n",
    "        reg_lambda argument of xgb.XGBClassifier\n",
    "    \n",
    "    scale_pos_weight: float\n",
    "        scale_pos_weight argument of xgb.XGBClassifier\n",
    "    \n",
    "    subsample: float\n",
    "        subsample argument of xgb.XGBClassifier\n",
    "    \n",
    "    colsample_bytree: float\n",
    "        colsample_bytree argument of xgb.XGBClassifier\n",
    "    \n",
    "    Returns\n",
    "    -------\n",
    "    pipeline : Pipeline\n",
    "        The pipeline object from Scikit-Learn\n",
    "    \"\"\"\n",
    "    pipeline_steps = []\n",
    "    \n",
    "    # Adding SimpleImputer to pipeline\n",
    "    imputer = SimpleImputer(strategy = 'median')\n",
    "    pipeline_steps.append(('median_imputer', imputer))\n",
    "\n",
    "    # Adding QuantileTransformer to pipeline (if required)\n",
    "    if quantile_transform == \"Yes\":\n",
    "        quantile_transformer = QuantileTransformer(n_quantiles=1000,\n",
    "                                                   output_distribution='normal',\n",
    "                                                   random_state=42)\n",
    "\n",
    "        transformer = ColumnTransformer(transformers=[('quantile_transformer',\n",
    "                                                       quantile_transformer,\n",
    "                                                       [2, 3, 4, 6, 7, 8, 9])],\n",
    "                                        n_jobs=-1,\n",
    "                                        remainder='passthrough')\n",
    "        pipeline_steps.append(('transformer', transformer))\n",
    "    \n",
    "    # Adding CART Model to pipeline\n",
    "    model = xgb.XGBClassifier(objective = \"binary:logistic\",\n",
    "                              use_label_encoder = False,\n",
    "                              tree_method = \"gpu_hist\", \n",
    "                              n_estimators = n_estimators, \n",
    "                              max_depth = max_depth,\n",
    "                              learning_rate = learning_rate,\n",
    "                              gamma = gamma,\n",
    "                              reg_lambda = reg_lambda,\n",
    "                              scale_pos_weight = scale_pos_weight,\n",
    "                              subsample = subsample,\n",
    "                              colsample_bytree = colsample_bytree,\n",
    "                              verbosity = 0,\n",
    "                              n_jobs = -1,\n",
    "                              random_state = 42)\n",
    "    \n",
    "    pipeline_steps.append(('xgb_model', model))\n",
    "    \n",
    "    # Building Pipeline Object\n",
    "    pipeline = Pipeline(steps = pipeline_steps)\n",
    "    \n",
    "    return pipeline"
   ]
  },
  {
   "cell_type": "code",
   "execution_count": 9,
   "metadata": {
    "execution": {
     "iopub.execute_input": "2021-10-13T09:08:35.604230Z",
     "iopub.status.busy": "2021-10-13T09:08:35.603536Z",
     "iopub.status.idle": "2021-10-13T09:08:35.615914Z",
     "shell.execute_reply": "2021-10-13T09:08:35.614242Z",
     "shell.execute_reply.started": "2021-10-13T09:08:35.604200Z"
    }
   },
   "outputs": [],
   "source": [
    "def objective(trial: optuna.trial.Trial) -> np.ndarray:\n",
    "    \"\"\" Returns mean ROC-AUC score for XGBoost Classification\n",
    "        algorithm\n",
    "    \n",
    "    Objective function for optimizing XGBoost algorithm\n",
    "        using Optuna. Takes optuna Trial object as input,\n",
    "        performs 10-fold cross-validation and returns\n",
    "        mean ROC-AUC score for a set of hyperparameters\n",
    "        of XGBoost modeling pipeline.\n",
    "        \n",
    "    Parameters\n",
    "    ----------\n",
    "    trial : optuna.trial.Trial\n",
    "        A trial is a process of evaluating an objective function.\n",
    "        This object is passed to an objective function and provides\n",
    "        interfaces to get parameter suggestion, manage the trial’s\n",
    "        state, and set/get user-defined attributes of the trial.\n",
    "    \n",
    "    Returns\n",
    "    -------\n",
    "    roc_auc_score : np.ndarray\n",
    "        Mean ROC-AUC Score of 10-fold cross-validation\n",
    "        for a XGBoost modeling pipeline with a set of\n",
    "        hyperparameters.\n",
    "    \"\"\"\n",
    "    # Data preparation parameters\n",
    "    quantile_transform = trial.suggest_categorical(\"quantile_transform\", [\"Yes\", \"No\"])\n",
    "    \n",
    "    # Modeling parameters\n",
    "    n_estimators = trial.suggest_int(\"n_estimators\", low=100, high=1000, step=10)\n",
    "    max_depth = trial.suggest_int(\"max_depth\", low=3, high=13, step=2)\n",
    "    \n",
    "    learning_rate = trial.suggest_loguniform(\"learning_rate\", low=0.01, high=0.2)\n",
    "    \n",
    "    gamma = trial.suggest_float(\"gamma\", low=0.05, high=1.0, step=0.05)\n",
    "    reg_lambda = trial.suggest_float(\"reg_lambda\", low=0.001, high=100.0, log = True)\n",
    "    scale_pos_weight = trial.suggest_float(\"scale_pos_weight\", low=1.0, high=2.0, step=0.05)\n",
    "    subsample = trial.suggest_float(\"subsample\", low=0.6, high=1.0, step=0.1)\n",
    "    colsample_bytree = trial.suggest_float(\"colsample_bytree\", low=0.6, high=1.0, step=0.1)\n",
    "    \n",
    "    # Building modeling pipeline\n",
    "    pipeline = create_xgb_pipeline(quantile_transform, n_estimators, max_depth,\n",
    "                                   learning_rate, gamma,reg_lambda,\n",
    "                                   scale_pos_weight, subsample, colsample_bytree)\n",
    "    \n",
    "    # Defining Cross-Validation\n",
    "    cv = RepeatedStratifiedKFold(n_splits=10, n_repeats=1, random_state=42)\n",
    "    scores = cross_val_score(pipeline, X, y, scoring='roc_auc', cv=cv, n_jobs=-1)\n",
    "    \n",
    "    return np.mean(scores)"
   ]
  },
  {
   "cell_type": "code",
   "execution_count": 10,
   "metadata": {
    "execution": {
     "iopub.execute_input": "2021-10-13T09:08:36.449283Z",
     "iopub.status.busy": "2021-10-13T09:08:36.448971Z",
     "iopub.status.idle": "2021-10-13T10:39:00.880865Z",
     "shell.execute_reply": "2021-10-13T10:39:00.879813Z",
     "shell.execute_reply.started": "2021-10-13T09:08:36.449255Z"
    }
   },
   "outputs": [
    {
     "name": "stderr",
     "output_type": "stream",
     "text": [
      "\u001b[32m[I 2021-10-13 09:08:36,451]\u001b[0m A new study created in memory with name: no-name-4c7cd9f6-dde2-4827-a3c4-d8400179393b\u001b[0m\n",
      "/opt/conda/lib/python3.7/site-packages/optuna/progress_bar.py:47: ExperimentalWarning: Progress bar is experimental (supported from v1.2.0). The interface can change in the future.\n",
      "  self._init_valid()\n"
     ]
    },
    {
     "data": {
      "application/vnd.jupyter.widget-view+json": {
       "model_id": "0f8451fb5e8143c782e54e234f5262dd",
       "version_major": 2,
       "version_minor": 0
      },
      "text/plain": [
       "  0%|          | 0/50 [00:00<?, ?it/s]"
      ]
     },
     "metadata": {},
     "output_type": "display_data"
    },
    {
     "name": "stdout",
     "output_type": "stream",
     "text": [
      "\u001b[32m[I 2021-10-13 09:10:03,982]\u001b[0m Trial 0 finished with value: 0.9830265407727726 and parameters: {'quantile_transform': 'Yes', 'n_estimators': 990, 'max_depth': 7, 'learning_rate': 0.02117304281067758, 'gamma': 0.3, 'reg_lambda': 2.3159038099097997, 'scale_pos_weight': 1.8, 'subsample': 0.6, 'colsample_bytree': 0.6}. Best is trial 0 with value: 0.9830265407727726.\u001b[0m\n",
      "\u001b[32m[I 2021-10-13 09:11:01,205]\u001b[0m Trial 1 finished with value: 0.9801597175697137 and parameters: {'quantile_transform': 'No', 'n_estimators': 710, 'max_depth': 9, 'learning_rate': 0.17653036620552098, 'gamma': 0.5, 'reg_lambda': 0.5879160719090933, 'scale_pos_weight': 1.45, 'subsample': 0.7, 'colsample_bytree': 0.9}. Best is trial 0 with value: 0.9830265407727726.\u001b[0m\n",
      "\u001b[32m[I 2021-10-13 09:11:32,605]\u001b[0m Trial 2 finished with value: 0.9821728534431386 and parameters: {'quantile_transform': 'No', 'n_estimators': 900, 'max_depth': 5, 'learning_rate': 0.02523845411952925, 'gamma': 0.7500000000000001, 'reg_lambda': 0.8717852112947829, 'scale_pos_weight': 1.9500000000000002, 'subsample': 0.9, 'colsample_bytree': 0.9}. Best is trial 0 with value: 0.9830265407727726.\u001b[0m\n",
      "\u001b[32m[I 2021-10-13 09:12:21,171]\u001b[0m Trial 3 finished with value: 0.9835804196015051 and parameters: {'quantile_transform': 'Yes', 'n_estimators': 420, 'max_depth': 11, 'learning_rate': 0.07421014952567881, 'gamma': 0.45, 'reg_lambda': 0.14434509338348608, 'scale_pos_weight': 1.15, 'subsample': 1.0, 'colsample_bytree': 0.6}. Best is trial 3 with value: 0.9835804196015051.\u001b[0m\n",
      "\u001b[32m[I 2021-10-13 09:12:54,349]\u001b[0m Trial 4 finished with value: 0.9830269550697434 and parameters: {'quantile_transform': 'No', 'n_estimators': 120, 'max_depth': 11, 'learning_rate': 0.09847654462127817, 'gamma': 0.4, 'reg_lambda': 4.645263152672864, 'scale_pos_weight': 1.9500000000000002, 'subsample': 0.9, 'colsample_bytree': 1.0}. Best is trial 3 with value: 0.9835804196015051.\u001b[0m\n",
      "\u001b[32m[I 2021-10-13 09:14:08,621]\u001b[0m Trial 5 finished with value: 0.9810195321971917 and parameters: {'quantile_transform': 'No', 'n_estimators': 490, 'max_depth': 11, 'learning_rate': 0.1279203756379161, 'gamma': 0.4, 'reg_lambda': 0.06512975987926632, 'scale_pos_weight': 1.45, 'subsample': 0.7, 'colsample_bytree': 0.6}. Best is trial 3 with value: 0.9835804196015051.\u001b[0m\n",
      "\u001b[32m[I 2021-10-13 09:15:49,114]\u001b[0m Trial 6 finished with value: 0.9818586883243384 and parameters: {'quantile_transform': 'No', 'n_estimators': 630, 'max_depth': 13, 'learning_rate': 0.0947247275251654, 'gamma': 0.25, 'reg_lambda': 0.08124688826748627, 'scale_pos_weight': 1.5, 'subsample': 0.9, 'colsample_bytree': 1.0}. Best is trial 3 with value: 0.9835804196015051.\u001b[0m\n",
      "\u001b[32m[I 2021-10-13 09:16:40,450]\u001b[0m Trial 7 finished with value: 0.9818407839040588 and parameters: {'quantile_transform': 'Yes', 'n_estimators': 630, 'max_depth': 13, 'learning_rate': 0.15243288428761068, 'gamma': 0.4, 'reg_lambda': 0.0034892589975801746, 'scale_pos_weight': 1.05, 'subsample': 0.9, 'colsample_bytree': 0.9}. Best is trial 3 with value: 0.9835804196015051.\u001b[0m\n",
      "\u001b[32m[I 2021-10-13 09:17:29,342]\u001b[0m Trial 8 finished with value: 0.9814549919511449 and parameters: {'quantile_transform': 'Yes', 'n_estimators': 690, 'max_depth': 13, 'learning_rate': 0.19464419455344922, 'gamma': 0.6500000000000001, 'reg_lambda': 3.136415680473286, 'scale_pos_weight': 1.15, 'subsample': 0.8, 'colsample_bytree': 1.0}. Best is trial 3 with value: 0.9835804196015051.\u001b[0m\n",
      "\u001b[32m[I 2021-10-13 09:18:26,349]\u001b[0m Trial 9 finished with value: 0.9824273122907563 and parameters: {'quantile_transform': 'Yes', 'n_estimators': 750, 'max_depth': 7, 'learning_rate': 0.0614186183575285, 'gamma': 0.4, 'reg_lambda': 0.0013462001275805658, 'scale_pos_weight': 1.9500000000000002, 'subsample': 0.9, 'colsample_bytree': 0.9}. Best is trial 3 with value: 0.9835804196015051.\u001b[0m\n",
      "\u001b[32m[I 2021-10-13 09:18:34,618]\u001b[0m Trial 10 finished with value: 0.9659703859502635 and parameters: {'quantile_transform': 'Yes', 'n_estimators': 360, 'max_depth': 3, 'learning_rate': 0.010494799630643963, 'gamma': 1.0, 'reg_lambda': 56.90418185533467, 'scale_pos_weight': 1.25, 'subsample': 1.0, 'colsample_bytree': 0.7}. Best is trial 3 with value: 0.9835804196015051.\u001b[0m\n",
      "\u001b[32m[I 2021-10-13 09:18:54,415]\u001b[0m Trial 11 finished with value: 0.9819921602938841 and parameters: {'quantile_transform': 'No', 'n_estimators': 120, 'max_depth': 9, 'learning_rate': 0.06276122559567572, 'gamma': 0.05, 'reg_lambda': 25.210909498441314, 'scale_pos_weight': 1.65, 'subsample': 1.0, 'colsample_bytree': 0.7}. Best is trial 3 with value: 0.9835804196015051.\u001b[0m\n",
      "\u001b[32m[I 2021-10-13 09:19:26,098]\u001b[0m Trial 12 finished with value: 0.982861968323148 and parameters: {'quantile_transform': 'Yes', 'n_estimators': 160, 'max_depth': 11, 'learning_rate': 0.081070583654401, 'gamma': 0.6500000000000001, 'reg_lambda': 0.024142660911810467, 'scale_pos_weight': 1.25, 'subsample': 1.0, 'colsample_bytree': 0.8}. Best is trial 3 with value: 0.9835804196015051.\u001b[0m\n",
      "\u001b[32m[I 2021-10-13 09:20:49,202]\u001b[0m Trial 13 finished with value: 0.983553244434216 and parameters: {'quantile_transform': 'No', 'n_estimators': 320, 'max_depth': 11, 'learning_rate': 0.03224952715028904, 'gamma': 0.15000000000000002, 'reg_lambda': 11.9319299995858, 'scale_pos_weight': 1.7000000000000002, 'subsample': 0.8, 'colsample_bytree': 0.7}. Best is trial 3 with value: 0.9835804196015051.\u001b[0m\n",
      "\u001b[32m[I 2021-10-13 09:22:11,374]\u001b[0m Trial 14 finished with value: 0.9833287897940671 and parameters: {'quantile_transform': 'No', 'n_estimators': 330, 'max_depth': 11, 'learning_rate': 0.033785231430338965, 'gamma': 0.1, 'reg_lambda': 19.91041901552444, 'scale_pos_weight': 1.7000000000000002, 'subsample': 0.8, 'colsample_bytree': 0.7}. Best is trial 3 with value: 0.9835804196015051.\u001b[0m\n",
      "\u001b[32m[I 2021-10-13 09:23:14,705]\u001b[0m Trial 15 finished with value: 0.9832307118231357 and parameters: {'quantile_transform': 'Yes', 'n_estimators': 390, 'max_depth': 9, 'learning_rate': 0.047126163895508, 'gamma': 0.2, 'reg_lambda': 0.21934135663395313, 'scale_pos_weight': 1.0, 'subsample': 0.7, 'colsample_bytree': 0.6}. Best is trial 3 with value: 0.9835804196015051.\u001b[0m\n",
      "\u001b[32m[I 2021-10-13 09:24:47,393]\u001b[0m Trial 16 finished with value: 0.9835001281842126 and parameters: {'quantile_transform': 'No', 'n_estimators': 270, 'max_depth': 11, 'learning_rate': 0.01621400680708773, 'gamma': 0.9000000000000001, 'reg_lambda': 0.012870637874009825, 'scale_pos_weight': 1.35, 'subsample': 0.8, 'colsample_bytree': 0.7}. Best is trial 3 with value: 0.9835804196015051.\u001b[0m\n",
      "\u001b[32m[I 2021-10-13 09:26:04,187]\u001b[0m Trial 17 finished with value: 0.9833695221744462 and parameters: {'quantile_transform': 'Yes', 'n_estimators': 490, 'max_depth': 9, 'learning_rate': 0.03687629663502617, 'gamma': 0.15000000000000002, 'reg_lambda': 9.093892140931844, 'scale_pos_weight': 1.65, 'subsample': 0.7, 'colsample_bytree': 0.6}. Best is trial 3 with value: 0.9835804196015051.\u001b[0m\n",
      "\u001b[32m[I 2021-10-13 09:27:50,754]\u001b[0m Trial 18 finished with value: 0.9828274566909265 and parameters: {'quantile_transform': 'Yes', 'n_estimators': 250, 'max_depth': 13, 'learning_rate': 0.04867554059032396, 'gamma': 0.6000000000000001, 'reg_lambda': 0.2345014366362133, 'scale_pos_weight': 1.8, 'subsample': 0.6, 'colsample_bytree': 0.8}. Best is trial 3 with value: 0.9835804196015051.\u001b[0m\n",
      "\u001b[32m[I 2021-10-13 09:28:26,684]\u001b[0m Trial 19 finished with value: 0.9829568132225711 and parameters: {'quantile_transform': 'No', 'n_estimators': 450, 'max_depth': 7, 'learning_rate': 0.028919585475199752, 'gamma': 0.3, 'reg_lambda': 0.9747427686285715, 'scale_pos_weight': 1.55, 'subsample': 0.8, 'colsample_bytree': 0.8}. Best is trial 3 with value: 0.9835804196015051.\u001b[0m\n",
      "\u001b[32m[I 2021-10-13 09:28:38,906]\u001b[0m Trial 20 finished with value: 0.9798360107515471 and parameters: {'quantile_transform': 'No', 'n_estimators': 550, 'max_depth': 5, 'learning_rate': 0.06806074671132323, 'gamma': 0.8, 'reg_lambda': 60.218415360472285, 'scale_pos_weight': 1.35, 'subsample': 1.0, 'colsample_bytree': 0.7}. Best is trial 3 with value: 0.9835804196015051.\u001b[0m\n",
      "\u001b[32m[I 2021-10-13 09:30:09,205]\u001b[0m Trial 21 finished with value: 0.9829685359366801 and parameters: {'quantile_transform': 'No', 'n_estimators': 260, 'max_depth': 11, 'learning_rate': 0.013305214529783482, 'gamma': 1.0, 'reg_lambda': 0.010606881055468552, 'scale_pos_weight': 1.25, 'subsample': 0.8, 'colsample_bytree': 0.7}. Best is trial 3 with value: 0.9835804196015051.\u001b[0m\n",
      "\u001b[32m[I 2021-10-13 09:31:32,204]\u001b[0m Trial 22 finished with value: 0.983088690068018 and parameters: {'quantile_transform': 'No', 'n_estimators': 250, 'max_depth': 11, 'learning_rate': 0.018481887270543722, 'gamma': 0.9000000000000001, 'reg_lambda': 0.01545172525501539, 'scale_pos_weight': 1.35, 'subsample': 0.8, 'colsample_bytree': 0.6}. Best is trial 3 with value: 0.9835804196015051.\u001b[0m\n",
      "\u001b[32m[I 2021-10-13 09:34:22,918]\u001b[0m Trial 23 finished with value: 0.9838802535026613 and parameters: {'quantile_transform': 'No', 'n_estimators': 300, 'max_depth': 13, 'learning_rate': 0.019034105313442722, 'gamma': 0.5, 'reg_lambda': 0.06584576750243745, 'scale_pos_weight': 1.1, 'subsample': 0.8, 'colsample_bytree': 0.7}. Best is trial 23 with value: 0.9838802535026613.\u001b[0m\n",
      "\u001b[32m[I 2021-10-13 09:36:47,974]\u001b[0m Trial 24 finished with value: 0.9830598001735806 and parameters: {'quantile_transform': 'No', 'n_estimators': 440, 'max_depth': 13, 'learning_rate': 0.03786431808058243, 'gamma': 0.5, 'reg_lambda': 0.0678204787898068, 'scale_pos_weight': 1.0, 'subsample': 0.7, 'colsample_bytree': 0.7}. Best is trial 23 with value: 0.9838802535026613.\u001b[0m\n",
      "\u001b[32m[I 2021-10-13 09:39:38,085]\u001b[0m Trial 25 finished with value: 0.9839626186599115 and parameters: {'quantile_transform': 'No', 'n_estimators': 330, 'max_depth': 13, 'learning_rate': 0.022515228734029533, 'gamma': 0.55, 'reg_lambda': 0.14049525397677756, 'scale_pos_weight': 1.1, 'subsample': 0.9, 'colsample_bytree': 0.6}. Best is trial 25 with value: 0.9839626186599115.\u001b[0m\n",
      "\u001b[32m[I 2021-10-13 09:41:47,835]\u001b[0m Trial 26 finished with value: 0.9824125781514992 and parameters: {'quantile_transform': 'Yes', 'n_estimators': 200, 'max_depth': 13, 'learning_rate': 0.02224949814090819, 'gamma': 0.55, 'reg_lambda': 0.13629489113107668, 'scale_pos_weight': 1.1, 'subsample': 1.0, 'colsample_bytree': 0.6}. Best is trial 25 with value: 0.9839626186599115.\u001b[0m\n",
      "\u001b[32m[I 2021-10-13 09:45:47,969]\u001b[0m Trial 27 finished with value: 0.9831602291197046 and parameters: {'quantile_transform': 'No', 'n_estimators': 410, 'max_depth': 13, 'learning_rate': 0.01080696700005441, 'gamma': 0.7000000000000001, 'reg_lambda': 0.02779123233838516, 'scale_pos_weight': 1.15, 'subsample': 0.9, 'colsample_bytree': 0.6}. Best is trial 25 with value: 0.9839626186599115.\u001b[0m\n",
      "\u001b[32m[I 2021-10-13 09:49:07,169]\u001b[0m Trial 28 finished with value: 0.982547553911664 and parameters: {'quantile_transform': 'Yes', 'n_estimators': 330, 'max_depth': 13, 'learning_rate': 0.013436076852026206, 'gamma': 0.5, 'reg_lambda': 0.4101030260233087, 'scale_pos_weight': 1.15, 'subsample': 0.9, 'colsample_bytree': 0.6}. Best is trial 25 with value: 0.9839626186599115.\u001b[0m\n",
      "\u001b[32m[I 2021-10-13 09:52:55,746]\u001b[0m Trial 29 finished with value: 0.9839766093948997 and parameters: {'quantile_transform': 'Yes', 'n_estimators': 580, 'max_depth': 13, 'learning_rate': 0.021763276538258144, 'gamma': 0.35000000000000003, 'reg_lambda': 1.5504121481058792, 'scale_pos_weight': 1.2, 'subsample': 1.0, 'colsample_bytree': 0.6}. Best is trial 29 with value: 0.9839766093948997.\u001b[0m\n",
      "\u001b[32m[I 2021-10-13 09:57:38,312]\u001b[0m Trial 30 finished with value: 0.9833328259863376 and parameters: {'quantile_transform': 'No', 'n_estimators': 840, 'max_depth': 13, 'learning_rate': 0.020983479389266764, 'gamma': 0.3, 'reg_lambda': 1.765798441515326, 'scale_pos_weight': 1.05, 'subsample': 0.6, 'colsample_bytree': 0.6}. Best is trial 29 with value: 0.9839766093948997.\u001b[0m\n",
      "\u001b[32m[I 2021-10-13 10:02:34,768]\u001b[0m Trial 31 finished with value: 0.9836498823732196 and parameters: {'quantile_transform': 'Yes', 'n_estimators': 550, 'max_depth': 13, 'learning_rate': 0.01593069108329092, 'gamma': 0.45, 'reg_lambda': 0.12265179369355031, 'scale_pos_weight': 1.2, 'subsample': 1.0, 'colsample_bytree': 0.6}. Best is trial 29 with value: 0.9839766093948997.\u001b[0m\n",
      "\u001b[32m[I 2021-10-13 10:07:20,244]\u001b[0m Trial 32 finished with value: 0.9837786341608604 and parameters: {'quantile_transform': 'Yes', 'n_estimators': 570, 'max_depth': 13, 'learning_rate': 0.014902931791532417, 'gamma': 0.55, 'reg_lambda': 0.5445259663586361, 'scale_pos_weight': 1.25, 'subsample': 1.0, 'colsample_bytree': 0.6}. Best is trial 29 with value: 0.9839766093948997.\u001b[0m\n",
      "\u001b[32m[I 2021-10-13 10:10:24,285]\u001b[0m Trial 33 finished with value: 0.9840120040450003 and parameters: {'quantile_transform': 'Yes', 'n_estimators': 570, 'max_depth': 13, 'learning_rate': 0.024950194312574222, 'gamma': 0.6000000000000001, 'reg_lambda': 1.1653190123688406, 'scale_pos_weight': 1.3, 'subsample': 0.9, 'colsample_bytree': 0.6}. Best is trial 33 with value: 0.9840120040450003.\u001b[0m\n",
      "\u001b[32m[I 2021-10-13 10:13:38,591]\u001b[0m Trial 34 finished with value: 0.9838163885403006 and parameters: {'quantile_transform': 'Yes', 'n_estimators': 1000, 'max_depth': 13, 'learning_rate': 0.025965952668533375, 'gamma': 0.6000000000000001, 'reg_lambda': 1.525401029448501, 'scale_pos_weight': 1.4, 'subsample': 0.9, 'colsample_bytree': 0.7}. Best is trial 33 with value: 0.9840120040450003.\u001b[0m\n",
      "\u001b[32m[I 2021-10-13 10:15:14,918]\u001b[0m Trial 35 finished with value: 0.9839841795793873 and parameters: {'quantile_transform': 'Yes', 'n_estimators': 780, 'max_depth': 9, 'learning_rate': 0.021420784503658502, 'gamma': 0.7500000000000001, 'reg_lambda': 0.9271286949162982, 'scale_pos_weight': 1.1, 'subsample': 0.9, 'colsample_bytree': 0.6}. Best is trial 33 with value: 0.9840120040450003.\u001b[0m\n",
      "\u001b[32m[I 2021-10-13 10:15:45,839]\u001b[0m Trial 36 finished with value: 0.9812877999089713 and parameters: {'quantile_transform': 'Yes', 'n_estimators': 880, 'max_depth': 5, 'learning_rate': 0.027018931692884624, 'gamma': 0.8, 'reg_lambda': 5.581765971803096, 'scale_pos_weight': 1.3, 'subsample': 0.9, 'colsample_bytree': 0.6}. Best is trial 33 with value: 0.9840120040450003.\u001b[0m\n",
      "\u001b[32m[I 2021-10-13 10:17:22,853]\u001b[0m Trial 37 finished with value: 0.98395705119053 and parameters: {'quantile_transform': 'Yes', 'n_estimators': 800, 'max_depth': 9, 'learning_rate': 0.022074690435173655, 'gamma': 0.7500000000000001, 'reg_lambda': 0.9505842458333074, 'scale_pos_weight': 1.2, 'subsample': 0.9, 'colsample_bytree': 0.6}. Best is trial 33 with value: 0.9840120040450003.\u001b[0m\n",
      "\u001b[32m[I 2021-10-13 10:17:55,159]\u001b[0m Trial 38 finished with value: 0.9822002755793434 and parameters: {'quantile_transform': 'Yes', 'n_estimators': 930, 'max_depth': 5, 'learning_rate': 0.04143265913189838, 'gamma': 0.35000000000000003, 'reg_lambda': 2.8964021096348205, 'scale_pos_weight': 1.05, 'subsample': 0.9, 'colsample_bytree': 0.6}. Best is trial 33 with value: 0.9840120040450003.\u001b[0m\n",
      "\u001b[32m[I 2021-10-13 10:18:08,123]\u001b[0m Trial 39 finished with value: 0.9768775993079105 and parameters: {'quantile_transform': 'Yes', 'n_estimators': 700, 'max_depth': 3, 'learning_rate': 0.030493406435174068, 'gamma': 0.7000000000000001, 'reg_lambda': 0.3719609775702089, 'scale_pos_weight': 1.1, 'subsample': 0.9, 'colsample_bytree': 0.6}. Best is trial 33 with value: 0.9840120040450003.\u001b[0m\n",
      "\u001b[32m[I 2021-10-13 10:20:17,194]\u001b[0m Trial 40 finished with value: 0.9839323771975366 and parameters: {'quantile_transform': 'Yes', 'n_estimators': 650, 'max_depth': 11, 'learning_rate': 0.0243088792716316, 'gamma': 0.6000000000000001, 'reg_lambda': 0.8631648014238738, 'scale_pos_weight': 1.45, 'subsample': 1.0, 'colsample_bytree': 0.6}. Best is trial 33 with value: 0.9840120040450003.\u001b[0m\n",
      "\u001b[32m[I 2021-10-13 10:22:04,112]\u001b[0m Trial 41 finished with value: 0.9839853962050288 and parameters: {'quantile_transform': 'Yes', 'n_estimators': 780, 'max_depth': 9, 'learning_rate': 0.018474476366300112, 'gamma': 0.7500000000000001, 'reg_lambda': 1.0075366244795763, 'scale_pos_weight': 1.2, 'subsample': 0.9, 'colsample_bytree': 0.6}. Best is trial 33 with value: 0.9840120040450003.\u001b[0m\n",
      "\u001b[32m[I 2021-10-13 10:22:57,627]\u001b[0m Trial 42 finished with value: 0.983050769289205 and parameters: {'quantile_transform': 'Yes', 'n_estimators': 750, 'max_depth': 7, 'learning_rate': 0.01978710943405152, 'gamma': 0.8500000000000001, 'reg_lambda': 1.4546488307209184, 'scale_pos_weight': 1.2, 'subsample': 0.9, 'colsample_bytree': 0.6}. Best is trial 33 with value: 0.9840120040450003.\u001b[0m\n",
      "\u001b[32m[I 2021-10-13 10:24:26,329]\u001b[0m Trial 43 finished with value: 0.9831573780410187 and parameters: {'quantile_transform': 'Yes', 'n_estimators': 590, 'max_depth': 9, 'learning_rate': 0.01314602019946233, 'gamma': 0.7000000000000001, 'reg_lambda': 4.579333385565852, 'scale_pos_weight': 1.3, 'subsample': 0.9, 'colsample_bytree': 0.6}. Best is trial 33 with value: 0.9840120040450003.\u001b[0m\n",
      "\u001b[32m[I 2021-10-13 10:25:44,850]\u001b[0m Trial 44 finished with value: 0.983955600424021 and parameters: {'quantile_transform': 'Yes', 'n_estimators': 510, 'max_depth': 9, 'learning_rate': 0.023615701006468003, 'gamma': 0.6500000000000001, 'reg_lambda': 0.5752972296794899, 'scale_pos_weight': 1.15, 'subsample': 0.9, 'colsample_bytree': 0.6}. Best is trial 33 with value: 0.9840120040450003.\u001b[0m\n",
      "\u001b[32m[I 2021-10-13 10:26:30,989]\u001b[0m Trial 45 finished with value: 0.9812815487519645 and parameters: {'quantile_transform': 'Yes', 'n_estimators': 760, 'max_depth': 7, 'learning_rate': 0.017083985475694632, 'gamma': 0.7500000000000001, 'reg_lambda': 2.492785425435073, 'scale_pos_weight': 1.1, 'subsample': 1.0, 'colsample_bytree': 0.9}. Best is trial 33 with value: 0.9840120040450003.\u001b[0m\n",
      "\u001b[32m[I 2021-10-13 10:30:03,867]\u001b[0m Trial 46 finished with value: 0.9837468663540949 and parameters: {'quantile_transform': 'Yes', 'n_estimators': 660, 'max_depth': 11, 'learning_rate': 0.011943298523911442, 'gamma': 0.45, 'reg_lambda': 0.20427916419492056, 'scale_pos_weight': 1.0, 'subsample': 1.0, 'colsample_bytree': 0.7}. Best is trial 33 with value: 0.9840120040450003.\u001b[0m\n",
      "\u001b[32m[I 2021-10-13 10:33:35,196]\u001b[0m Trial 47 finished with value: 0.9840078017187359 and parameters: {'quantile_transform': 'Yes', 'n_estimators': 940, 'max_depth': 11, 'learning_rate': 0.018098929914886267, 'gamma': 0.35000000000000003, 'reg_lambda': 5.40405582326473, 'scale_pos_weight': 1.2, 'subsample': 0.9, 'colsample_bytree': 0.6}. Best is trial 33 with value: 0.9840120040450003.\u001b[0m\n",
      "\u001b[32m[I 2021-10-13 10:35:45,883]\u001b[0m Trial 48 finished with value: 0.983718228854468 and parameters: {'quantile_transform': 'Yes', 'n_estimators': 950, 'max_depth': 9, 'learning_rate': 0.019052090944983422, 'gamma': 0.35000000000000003, 'reg_lambda': 6.2624436394443235, 'scale_pos_weight': 1.3, 'subsample': 0.9, 'colsample_bytree': 0.7}. Best is trial 33 with value: 0.9840120040450003.\u001b[0m\n",
      "\u001b[32m[I 2021-10-13 10:39:00,871]\u001b[0m Trial 49 finished with value: 0.9833995963196642 and parameters: {'quantile_transform': 'Yes', 'n_estimators': 840, 'max_depth': 11, 'learning_rate': 0.014819005067187457, 'gamma': 0.2, 'reg_lambda': 14.48083871810591, 'scale_pos_weight': 1.2, 'subsample': 0.8, 'colsample_bytree': 0.8}. Best is trial 33 with value: 0.9840120040450003.\u001b[0m\n"
     ]
    }
   ],
   "source": [
    "study = optuna.create_study(direction = 'maximize')\n",
    "study.optimize(objective, show_progress_bar = True, n_trials = 50)"
   ]
  },
  {
   "cell_type": "code",
   "execution_count": 11,
   "metadata": {
    "execution": {
     "iopub.execute_input": "2021-10-13T10:39:00.884172Z",
     "iopub.status.busy": "2021-10-13T10:39:00.883362Z",
     "iopub.status.idle": "2021-10-13T10:39:00.894513Z",
     "shell.execute_reply": "2021-10-13T10:39:00.893517Z",
     "shell.execute_reply.started": "2021-10-13T10:39:00.884120Z"
    }
   },
   "outputs": [
    {
     "name": "stdout",
     "output_type": "stream",
     "text": [
      "Highest Score:  0.9840120040450003\n",
      "Best Parameters:  {'quantile_transform': 'Yes', 'n_estimators': 570, 'max_depth': 13, 'learning_rate': 0.024950194312574222, 'gamma': 0.6000000000000001, 'reg_lambda': 1.1653190123688406, 'scale_pos_weight': 1.3, 'subsample': 0.9, 'colsample_bytree': 0.6}\n",
      "Best Trial:  FrozenTrial(number=33, values=[0.9840120040450003], datetime_start=datetime.datetime(2021, 10, 13, 10, 7, 20, 250637), datetime_complete=datetime.datetime(2021, 10, 13, 10, 10, 24, 284671), params={'quantile_transform': 'Yes', 'n_estimators': 570, 'max_depth': 13, 'learning_rate': 0.024950194312574222, 'gamma': 0.6000000000000001, 'reg_lambda': 1.1653190123688406, 'scale_pos_weight': 1.3, 'subsample': 0.9, 'colsample_bytree': 0.6}, distributions={'quantile_transform': CategoricalDistribution(choices=('Yes', 'No')), 'n_estimators': IntUniformDistribution(high=1000, low=100, step=10), 'max_depth': IntUniformDistribution(high=13, low=3, step=2), 'learning_rate': LogUniformDistribution(high=0.2, low=0.01), 'gamma': DiscreteUniformDistribution(high=1.0, low=0.05, q=0.05), 'reg_lambda': LogUniformDistribution(high=100.0, low=0.001), 'scale_pos_weight': DiscreteUniformDistribution(high=2.0, low=1.0, q=0.05), 'subsample': DiscreteUniformDistribution(high=1.0, low=0.6, q=0.1), 'colsample_bytree': DiscreteUniformDistribution(high=1.0, low=0.6, q=0.1)}, user_attrs={}, system_attrs={}, intermediate_values={}, trial_id=33, state=TrialState.COMPLETE, value=None)\n"
     ]
    }
   ],
   "source": [
    "print(\"Highest Score: \", study.best_value)\n",
    "print(\"Best Parameters: \", study.best_params)\n",
    "print(\"Best Trial: \", study.best_trial)"
   ]
  },
  {
   "cell_type": "markdown",
   "metadata": {},
   "source": [
    "### Building Model with tuned parameters"
   ]
  },
  {
   "cell_type": "code",
   "execution_count": 12,
   "metadata": {
    "execution": {
     "iopub.execute_input": "2021-10-13T10:39:00.896823Z",
     "iopub.status.busy": "2021-10-13T10:39:00.896188Z",
     "iopub.status.idle": "2021-10-13T10:39:00.909528Z",
     "shell.execute_reply": "2021-10-13T10:39:00.908447Z",
     "shell.execute_reply.started": "2021-10-13T10:39:00.896781Z"
    }
   },
   "outputs": [],
   "source": [
    "tuned_params = study.best_params"
   ]
  },
  {
   "cell_type": "code",
   "execution_count": 13,
   "metadata": {
    "execution": {
     "iopub.execute_input": "2021-10-13T10:39:00.912676Z",
     "iopub.status.busy": "2021-10-13T10:39:00.911975Z",
     "iopub.status.idle": "2021-10-13T11:09:43.025083Z",
     "shell.execute_reply": "2021-10-13T11:09:43.024103Z",
     "shell.execute_reply.started": "2021-10-13T10:39:00.912630Z"
    }
   },
   "outputs": [],
   "source": [
    "# Building modeling pipeline\n",
    "pipeline = create_xgb_pipeline(quantile_transform = tuned_params[\"quantile_transform\"],\n",
    "                               n_estimators = tuned_params[\"n_estimators\"],\n",
    "                               max_depth = tuned_params[\"max_depth\"],\n",
    "                               learning_rate = tuned_params[\"learning_rate\"],\n",
    "                               gamma = tuned_params[\"gamma\"],\n",
    "                               reg_lambda = tuned_params[\"reg_lambda\"],\n",
    "                               scale_pos_weight = tuned_params[\"scale_pos_weight\"],\n",
    "                               subsample = tuned_params[\"subsample\"],\n",
    "                               colsample_bytree = tuned_params[\"colsample_bytree\"])\n",
    "\n",
    "# Defining model evaluation\n",
    "cv = RepeatedStratifiedKFold(n_splits=10, n_repeats=10, random_state=42)\n",
    "\n",
    "# Evaluating Model\n",
    "scores = cross_val_score(pipeline, X, y, scoring='roc_auc', cv = cv, n_jobs = -1)"
   ]
  },
  {
   "cell_type": "code",
   "execution_count": 14,
   "metadata": {
    "execution": {
     "iopub.execute_input": "2021-10-13T11:09:43.027241Z",
     "iopub.status.busy": "2021-10-13T11:09:43.026923Z",
     "iopub.status.idle": "2021-10-13T11:09:43.058034Z",
     "shell.execute_reply": "2021-10-13T11:09:43.057051Z",
     "shell.execute_reply.started": "2021-10-13T11:09:43.027201Z"
    }
   },
   "outputs": [
    {
     "name": "stdout",
     "output_type": "stream",
     "text": [
      "XGBoost Classifier Pipeline:  Pipeline(steps=[('median_imputer', SimpleImputer(strategy='median')),\n",
      "                ('transformer',\n",
      "                 ColumnTransformer(n_jobs=-1, remainder='passthrough',\n",
      "                                   transformers=[('quantile_transformer',\n",
      "                                                  QuantileTransformer(output_distribution='normal',\n",
      "                                                                      random_state=42),\n",
      "                                                  [2, 3, 4, 6, 7, 8, 9])])),\n",
      "                ('xgb_model',\n",
      "                 XGBClassifier(base_score=None, booster=None,\n",
      "                               colsample_bylevel=None, colsample_by...\n",
      "                               learning_rate=0.024950194312574222,\n",
      "                               max_delta_step=None, max_depth=13,\n",
      "                               min_child_weight=None, missing=nan,\n",
      "                               monotone_constraints=None, n_estimators=570,\n",
      "                               n_jobs=-1, num_parallel_tree=None,\n",
      "                               random_state=42, reg_alpha=None,\n",
      "                               reg_lambda=1.1653190123688406,\n",
      "                               scale_pos_weight=1.3, subsample=0.9,\n",
      "                               tree_method='gpu_hist', use_label_encoder=False,\n",
      "                               validate_parameters=None, verbosity=0))])\n",
      "Mean AUC-ROC Score of XGBoost Classifier: 0.9840 ± 0.0014\n"
     ]
    }
   ],
   "source": [
    "print(\"XGBoost Classifier Pipeline: \", pipeline)\n",
    "print('Mean AUC-ROC Score of XGBoost Classifier: %.4f \\u00B1 %.4f' % (np.mean(scores), np.std(scores)))"
   ]
  }
 ],
 "metadata": {
  "kernelspec": {
   "display_name": "Python 3.9: isp-churn-prediction",
   "language": "python",
   "name": "isp-churn-prediction"
  },
  "language_info": {
   "codemirror_mode": {
    "name": "ipython",
    "version": 3
   },
   "file_extension": ".py",
   "mimetype": "text/x-python",
   "name": "python",
   "nbconvert_exporter": "python",
   "pygments_lexer": "ipython3",
   "version": "3.9.7"
  }
 },
 "nbformat": 4,
 "nbformat_minor": 4
}
