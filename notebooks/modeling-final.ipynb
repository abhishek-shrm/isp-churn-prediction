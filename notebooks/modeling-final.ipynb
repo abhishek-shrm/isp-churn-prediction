{
 "cells": [
  {
   "cell_type": "markdown",
   "id": "12f2e1e0-1bd4-469b-a1ff-bac99f75573e",
   "metadata": {},
   "source": [
    "# Modeling - Final\n",
    "In this notebook, I have picked the best model from the previously trained Logistic Regression, KNN, Decision Tree, Random Forest, and XGBoost algorithms, trained it on the entire training set and analyzed its performance on the previously unseen test set."
   ]
  },
  {
   "cell_type": "markdown",
   "id": "259ea478-e459-4a2e-a2ed-60b0201e855d",
   "metadata": {},
   "source": [
    "The AUC-ROC for all the tried algorithms are as follows:"
   ]
  },
  {
   "cell_type": "markdown",
   "id": "088ffeb4-a8f9-4261-ad36-c71f01500261",
   "metadata": {},
   "source": [
    "| Algorithm           | Mean AUC-ROC | Standard Deviation |\n",
    "|---------------------|--------------|--------------------|\n",
    "| Logistic Regression |    0.9624    |       0.0027       |\n",
    "| K-Nearest Neighbors |    0.9748    |       0.0020       |\n",
    "| Decision Tree       |    0.9751    |       0.0021       |\n",
    "| Random Forest       |    0.9827    |       0.0015       |\n",
    "| XGBoost             |    0.9840    |       0.0014       |"
   ]
  },
  {
   "cell_type": "markdown",
   "id": "ee024c46-3890-4ac5-b77b-89b747b79f03",
   "metadata": {},
   "source": [
    "Among all these algorithms, XGBoost outperformed every other algorithm. It has both the highest mean AUC-ROC score and the lowest standard deviation. I'll use this algorithm for building the final classifier."
   ]
  },
  {
   "cell_type": "markdown",
   "id": "a5a2d9a8-c164-45ca-b260-20159949c8fe",
   "metadata": {},
   "source": [
    "## Table of Contents:\n",
    "1. Data Loading\n",
    "    - Train Data\n",
    "    - Test Data\n",
    "2. Preparing Test Data for Modeling\n",
    "    - Removing Non-Meaningful Variables\n",
    "    - Checking for Erroneous Rows\n",
    "    - Missing Values Treatment\n",
    "    - Creating *is_contract* column\n",
    "3. Exporting Processed Test Data\n",
    "4. Modeling\n",
    "    - Model Training\n",
    "    - Evaluation\n",
    "5. Exporting Trained Model"
   ]
  },
  {
   "cell_type": "code",
   "execution_count": 1,
   "id": "6f886eec-7023-42be-8c8c-ac29f24b925b",
   "metadata": {},
   "outputs": [],
   "source": [
    "# Importing required libraries and modules\n",
    "import os\n",
    "import sys\n",
    "import itertools\n",
    "import numpy as np\n",
    "import pandas as pd\n",
    "import seaborn as sns\n",
    "import xgboost as xgb\n",
    "from joblib import dump\n",
    "import matplotlib.pyplot as plt\n",
    "\n",
    "from sklearn.pipeline import Pipeline\n",
    "from sklearn.impute import SimpleImputer\n",
    "from sklearn.compose import ColumnTransformer\n",
    "from sklearn.preprocessing import QuantileTransformer\n",
    "\n",
    "from sklearn.metrics import (accuracy_score,\n",
    "                             classification_report,\n",
    "                             confusion_matrix,\n",
    "                             ConfusionMatrixDisplay,\n",
    "                             f1_score,\n",
    "                             roc_auc_score)"
   ]
  },
  {
   "cell_type": "code",
   "execution_count": 2,
   "id": "b937ac01-2629-4005-b119-e12529feb55e",
   "metadata": {},
   "outputs": [],
   "source": [
    "# Setting the seed\n",
    "np.random.seed(42)"
   ]
  },
  {
   "cell_type": "markdown",
   "id": "ea6ae5c5-7c18-48c4-8339-0af70fb43231",
   "metadata": {},
   "source": [
    "## Data Loading"
   ]
  },
  {
   "cell_type": "markdown",
   "id": "e7cbc98e-d2c7-4039-afe3-05c70203d313",
   "metadata": {},
   "source": [
    "### Train Data"
   ]
  },
  {
   "cell_type": "code",
   "execution_count": 3,
   "id": "bb0bbbb4-c2f6-4d05-86af-d2b979d42e50",
   "metadata": {
    "tags": []
   },
   "outputs": [],
   "source": [
    "train_prepared = pd.read_csv('../data/processed/train-prepared.csv')"
   ]
  },
  {
   "cell_type": "code",
   "execution_count": 4,
   "id": "481ebb2d-64b2-4f22-b72d-120bf432e89c",
   "metadata": {
    "tags": []
   },
   "outputs": [
    {
     "name": "stdout",
     "output_type": "stream",
     "text": [
      "Shape=> (62273, 11)\n"
     ]
    },
    {
     "data": {
      "text/html": [
       "<div>\n",
       "<style scoped>\n",
       "    .dataframe tbody tr th:only-of-type {\n",
       "        vertical-align: middle;\n",
       "    }\n",
       "\n",
       "    .dataframe tbody tr th {\n",
       "        vertical-align: top;\n",
       "    }\n",
       "\n",
       "    .dataframe thead th {\n",
       "        text-align: right;\n",
       "    }\n",
       "</style>\n",
       "<table border=\"1\" class=\"dataframe\">\n",
       "  <thead>\n",
       "    <tr style=\"text-align: right;\">\n",
       "      <th></th>\n",
       "      <th>is_tv_subscriber</th>\n",
       "      <th>is_movie_package_subscriber</th>\n",
       "      <th>subscription_age</th>\n",
       "      <th>bill_avg</th>\n",
       "      <th>remaining_contract</th>\n",
       "      <th>is_contract</th>\n",
       "      <th>service_failure_count</th>\n",
       "      <th>download_avg</th>\n",
       "      <th>upload_avg</th>\n",
       "      <th>download_over_limit</th>\n",
       "      <th>churn</th>\n",
       "    </tr>\n",
       "  </thead>\n",
       "  <tbody>\n",
       "    <tr>\n",
       "      <th>0</th>\n",
       "      <td>1</td>\n",
       "      <td>1</td>\n",
       "      <td>1.77</td>\n",
       "      <td>7</td>\n",
       "      <td>0.19</td>\n",
       "      <td>1</td>\n",
       "      <td>0</td>\n",
       "      <td>114.1</td>\n",
       "      <td>8.7</td>\n",
       "      <td>0</td>\n",
       "      <td>0</td>\n",
       "    </tr>\n",
       "    <tr>\n",
       "      <th>1</th>\n",
       "      <td>1</td>\n",
       "      <td>0</td>\n",
       "      <td>0.05</td>\n",
       "      <td>6</td>\n",
       "      <td>0.59</td>\n",
       "      <td>1</td>\n",
       "      <td>0</td>\n",
       "      <td>12.7</td>\n",
       "      <td>1.3</td>\n",
       "      <td>0</td>\n",
       "      <td>0</td>\n",
       "    </tr>\n",
       "    <tr>\n",
       "      <th>2</th>\n",
       "      <td>0</td>\n",
       "      <td>0</td>\n",
       "      <td>1.42</td>\n",
       "      <td>18</td>\n",
       "      <td>0.00</td>\n",
       "      <td>0</td>\n",
       "      <td>0</td>\n",
       "      <td>0.4</td>\n",
       "      <td>0.0</td>\n",
       "      <td>0</td>\n",
       "      <td>1</td>\n",
       "    </tr>\n",
       "    <tr>\n",
       "      <th>3</th>\n",
       "      <td>1</td>\n",
       "      <td>0</td>\n",
       "      <td>0.73</td>\n",
       "      <td>20</td>\n",
       "      <td>0.00</td>\n",
       "      <td>1</td>\n",
       "      <td>0</td>\n",
       "      <td>9.3</td>\n",
       "      <td>0.4</td>\n",
       "      <td>0</td>\n",
       "      <td>1</td>\n",
       "    </tr>\n",
       "    <tr>\n",
       "      <th>4</th>\n",
       "      <td>1</td>\n",
       "      <td>0</td>\n",
       "      <td>0.25</td>\n",
       "      <td>17</td>\n",
       "      <td>0.00</td>\n",
       "      <td>1</td>\n",
       "      <td>0</td>\n",
       "      <td>6.1</td>\n",
       "      <td>0.5</td>\n",
       "      <td>0</td>\n",
       "      <td>1</td>\n",
       "    </tr>\n",
       "  </tbody>\n",
       "</table>\n",
       "</div>"
      ],
      "text/plain": [
       "   is_tv_subscriber  is_movie_package_subscriber  subscription_age  bill_avg  \\\n",
       "0                 1                            1              1.77         7   \n",
       "1                 1                            0              0.05         6   \n",
       "2                 0                            0              1.42        18   \n",
       "3                 1                            0              0.73        20   \n",
       "4                 1                            0              0.25        17   \n",
       "\n",
       "   remaining_contract  is_contract  service_failure_count  download_avg  \\\n",
       "0                0.19            1                      0         114.1   \n",
       "1                0.59            1                      0          12.7   \n",
       "2                0.00            0                      0           0.4   \n",
       "3                0.00            1                      0           9.3   \n",
       "4                0.00            1                      0           6.1   \n",
       "\n",
       "   upload_avg  download_over_limit  churn  \n",
       "0         8.7                    0      0  \n",
       "1         1.3                    0      0  \n",
       "2         0.0                    0      1  \n",
       "3         0.4                    0      1  \n",
       "4         0.5                    0      1  "
      ]
     },
     "execution_count": 4,
     "metadata": {},
     "output_type": "execute_result"
    }
   ],
   "source": [
    "print('Shape=>', train_prepared.shape)\n",
    "train_prepared.head()"
   ]
  },
  {
   "cell_type": "code",
   "execution_count": 5,
   "id": "c94df06b-a9aa-4430-b3bc-8f94d8577057",
   "metadata": {
    "tags": []
   },
   "outputs": [
    {
     "name": "stdout",
     "output_type": "stream",
     "text": [
      "<class 'pandas.core.frame.DataFrame'>\n",
      "RangeIndex: 62273 entries, 0 to 62272\n",
      "Data columns (total 11 columns):\n",
      " #   Column                       Non-Null Count  Dtype  \n",
      "---  ------                       --------------  -----  \n",
      " 0   is_tv_subscriber             62273 non-null  int64  \n",
      " 1   is_movie_package_subscriber  62273 non-null  int64  \n",
      " 2   subscription_age             62273 non-null  float64\n",
      " 3   bill_avg                     62273 non-null  int64  \n",
      " 4   remaining_contract           62273 non-null  float64\n",
      " 5   is_contract                  62273 non-null  int64  \n",
      " 6   service_failure_count        62273 non-null  int64  \n",
      " 7   download_avg                 61948 non-null  float64\n",
      " 8   upload_avg                   61948 non-null  float64\n",
      " 9   download_over_limit          62273 non-null  int64  \n",
      " 10  churn                        62273 non-null  int64  \n",
      "dtypes: float64(4), int64(7)\n",
      "memory usage: 5.2 MB\n"
     ]
    }
   ],
   "source": [
    "# Getting an overview of the dataset\n",
    "train_prepared.info(show_counts=True,verbose=True)"
   ]
  },
  {
   "cell_type": "markdown",
   "id": "e1fe9c8b-af31-4e3a-a1d6-ff2fdb7aac03",
   "metadata": {},
   "source": [
    "### Test Data"
   ]
  },
  {
   "cell_type": "code",
   "execution_count": 6,
   "id": "cfe9edbc-6e50-4201-9b32-2729606f813d",
   "metadata": {},
   "outputs": [],
   "source": [
    "test = pd.read_csv('../data/interim/test.csv')"
   ]
  },
  {
   "cell_type": "code",
   "execution_count": 7,
   "id": "efadd198-de68-4506-bf04-36460058cc86",
   "metadata": {},
   "outputs": [
    {
     "name": "stdout",
     "output_type": "stream",
     "text": [
      "Shape=> (10000, 11)\n"
     ]
    },
    {
     "data": {
      "text/html": [
       "<div>\n",
       "<style scoped>\n",
       "    .dataframe tbody tr th:only-of-type {\n",
       "        vertical-align: middle;\n",
       "    }\n",
       "\n",
       "    .dataframe tbody tr th {\n",
       "        vertical-align: top;\n",
       "    }\n",
       "\n",
       "    .dataframe thead th {\n",
       "        text-align: right;\n",
       "    }\n",
       "</style>\n",
       "<table border=\"1\" class=\"dataframe\">\n",
       "  <thead>\n",
       "    <tr style=\"text-align: right;\">\n",
       "      <th></th>\n",
       "      <th>id</th>\n",
       "      <th>is_tv_subscriber</th>\n",
       "      <th>is_movie_package_subscriber</th>\n",
       "      <th>subscription_age</th>\n",
       "      <th>bill_avg</th>\n",
       "      <th>remaining_contract</th>\n",
       "      <th>service_failure_count</th>\n",
       "      <th>download_avg</th>\n",
       "      <th>upload_avg</th>\n",
       "      <th>download_over_limit</th>\n",
       "      <th>churn</th>\n",
       "    </tr>\n",
       "  </thead>\n",
       "  <tbody>\n",
       "    <tr>\n",
       "      <th>0</th>\n",
       "      <td>1187227</td>\n",
       "      <td>1</td>\n",
       "      <td>1</td>\n",
       "      <td>2.05</td>\n",
       "      <td>14</td>\n",
       "      <td>0.61</td>\n",
       "      <td>0</td>\n",
       "      <td>30.2</td>\n",
       "      <td>2.3</td>\n",
       "      <td>0</td>\n",
       "      <td>0</td>\n",
       "    </tr>\n",
       "    <tr>\n",
       "      <th>1</th>\n",
       "      <td>481052</td>\n",
       "      <td>1</td>\n",
       "      <td>0</td>\n",
       "      <td>3.19</td>\n",
       "      <td>7</td>\n",
       "      <td>0.00</td>\n",
       "      <td>0</td>\n",
       "      <td>7.0</td>\n",
       "      <td>0.6</td>\n",
       "      <td>0</td>\n",
       "      <td>1</td>\n",
       "    </tr>\n",
       "    <tr>\n",
       "      <th>2</th>\n",
       "      <td>409792</td>\n",
       "      <td>1</td>\n",
       "      <td>1</td>\n",
       "      <td>6.75</td>\n",
       "      <td>0</td>\n",
       "      <td>NaN</td>\n",
       "      <td>0</td>\n",
       "      <td>0.0</td>\n",
       "      <td>0.0</td>\n",
       "      <td>0</td>\n",
       "      <td>1</td>\n",
       "    </tr>\n",
       "    <tr>\n",
       "      <th>3</th>\n",
       "      <td>954134</td>\n",
       "      <td>1</td>\n",
       "      <td>0</td>\n",
       "      <td>3.14</td>\n",
       "      <td>12</td>\n",
       "      <td>0.81</td>\n",
       "      <td>0</td>\n",
       "      <td>189.5</td>\n",
       "      <td>15.4</td>\n",
       "      <td>0</td>\n",
       "      <td>0</td>\n",
       "    </tr>\n",
       "    <tr>\n",
       "      <th>4</th>\n",
       "      <td>380945</td>\n",
       "      <td>1</td>\n",
       "      <td>0</td>\n",
       "      <td>6.45</td>\n",
       "      <td>21</td>\n",
       "      <td>0.19</td>\n",
       "      <td>0</td>\n",
       "      <td>20.2</td>\n",
       "      <td>1.4</td>\n",
       "      <td>0</td>\n",
       "      <td>0</td>\n",
       "    </tr>\n",
       "  </tbody>\n",
       "</table>\n",
       "</div>"
      ],
      "text/plain": [
       "        id  is_tv_subscriber  is_movie_package_subscriber  subscription_age  \\\n",
       "0  1187227                 1                            1              2.05   \n",
       "1   481052                 1                            0              3.19   \n",
       "2   409792                 1                            1              6.75   \n",
       "3   954134                 1                            0              3.14   \n",
       "4   380945                 1                            0              6.45   \n",
       "\n",
       "   bill_avg  remaining_contract  service_failure_count  download_avg  \\\n",
       "0        14                0.61                      0          30.2   \n",
       "1         7                0.00                      0           7.0   \n",
       "2         0                 NaN                      0           0.0   \n",
       "3        12                0.81                      0         189.5   \n",
       "4        21                0.19                      0          20.2   \n",
       "\n",
       "   upload_avg  download_over_limit  churn  \n",
       "0         2.3                    0      0  \n",
       "1         0.6                    0      1  \n",
       "2         0.0                    0      1  \n",
       "3        15.4                    0      0  \n",
       "4         1.4                    0      0  "
      ]
     },
     "execution_count": 7,
     "metadata": {},
     "output_type": "execute_result"
    }
   ],
   "source": [
    "print('Shape=>', test.shape)\n",
    "test.head()"
   ]
  },
  {
   "cell_type": "code",
   "execution_count": 8,
   "id": "f3b22191-7a62-4040-ba85-a501e6bef02a",
   "metadata": {},
   "outputs": [
    {
     "name": "stdout",
     "output_type": "stream",
     "text": [
      "<class 'pandas.core.frame.DataFrame'>\n",
      "RangeIndex: 10000 entries, 0 to 9999\n",
      "Data columns (total 11 columns):\n",
      " #   Column                       Non-Null Count  Dtype  \n",
      "---  ------                       --------------  -----  \n",
      " 0   id                           10000 non-null  int64  \n",
      " 1   is_tv_subscriber             10000 non-null  int64  \n",
      " 2   is_movie_package_subscriber  10000 non-null  int64  \n",
      " 3   subscription_age             10000 non-null  float64\n",
      " 4   bill_avg                     10000 non-null  int64  \n",
      " 5   remaining_contract           7001 non-null   float64\n",
      " 6   service_failure_count        10000 non-null  int64  \n",
      " 7   download_avg                 9944 non-null   float64\n",
      " 8   upload_avg                   9944 non-null   float64\n",
      " 9   download_over_limit          10000 non-null  int64  \n",
      " 10  churn                        10000 non-null  int64  \n",
      "dtypes: float64(4), int64(7)\n",
      "memory usage: 859.5 KB\n"
     ]
    }
   ],
   "source": [
    "# Getting an overview of the dataset\n",
    "test.info(show_counts=True,verbose=True)"
   ]
  },
  {
   "cell_type": "markdown",
   "id": "b3f0bead-6b27-4fe6-94f1-6d2a4463d944",
   "metadata": {},
   "source": [
    "## Preparing Test Data for Modeling\n",
    "Now, I'll perform the same data preparation steps which I earlier used on the training data."
   ]
  },
  {
   "cell_type": "markdown",
   "id": "3336e1b5-482c-48a8-943a-6a0811c12526",
   "metadata": {},
   "source": [
    "### Removing Non-Meaningful Variables"
   ]
  },
  {
   "cell_type": "code",
   "execution_count": 9,
   "id": "a37232c9-56d3-4a78-b0d4-12a290a9a3bf",
   "metadata": {},
   "outputs": [],
   "source": [
    "test.drop(columns=['id'], inplace=True)"
   ]
  },
  {
   "cell_type": "markdown",
   "id": "c1da07d6-336e-4014-8b46-32b0776a69f3",
   "metadata": {},
   "source": [
    "### Checking for Erroneous Rows"
   ]
  },
  {
   "cell_type": "code",
   "execution_count": 10,
   "id": "4c38158d-a342-4f15-8879-a3377defbad2",
   "metadata": {},
   "outputs": [
    {
     "data": {
      "text/html": [
       "<div>\n",
       "<style scoped>\n",
       "    .dataframe tbody tr th:only-of-type {\n",
       "        vertical-align: middle;\n",
       "    }\n",
       "\n",
       "    .dataframe tbody tr th {\n",
       "        vertical-align: top;\n",
       "    }\n",
       "\n",
       "    .dataframe thead th {\n",
       "        text-align: right;\n",
       "    }\n",
       "</style>\n",
       "<table border=\"1\" class=\"dataframe\">\n",
       "  <thead>\n",
       "    <tr style=\"text-align: right;\">\n",
       "      <th></th>\n",
       "      <th>is_tv_subscriber</th>\n",
       "      <th>is_movie_package_subscriber</th>\n",
       "      <th>subscription_age</th>\n",
       "      <th>bill_avg</th>\n",
       "      <th>remaining_contract</th>\n",
       "      <th>service_failure_count</th>\n",
       "      <th>download_avg</th>\n",
       "      <th>upload_avg</th>\n",
       "      <th>download_over_limit</th>\n",
       "      <th>churn</th>\n",
       "    </tr>\n",
       "  </thead>\n",
       "  <tbody>\n",
       "    <tr>\n",
       "      <th>count</th>\n",
       "      <td>10000.000000</td>\n",
       "      <td>10000.000000</td>\n",
       "      <td>10000.000000</td>\n",
       "      <td>10000.000000</td>\n",
       "      <td>7001.000000</td>\n",
       "      <td>10000.00000</td>\n",
       "      <td>9944.000000</td>\n",
       "      <td>9944.000000</td>\n",
       "      <td>10000.000000</td>\n",
       "      <td>10000.000000</td>\n",
       "    </tr>\n",
       "    <tr>\n",
       "      <th>mean</th>\n",
       "      <td>0.808500</td>\n",
       "      <td>0.336900</td>\n",
       "      <td>2.428667</td>\n",
       "      <td>18.934400</td>\n",
       "      <td>0.724952</td>\n",
       "      <td>0.26350</td>\n",
       "      <td>43.600352</td>\n",
       "      <td>4.230068</td>\n",
       "      <td>0.204700</td>\n",
       "      <td>0.554100</td>\n",
       "    </tr>\n",
       "    <tr>\n",
       "      <th>std</th>\n",
       "      <td>0.393501</td>\n",
       "      <td>0.472674</td>\n",
       "      <td>2.014889</td>\n",
       "      <td>12.911157</td>\n",
       "      <td>0.698057</td>\n",
       "      <td>0.77455</td>\n",
       "      <td>56.701818</td>\n",
       "      <td>9.925779</td>\n",
       "      <td>0.996944</td>\n",
       "      <td>0.497089</td>\n",
       "    </tr>\n",
       "    <tr>\n",
       "      <th>min</th>\n",
       "      <td>0.000000</td>\n",
       "      <td>0.000000</td>\n",
       "      <td>0.000000</td>\n",
       "      <td>0.000000</td>\n",
       "      <td>0.000000</td>\n",
       "      <td>0.00000</td>\n",
       "      <td>0.000000</td>\n",
       "      <td>0.000000</td>\n",
       "      <td>0.000000</td>\n",
       "      <td>0.000000</td>\n",
       "    </tr>\n",
       "    <tr>\n",
       "      <th>25%</th>\n",
       "      <td>1.000000</td>\n",
       "      <td>0.000000</td>\n",
       "      <td>0.910000</td>\n",
       "      <td>13.000000</td>\n",
       "      <td>0.000000</td>\n",
       "      <td>0.00000</td>\n",
       "      <td>6.800000</td>\n",
       "      <td>0.500000</td>\n",
       "      <td>0.000000</td>\n",
       "      <td>0.000000</td>\n",
       "    </tr>\n",
       "    <tr>\n",
       "      <th>50%</th>\n",
       "      <td>1.000000</td>\n",
       "      <td>0.000000</td>\n",
       "      <td>1.980000</td>\n",
       "      <td>19.000000</td>\n",
       "      <td>0.610000</td>\n",
       "      <td>0.00000</td>\n",
       "      <td>28.300000</td>\n",
       "      <td>2.100000</td>\n",
       "      <td>0.000000</td>\n",
       "      <td>1.000000</td>\n",
       "    </tr>\n",
       "    <tr>\n",
       "      <th>75%</th>\n",
       "      <td>1.000000</td>\n",
       "      <td>1.000000</td>\n",
       "      <td>3.310000</td>\n",
       "      <td>23.000000</td>\n",
       "      <td>1.320000</td>\n",
       "      <td>0.00000</td>\n",
       "      <td>60.700000</td>\n",
       "      <td>4.900000</td>\n",
       "      <td>0.000000</td>\n",
       "      <td>1.000000</td>\n",
       "    </tr>\n",
       "    <tr>\n",
       "      <th>max</th>\n",
       "      <td>1.000000</td>\n",
       "      <td>1.000000</td>\n",
       "      <td>11.930000</td>\n",
       "      <td>406.000000</td>\n",
       "      <td>2.920000</td>\n",
       "      <td>14.00000</td>\n",
       "      <td>1838.000000</td>\n",
       "      <td>436.600000</td>\n",
       "      <td>7.000000</td>\n",
       "      <td>1.000000</td>\n",
       "    </tr>\n",
       "  </tbody>\n",
       "</table>\n",
       "</div>"
      ],
      "text/plain": [
       "       is_tv_subscriber  is_movie_package_subscriber  subscription_age  \\\n",
       "count      10000.000000                 10000.000000      10000.000000   \n",
       "mean           0.808500                     0.336900          2.428667   \n",
       "std            0.393501                     0.472674          2.014889   \n",
       "min            0.000000                     0.000000          0.000000   \n",
       "25%            1.000000                     0.000000          0.910000   \n",
       "50%            1.000000                     0.000000          1.980000   \n",
       "75%            1.000000                     1.000000          3.310000   \n",
       "max            1.000000                     1.000000         11.930000   \n",
       "\n",
       "           bill_avg  remaining_contract  service_failure_count  download_avg  \\\n",
       "count  10000.000000         7001.000000            10000.00000   9944.000000   \n",
       "mean      18.934400            0.724952                0.26350     43.600352   \n",
       "std       12.911157            0.698057                0.77455     56.701818   \n",
       "min        0.000000            0.000000                0.00000      0.000000   \n",
       "25%       13.000000            0.000000                0.00000      6.800000   \n",
       "50%       19.000000            0.610000                0.00000     28.300000   \n",
       "75%       23.000000            1.320000                0.00000     60.700000   \n",
       "max      406.000000            2.920000               14.00000   1838.000000   \n",
       "\n",
       "        upload_avg  download_over_limit         churn  \n",
       "count  9944.000000         10000.000000  10000.000000  \n",
       "mean      4.230068             0.204700      0.554100  \n",
       "std       9.925779             0.996944      0.497089  \n",
       "min       0.000000             0.000000      0.000000  \n",
       "25%       0.500000             0.000000      0.000000  \n",
       "50%       2.100000             0.000000      1.000000  \n",
       "75%       4.900000             0.000000      1.000000  \n",
       "max     436.600000             7.000000      1.000000  "
      ]
     },
     "execution_count": 10,
     "metadata": {},
     "output_type": "execute_result"
    }
   ],
   "source": [
    "test.describe()"
   ]
  },
  {
   "cell_type": "markdown",
   "id": "e1f19111-54c5-4205-8f63-0d131de20446",
   "metadata": {},
   "source": [
    "During the preparation of training data, I encountered rows with -0.02 as *subscription_age*, which isn't possible. But here, the data seems to be in the appropriate range without any error values."
   ]
  },
  {
   "cell_type": "markdown",
   "id": "c55195c5-b16f-496a-ad18-6a3b373bd66c",
   "metadata": {},
   "source": [
    "### Missing Values Treatment\n",
    "Let's now take a look at the number of missing values in every column."
   ]
  },
  {
   "cell_type": "code",
   "execution_count": 13,
   "id": "16a07658-76f0-4e98-aeba-2fc19ac8e736",
   "metadata": {},
   "outputs": [
    {
     "data": {
      "text/plain": [
       "is_tv_subscriber                0\n",
       "is_movie_package_subscriber     0\n",
       "subscription_age                0\n",
       "bill_avg                        0\n",
       "remaining_contract              0\n",
       "is_contract                     0\n",
       "service_failure_count           0\n",
       "download_avg                   56\n",
       "upload_avg                     56\n",
       "download_over_limit             0\n",
       "churn                           0\n",
       "dtype: int64"
      ]
     },
     "execution_count": 13,
     "metadata": {},
     "output_type": "execute_result"
    }
   ],
   "source": [
    "test_prepared.isnull().sum()"
   ]
  },
  {
   "cell_type": "markdown",
   "id": "5970342d-b6e5-46d5-b40c-e671c4ef9bec",
   "metadata": {},
   "source": [
    "As we can see, we have very few missing values in the *download_avg* and *upload_avg* columns. These are the same columns in which we found missing values in the training data. These will be handled by SimpleImputer which will impute them with median values during the modeling phase."
   ]
  },
  {
   "cell_type": "markdown",
   "id": "cd0fbafd-283e-4f59-9a86-d76de7c8ae1b",
   "metadata": {},
   "source": [
    "### Creating *is_contract* column"
   ]
  },
  {
   "cell_type": "code",
   "execution_count": 11,
   "id": "e00faf47-3794-49ad-948b-478e3b742b94",
   "metadata": {},
   "outputs": [],
   "source": [
    "test_cols = test.columns.tolist()\n",
    "test_cols.insert(5, 'is_contract')\n",
    "\n",
    "# Creating is_contract column\n",
    "test['is_contract'] = test['remaining_contract'].apply(lambda x: 0 if pd.isna(x) else 1)\n",
    "\n",
    "# Imputing null values with 0\n",
    "test['remaining_contract'].replace(np.nan, 0, inplace=True)\n",
    "\n",
    "# Rearranging columns\n",
    "test_prepared = test[test_cols]"
   ]
  },
  {
   "cell_type": "code",
   "execution_count": 12,
   "id": "097490f1-4ef7-4a6d-bb77-02f66a9c0bc4",
   "metadata": {},
   "outputs": [
    {
     "name": "stdout",
     "output_type": "stream",
     "text": [
      "<class 'pandas.core.frame.DataFrame'>\n",
      "RangeIndex: 10000 entries, 0 to 9999\n",
      "Data columns (total 11 columns):\n",
      " #   Column                       Non-Null Count  Dtype  \n",
      "---  ------                       --------------  -----  \n",
      " 0   is_tv_subscriber             10000 non-null  int64  \n",
      " 1   is_movie_package_subscriber  10000 non-null  int64  \n",
      " 2   subscription_age             10000 non-null  float64\n",
      " 3   bill_avg                     10000 non-null  int64  \n",
      " 4   remaining_contract           10000 non-null  float64\n",
      " 5   is_contract                  10000 non-null  int64  \n",
      " 6   service_failure_count        10000 non-null  int64  \n",
      " 7   download_avg                 9944 non-null   float64\n",
      " 8   upload_avg                   9944 non-null   float64\n",
      " 9   download_over_limit          10000 non-null  int64  \n",
      " 10  churn                        10000 non-null  int64  \n",
      "dtypes: float64(4), int64(7)\n",
      "memory usage: 859.5 KB\n"
     ]
    }
   ],
   "source": [
    "# Getting an overview of the dataset\n",
    "test_prepared.info(show_counts=True,verbose=True)"
   ]
  },
  {
   "cell_type": "markdown",
   "id": "10af4eae-0ef7-485d-8e2d-c884c83f5410",
   "metadata": {},
   "source": [
    "## Exporting Processed Test Data"
   ]
  },
  {
   "cell_type": "code",
   "execution_count": 14,
   "id": "eb9e02e7-7624-42f8-bf9e-99a0f31e5568",
   "metadata": {},
   "outputs": [],
   "source": [
    "test.to_csv('../data/processed/test-prepared.csv', index=False)"
   ]
  },
  {
   "cell_type": "markdown",
   "id": "7dd261f2-d59e-4bd5-a1dd-c16a9712ec1b",
   "metadata": {},
   "source": [
    "## Modeling\n",
    "Let's again take a look at few rows from both the train and test set."
   ]
  },
  {
   "cell_type": "code",
   "execution_count": 15,
   "id": "8812393c-6c93-4f57-94f6-036d19d6836d",
   "metadata": {},
   "outputs": [
    {
     "data": {
      "text/html": [
       "<div>\n",
       "<style scoped>\n",
       "    .dataframe tbody tr th:only-of-type {\n",
       "        vertical-align: middle;\n",
       "    }\n",
       "\n",
       "    .dataframe tbody tr th {\n",
       "        vertical-align: top;\n",
       "    }\n",
       "\n",
       "    .dataframe thead th {\n",
       "        text-align: right;\n",
       "    }\n",
       "</style>\n",
       "<table border=\"1\" class=\"dataframe\">\n",
       "  <thead>\n",
       "    <tr style=\"text-align: right;\">\n",
       "      <th></th>\n",
       "      <th>is_tv_subscriber</th>\n",
       "      <th>is_movie_package_subscriber</th>\n",
       "      <th>subscription_age</th>\n",
       "      <th>bill_avg</th>\n",
       "      <th>remaining_contract</th>\n",
       "      <th>is_contract</th>\n",
       "      <th>service_failure_count</th>\n",
       "      <th>download_avg</th>\n",
       "      <th>upload_avg</th>\n",
       "      <th>download_over_limit</th>\n",
       "      <th>churn</th>\n",
       "    </tr>\n",
       "  </thead>\n",
       "  <tbody>\n",
       "    <tr>\n",
       "      <th>0</th>\n",
       "      <td>1</td>\n",
       "      <td>1</td>\n",
       "      <td>1.77</td>\n",
       "      <td>7</td>\n",
       "      <td>0.19</td>\n",
       "      <td>1</td>\n",
       "      <td>0</td>\n",
       "      <td>114.1</td>\n",
       "      <td>8.7</td>\n",
       "      <td>0</td>\n",
       "      <td>0</td>\n",
       "    </tr>\n",
       "    <tr>\n",
       "      <th>1</th>\n",
       "      <td>1</td>\n",
       "      <td>0</td>\n",
       "      <td>0.05</td>\n",
       "      <td>6</td>\n",
       "      <td>0.59</td>\n",
       "      <td>1</td>\n",
       "      <td>0</td>\n",
       "      <td>12.7</td>\n",
       "      <td>1.3</td>\n",
       "      <td>0</td>\n",
       "      <td>0</td>\n",
       "    </tr>\n",
       "    <tr>\n",
       "      <th>2</th>\n",
       "      <td>0</td>\n",
       "      <td>0</td>\n",
       "      <td>1.42</td>\n",
       "      <td>18</td>\n",
       "      <td>0.00</td>\n",
       "      <td>0</td>\n",
       "      <td>0</td>\n",
       "      <td>0.4</td>\n",
       "      <td>0.0</td>\n",
       "      <td>0</td>\n",
       "      <td>1</td>\n",
       "    </tr>\n",
       "    <tr>\n",
       "      <th>3</th>\n",
       "      <td>1</td>\n",
       "      <td>0</td>\n",
       "      <td>0.73</td>\n",
       "      <td>20</td>\n",
       "      <td>0.00</td>\n",
       "      <td>1</td>\n",
       "      <td>0</td>\n",
       "      <td>9.3</td>\n",
       "      <td>0.4</td>\n",
       "      <td>0</td>\n",
       "      <td>1</td>\n",
       "    </tr>\n",
       "    <tr>\n",
       "      <th>4</th>\n",
       "      <td>1</td>\n",
       "      <td>0</td>\n",
       "      <td>0.25</td>\n",
       "      <td>17</td>\n",
       "      <td>0.00</td>\n",
       "      <td>1</td>\n",
       "      <td>0</td>\n",
       "      <td>6.1</td>\n",
       "      <td>0.5</td>\n",
       "      <td>0</td>\n",
       "      <td>1</td>\n",
       "    </tr>\n",
       "  </tbody>\n",
       "</table>\n",
       "</div>"
      ],
      "text/plain": [
       "   is_tv_subscriber  is_movie_package_subscriber  subscription_age  bill_avg  \\\n",
       "0                 1                            1              1.77         7   \n",
       "1                 1                            0              0.05         6   \n",
       "2                 0                            0              1.42        18   \n",
       "3                 1                            0              0.73        20   \n",
       "4                 1                            0              0.25        17   \n",
       "\n",
       "   remaining_contract  is_contract  service_failure_count  download_avg  \\\n",
       "0                0.19            1                      0         114.1   \n",
       "1                0.59            1                      0          12.7   \n",
       "2                0.00            0                      0           0.4   \n",
       "3                0.00            1                      0           9.3   \n",
       "4                0.00            1                      0           6.1   \n",
       "\n",
       "   upload_avg  download_over_limit  churn  \n",
       "0         8.7                    0      0  \n",
       "1         1.3                    0      0  \n",
       "2         0.0                    0      1  \n",
       "3         0.4                    0      1  \n",
       "4         0.5                    0      1  "
      ]
     },
     "execution_count": 15,
     "metadata": {},
     "output_type": "execute_result"
    }
   ],
   "source": [
    "train_prepared.head()"
   ]
  },
  {
   "cell_type": "code",
   "execution_count": 16,
   "id": "f8561587-c3b4-4fa1-b478-359a2b75b736",
   "metadata": {},
   "outputs": [
    {
     "data": {
      "text/html": [
       "<div>\n",
       "<style scoped>\n",
       "    .dataframe tbody tr th:only-of-type {\n",
       "        vertical-align: middle;\n",
       "    }\n",
       "\n",
       "    .dataframe tbody tr th {\n",
       "        vertical-align: top;\n",
       "    }\n",
       "\n",
       "    .dataframe thead th {\n",
       "        text-align: right;\n",
       "    }\n",
       "</style>\n",
       "<table border=\"1\" class=\"dataframe\">\n",
       "  <thead>\n",
       "    <tr style=\"text-align: right;\">\n",
       "      <th></th>\n",
       "      <th>is_tv_subscriber</th>\n",
       "      <th>is_movie_package_subscriber</th>\n",
       "      <th>subscription_age</th>\n",
       "      <th>bill_avg</th>\n",
       "      <th>remaining_contract</th>\n",
       "      <th>is_contract</th>\n",
       "      <th>service_failure_count</th>\n",
       "      <th>download_avg</th>\n",
       "      <th>upload_avg</th>\n",
       "      <th>download_over_limit</th>\n",
       "      <th>churn</th>\n",
       "    </tr>\n",
       "  </thead>\n",
       "  <tbody>\n",
       "    <tr>\n",
       "      <th>0</th>\n",
       "      <td>1</td>\n",
       "      <td>1</td>\n",
       "      <td>2.05</td>\n",
       "      <td>14</td>\n",
       "      <td>0.61</td>\n",
       "      <td>1</td>\n",
       "      <td>0</td>\n",
       "      <td>30.2</td>\n",
       "      <td>2.3</td>\n",
       "      <td>0</td>\n",
       "      <td>0</td>\n",
       "    </tr>\n",
       "    <tr>\n",
       "      <th>1</th>\n",
       "      <td>1</td>\n",
       "      <td>0</td>\n",
       "      <td>3.19</td>\n",
       "      <td>7</td>\n",
       "      <td>0.00</td>\n",
       "      <td>1</td>\n",
       "      <td>0</td>\n",
       "      <td>7.0</td>\n",
       "      <td>0.6</td>\n",
       "      <td>0</td>\n",
       "      <td>1</td>\n",
       "    </tr>\n",
       "    <tr>\n",
       "      <th>2</th>\n",
       "      <td>1</td>\n",
       "      <td>1</td>\n",
       "      <td>6.75</td>\n",
       "      <td>0</td>\n",
       "      <td>0.00</td>\n",
       "      <td>0</td>\n",
       "      <td>0</td>\n",
       "      <td>0.0</td>\n",
       "      <td>0.0</td>\n",
       "      <td>0</td>\n",
       "      <td>1</td>\n",
       "    </tr>\n",
       "    <tr>\n",
       "      <th>3</th>\n",
       "      <td>1</td>\n",
       "      <td>0</td>\n",
       "      <td>3.14</td>\n",
       "      <td>12</td>\n",
       "      <td>0.81</td>\n",
       "      <td>1</td>\n",
       "      <td>0</td>\n",
       "      <td>189.5</td>\n",
       "      <td>15.4</td>\n",
       "      <td>0</td>\n",
       "      <td>0</td>\n",
       "    </tr>\n",
       "    <tr>\n",
       "      <th>4</th>\n",
       "      <td>1</td>\n",
       "      <td>0</td>\n",
       "      <td>6.45</td>\n",
       "      <td>21</td>\n",
       "      <td>0.19</td>\n",
       "      <td>1</td>\n",
       "      <td>0</td>\n",
       "      <td>20.2</td>\n",
       "      <td>1.4</td>\n",
       "      <td>0</td>\n",
       "      <td>0</td>\n",
       "    </tr>\n",
       "  </tbody>\n",
       "</table>\n",
       "</div>"
      ],
      "text/plain": [
       "   is_tv_subscriber  is_movie_package_subscriber  subscription_age  bill_avg  \\\n",
       "0                 1                            1              2.05        14   \n",
       "1                 1                            0              3.19         7   \n",
       "2                 1                            1              6.75         0   \n",
       "3                 1                            0              3.14        12   \n",
       "4                 1                            0              6.45        21   \n",
       "\n",
       "   remaining_contract  is_contract  service_failure_count  download_avg  \\\n",
       "0                0.61            1                      0          30.2   \n",
       "1                0.00            1                      0           7.0   \n",
       "2                0.00            0                      0           0.0   \n",
       "3                0.81            1                      0         189.5   \n",
       "4                0.19            1                      0          20.2   \n",
       "\n",
       "   upload_avg  download_over_limit  churn  \n",
       "0         2.3                    0      0  \n",
       "1         0.6                    0      1  \n",
       "2         0.0                    0      1  \n",
       "3        15.4                    0      0  \n",
       "4         1.4                    0      0  "
      ]
     },
     "execution_count": 16,
     "metadata": {},
     "output_type": "execute_result"
    }
   ],
   "source": [
    "test_prepared.head()"
   ]
  },
  {
   "cell_type": "code",
   "execution_count": 17,
   "id": "bed9d56c-30a8-40bd-8d1d-55655feff67a",
   "metadata": {},
   "outputs": [],
   "source": [
    "# Separating predictors and target\n",
    "X_train, y_train = train_prepared.loc[:, train_prepared.columns != 'churn'], train_prepared.loc[:, 'churn']\n",
    "X_test, y_test = test_prepared.loc[:, test_prepared.columns != 'churn'], test_prepared.loc[:, 'churn']"
   ]
  },
  {
   "cell_type": "code",
   "execution_count": 18,
   "id": "ab4041bb-8c44-4aff-87fb-bfe2695e38b0",
   "metadata": {},
   "outputs": [
    {
     "name": "stdout",
     "output_type": "stream",
     "text": [
      "Training Data => (62273, 10) , (62273,)\n",
      "Test Data => (10000, 10) , (10000,)\n"
     ]
    }
   ],
   "source": [
    "print(\"Training Data =>\", X_train.shape,\",\", y_train.shape)\n",
    "print(\"Test Data =>\", X_test.shape,\",\", y_test.shape)"
   ]
  },
  {
   "cell_type": "markdown",
   "id": "b34b6e27-addd-4a7c-a60b-ecb16d1977c8",
   "metadata": {},
   "source": [
    "### Model Training"
   ]
  },
  {
   "cell_type": "code",
   "execution_count": 19,
   "id": "e83ec6bc-b826-4d7d-b1e2-45051f6e999f",
   "metadata": {},
   "outputs": [],
   "source": [
    "# Components of Modeling Pipeline\n",
    "## Simple Imputer for imputing missing values\n",
    "imputer = SimpleImputer(strategy = 'median')\n",
    "\n",
    "## Normal Quantile Transformer for transforming numerical variables' distribution to Gaussian\n",
    "quantile_transformer = QuantileTransformer(n_quantiles=1000,\n",
    "                                           output_distribution='normal',\n",
    "                                           random_state=42)\n",
    "\n",
    "transformer = ColumnTransformer(transformers=[('quantile_transformer',\n",
    "                                               quantile_transformer,\n",
    "                                               [2, 3, 4, 6, 7, 8, 9])],\n",
    "                                n_jobs=-1,\n",
    "                                remainder='passthrough')\n",
    "\n",
    "## XGBoost Classifier model with previously tuned hyperparameters\n",
    "model = xgb.XGBClassifier(objective = \"binary:logistic\",\n",
    "                          use_label_encoder = False,\n",
    "                          tree_method = \"gpu_hist\", \n",
    "                          n_estimators = 570, \n",
    "                          max_depth = 13,\n",
    "                          learning_rate = 0.024950194312574222,\n",
    "                          gamma = 0.6,\n",
    "                          reg_lambda = 1.1653190123688406,\n",
    "                          scale_pos_weight = 1.3,\n",
    "                          subsample = 0.9,\n",
    "                          colsample_bytree = 0.6,\n",
    "                          verbosity = 0,\n",
    "                          n_jobs = -1,\n",
    "                          random_state = 42)"
   ]
  },
  {
   "cell_type": "code",
   "execution_count": 20,
   "id": "27911869-65cf-43ef-a2f2-19afac951312",
   "metadata": {},
   "outputs": [],
   "source": [
    "# Defining modeling pipeline\n",
    "pipeline = Pipeline(steps = [('median_imputer', imputer),\n",
    "                             ('quantile_transformer', transformer),\n",
    "                             ('xgb_model', model)])"
   ]
  },
  {
   "cell_type": "code",
   "execution_count": 21,
   "id": "04d3921e-a3cc-4b6c-b9d5-1ef1612f259d",
   "metadata": {},
   "outputs": [
    {
     "data": {
      "text/plain": [
       "Pipeline(steps=[('median_imputer', SimpleImputer(strategy='median')),\n",
       "                ('quantile_transformer',\n",
       "                 ColumnTransformer(n_jobs=-1, remainder='passthrough',\n",
       "                                   transformers=[('quantile_transformer',\n",
       "                                                  QuantileTransformer(output_distribution='normal',\n",
       "                                                                      random_state=42),\n",
       "                                                  [2, 3, 4, 6, 7, 8, 9])])),\n",
       "                ('xgb_model',\n",
       "                 XGBClassifier(base_score=0.5, booster='gbtree',\n",
       "                               colsample_bylevel=1, col...\n",
       "                               interaction_constraints='',\n",
       "                               learning_rate=0.024950194312574222,\n",
       "                               max_delta_step=0, max_depth=13,\n",
       "                               min_child_weight=1, missing=nan,\n",
       "                               monotone_constraints='()', n_estimators=570,\n",
       "                               n_jobs=-1, num_parallel_tree=1, random_state=42,\n",
       "                               reg_alpha=0, reg_lambda=1.1653190123688406,\n",
       "                               scale_pos_weight=1.3, subsample=0.9,\n",
       "                               tree_method='gpu_hist', use_label_encoder=False,\n",
       "                               validate_parameters=1, verbosity=0))])"
      ]
     },
     "execution_count": 21,
     "metadata": {},
     "output_type": "execute_result"
    }
   ],
   "source": [
    "pipeline.fit(X_train,y_train)"
   ]
  },
  {
   "cell_type": "markdown",
   "id": "53f9a9d3-84ce-45b1-b670-80e4d215f72c",
   "metadata": {},
   "source": [
    "### Evaluation"
   ]
  },
  {
   "cell_type": "code",
   "execution_count": 22,
   "id": "c9c4be22-fae3-4d82-9cdf-ba5c5454a5c1",
   "metadata": {},
   "outputs": [],
   "source": [
    "y_train_pred = pipeline.predict(X_train)\n",
    "y_train_pred_prob = pipeline.predict_proba(X_train)[:, 1]"
   ]
  },
  {
   "cell_type": "code",
   "execution_count": 23,
   "id": "72ec2c26-578d-40ac-a39c-4aab92bce2af",
   "metadata": {},
   "outputs": [],
   "source": [
    "y_test_pred = pipeline.predict(X_test)\n",
    "y_test_pred_prob = pipeline.predict_proba(X_test)[:, 1]"
   ]
  },
  {
   "cell_type": "code",
   "execution_count": 24,
   "id": "c62e1753-00f5-4d5e-bf07-bdfb429466fa",
   "metadata": {},
   "outputs": [
    {
     "name": "stdout",
     "output_type": "stream",
     "text": [
      "AUC-ROC of Final Model on Train Set: 0.9979611536456878\n",
      "AUC-ROC of Final Model on Test Set: 0.9842082218633272\n"
     ]
    }
   ],
   "source": [
    "print(\"AUC-ROC of Final Model on Train Set:\", roc_auc_score(y_train, y_train_pred_prob))\n",
    "print(\"AUC-ROC of Final Model on Test Set:\", roc_auc_score(y_test, y_test_pred_prob))"
   ]
  },
  {
   "cell_type": "code",
   "execution_count": 25,
   "id": "ab478a4d-e7b5-472c-8cde-7e8882d996ab",
   "metadata": {},
   "outputs": [
    {
     "name": "stdout",
     "output_type": "stream",
     "text": [
      "f1-Score of Final Model on Train Set: 97.95469985401037\n",
      "f1-Score of Final Model on Test Set: 95.16816245127367\n"
     ]
    }
   ],
   "source": [
    "print(\"f1-Score of Final Model on Train Set:\", f1_score(y_train, y_train_pred)*100)\n",
    "print(\"f1-Score of Final Model on Test Set:\", f1_score(y_test, y_test_pred)*100)"
   ]
  },
  {
   "cell_type": "code",
   "execution_count": 26,
   "id": "b733e69d-b449-4259-a93a-197f3301b729",
   "metadata": {},
   "outputs": [
    {
     "name": "stdout",
     "output_type": "stream",
     "text": [
      "Accuracy of Final Model on Train Set: 97.72774717774959\n",
      "Accuracy of Final Model on Test Set: 94.67\n"
     ]
    }
   ],
   "source": [
    "print(\"Accuracy of Final Model on Train Set:\", accuracy_score(y_train, y_train_pred)*100)\n",
    "print(\"Accuracy of Final Model on Test Set:\", accuracy_score(y_test, y_test_pred)*100)"
   ]
  },
  {
   "cell_type": "code",
   "execution_count": 27,
   "id": "a5a198e7-e03d-43eb-bd8c-37692f62787e",
   "metadata": {},
   "outputs": [
    {
     "name": "stdout",
     "output_type": "stream",
     "text": [
      "              precision    recall  f1-score   support\n",
      "\n",
      "           0   0.935255  0.945952  0.940573      4459\n",
      "           1   0.956102  0.947302  0.951682      5541\n",
      "\n",
      "    accuracy                       0.946700     10000\n",
      "   macro avg   0.945678  0.946627  0.946127     10000\n",
      "weighted avg   0.946806  0.946700  0.946728     10000\n",
      "\n"
     ]
    }
   ],
   "source": [
    "report = classification_report(y_test, y_test_pred,digits=6)\n",
    "print(report)"
   ]
  },
  {
   "cell_type": "code",
   "execution_count": 28,
   "id": "a02eed00-d96e-4d70-ba55-87b048d25710",
   "metadata": {},
   "outputs": [
    {
     "data": {
      "image/png": "[encoded data removed]",
      "text/plain": [
       "<Figure size 432x288 with 2 Axes>"
      ]
     },
     "metadata": {
      "needs_background": "light"
     },
     "output_type": "display_data"
    }
   ],
   "source": [
    "cf_matrix = confusion_matrix(y_test, y_test_pred, labels = [0,1])\n",
    "cfm_plot = ConfusionMatrixDisplay(confusion_matrix = cf_matrix, display_labels = [0,1])\n",
    "cfm_plot.plot(cmap=\"cubehelix\")\n",
    "plt.show()"
   ]
  },
  {
   "cell_type": "markdown",
   "id": "657fd366-d984-412e-97b1-c768b7fad85e",
   "metadata": {},
   "source": [
    "## Exporting Trained Model"
   ]
  },
  {
   "cell_type": "code",
   "execution_count": 29,
   "id": "1f850096-079e-42e0-a46c-7548f42ce5e3",
   "metadata": {},
   "outputs": [
    {
     "data": {
      "text/plain": [
       "['../models/xgb-clf-pipeline.pkl']"
      ]
     },
     "execution_count": 29,
     "metadata": {},
     "output_type": "execute_result"
    }
   ],
   "source": [
    "dump(pipeline,'../models/xgb-clf-pipeline.pkl')"
   ]
  }
 ],
 "metadata": {
  "kernelspec": {
   "display_name": "Python 3.9: isp-churn-prediction",
   "language": "python",
   "name": "isp-churn-prediction"
  },
  "language_info": {
   "codemirror_mode": {
    "name": "ipython",
    "version": 3
   },
   "file_extension": ".py",
   "mimetype": "text/x-python",
   "name": "python",
   "nbconvert_exporter": "python",
   "pygments_lexer": "ipython3",
   "version": "3.9.7"
  }
 },
 "nbformat": 4,
 "nbformat_minor": 5
}
