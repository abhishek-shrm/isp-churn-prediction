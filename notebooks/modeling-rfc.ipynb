{
 "cells": [
  {
   "cell_type": "markdown",
   "id": "b9b037b9-c278-4afe-ba09-ca02907ec79e",
   "metadata": {},
   "source": [
    "# Modeling - Random Forest Classifier\n",
    "In this notebook, I have created a Random Forest Classifier for predicting churn for an Internet Service Provider and tuned its hyperparameters using Optuna which is a Hyperparameter Optimization Framework that uses Tree-structured Parzen Estimator (TPE) to find the most optimal parameters."
   ]
  },
  {
   "cell_type": "markdown",
   "id": "e69fa048-e51a-4b6d-b57b-c33a24a6ccce",
   "metadata": {},
   "source": [
    "## Table of Contents:\n",
    "1. Data Loading\n",
    "2. Modeling\n",
    "    - Finding Best Hyperparameters\n",
    "    - Building Model with tuned parameters"
   ]
  },
  {
   "cell_type": "code",
   "execution_count": 1,
   "id": "83103ec0-5e89-4305-953c-78983ede78f8",
   "metadata": {},
   "outputs": [],
   "source": [
    "# Importing required libraries and modules\n",
    "import os\n",
    "import sys\n",
    "import optuna\n",
    "import numpy as np\n",
    "import pandas as pd\n",
    "import seaborn as sns\n",
    "import matplotlib.pyplot as plt\n",
    "\n",
    "from sklearn.pipeline import Pipeline\n",
    "from sklearn.impute import SimpleImputer\n",
    "from sklearn.compose import ColumnTransformer\n",
    "from sklearn.model_selection import GridSearchCV\n",
    "from sklearn.ensemble import RandomForestClassifier\n",
    "from sklearn.preprocessing import QuantileTransformer\n",
    "\n",
    "from sklearn.model_selection import cross_val_score, RepeatedStratifiedKFold"
   ]
  },
  {
   "cell_type": "code",
   "execution_count": 2,
   "id": "3ad93099-c244-4504-ac65-3792f1c98b94",
   "metadata": {},
   "outputs": [],
   "source": [
    "# Setting seaborn figure size\n",
    "sns.set(rc={'figure.figsize':(10,8)})\n",
    "\n",
    "# Setting the seed\n",
    "np.random.seed(42)"
   ]
  },
  {
   "cell_type": "markdown",
   "id": "38a5b3ff-0624-4d61-a45f-b1a791f5f00e",
   "metadata": {},
   "source": [
    "## Data Loading"
   ]
  },
  {
   "cell_type": "code",
   "execution_count": 3,
   "id": "10d4b864-0e98-4225-8c0b-29c12afb9de8",
   "metadata": {},
   "outputs": [],
   "source": [
    "train_prepared = pd.read_csv('../data/processed/train-prepared.csv')"
   ]
  },
  {
   "cell_type": "code",
   "execution_count": 4,
   "id": "1a133eda-6c9b-449e-a83e-472e2e9fd185",
   "metadata": {},
   "outputs": [
    {
     "name": "stdout",
     "output_type": "stream",
     "text": [
      "Shape=> (62273, 11)\n"
     ]
    },
    {
     "data": {
      "text/html": [
       "<div>\n",
       "<style scoped>\n",
       "    .dataframe tbody tr th:only-of-type {\n",
       "        vertical-align: middle;\n",
       "    }\n",
       "\n",
       "    .dataframe tbody tr th {\n",
       "        vertical-align: top;\n",
       "    }\n",
       "\n",
       "    .dataframe thead th {\n",
       "        text-align: right;\n",
       "    }\n",
       "</style>\n",
       "<table border=\"1\" class=\"dataframe\">\n",
       "  <thead>\n",
       "    <tr style=\"text-align: right;\">\n",
       "      <th></th>\n",
       "      <th>is_tv_subscriber</th>\n",
       "      <th>is_movie_package_subscriber</th>\n",
       "      <th>subscription_age</th>\n",
       "      <th>bill_avg</th>\n",
       "      <th>remaining_contract</th>\n",
       "      <th>is_contract</th>\n",
       "      <th>service_failure_count</th>\n",
       "      <th>download_avg</th>\n",
       "      <th>upload_avg</th>\n",
       "      <th>download_over_limit</th>\n",
       "      <th>churn</th>\n",
       "    </tr>\n",
       "  </thead>\n",
       "  <tbody>\n",
       "    <tr>\n",
       "      <th>0</th>\n",
       "      <td>1</td>\n",
       "      <td>1</td>\n",
       "      <td>1.77</td>\n",
       "      <td>7</td>\n",
       "      <td>0.19</td>\n",
       "      <td>1</td>\n",
       "      <td>0</td>\n",
       "      <td>114.1</td>\n",
       "      <td>8.7</td>\n",
       "      <td>0</td>\n",
       "      <td>0</td>\n",
       "    </tr>\n",
       "    <tr>\n",
       "      <th>1</th>\n",
       "      <td>1</td>\n",
       "      <td>0</td>\n",
       "      <td>0.05</td>\n",
       "      <td>6</td>\n",
       "      <td>0.59</td>\n",
       "      <td>1</td>\n",
       "      <td>0</td>\n",
       "      <td>12.7</td>\n",
       "      <td>1.3</td>\n",
       "      <td>0</td>\n",
       "      <td>0</td>\n",
       "    </tr>\n",
       "    <tr>\n",
       "      <th>2</th>\n",
       "      <td>0</td>\n",
       "      <td>0</td>\n",
       "      <td>1.42</td>\n",
       "      <td>18</td>\n",
       "      <td>0.00</td>\n",
       "      <td>0</td>\n",
       "      <td>0</td>\n",
       "      <td>0.4</td>\n",
       "      <td>0.0</td>\n",
       "      <td>0</td>\n",
       "      <td>1</td>\n",
       "    </tr>\n",
       "    <tr>\n",
       "      <th>3</th>\n",
       "      <td>1</td>\n",
       "      <td>0</td>\n",
       "      <td>0.73</td>\n",
       "      <td>20</td>\n",
       "      <td>0.00</td>\n",
       "      <td>1</td>\n",
       "      <td>0</td>\n",
       "      <td>9.3</td>\n",
       "      <td>0.4</td>\n",
       "      <td>0</td>\n",
       "      <td>1</td>\n",
       "    </tr>\n",
       "    <tr>\n",
       "      <th>4</th>\n",
       "      <td>1</td>\n",
       "      <td>0</td>\n",
       "      <td>0.25</td>\n",
       "      <td>17</td>\n",
       "      <td>0.00</td>\n",
       "      <td>1</td>\n",
       "      <td>0</td>\n",
       "      <td>6.1</td>\n",
       "      <td>0.5</td>\n",
       "      <td>0</td>\n",
       "      <td>1</td>\n",
       "    </tr>\n",
       "  </tbody>\n",
       "</table>\n",
       "</div>"
      ],
      "text/plain": [
       "   is_tv_subscriber  is_movie_package_subscriber  subscription_age  bill_avg  \\\n",
       "0                 1                            1              1.77         7   \n",
       "1                 1                            0              0.05         6   \n",
       "2                 0                            0              1.42        18   \n",
       "3                 1                            0              0.73        20   \n",
       "4                 1                            0              0.25        17   \n",
       "\n",
       "   remaining_contract  is_contract  service_failure_count  download_avg  \\\n",
       "0                0.19            1                      0         114.1   \n",
       "1                0.59            1                      0          12.7   \n",
       "2                0.00            0                      0           0.4   \n",
       "3                0.00            1                      0           9.3   \n",
       "4                0.00            1                      0           6.1   \n",
       "\n",
       "   upload_avg  download_over_limit  churn  \n",
       "0         8.7                    0      0  \n",
       "1         1.3                    0      0  \n",
       "2         0.0                    0      1  \n",
       "3         0.4                    0      1  \n",
       "4         0.5                    0      1  "
      ]
     },
     "execution_count": 4,
     "metadata": {},
     "output_type": "execute_result"
    }
   ],
   "source": [
    "print('Shape=>', train_prepared.shape)\n",
    "train_prepared.head()"
   ]
  },
  {
   "cell_type": "code",
   "execution_count": 5,
   "id": "ced0459f-7a00-4873-be26-f9815544aebe",
   "metadata": {},
   "outputs": [
    {
     "name": "stdout",
     "output_type": "stream",
     "text": [
      "<class 'pandas.core.frame.DataFrame'>\n",
      "RangeIndex: 62273 entries, 0 to 62272\n",
      "Data columns (total 11 columns):\n",
      " #   Column                       Non-Null Count  Dtype  \n",
      "---  ------                       --------------  -----  \n",
      " 0   is_tv_subscriber             62273 non-null  int64  \n",
      " 1   is_movie_package_subscriber  62273 non-null  int64  \n",
      " 2   subscription_age             62273 non-null  float64\n",
      " 3   bill_avg                     62273 non-null  int64  \n",
      " 4   remaining_contract           62273 non-null  float64\n",
      " 5   is_contract                  62273 non-null  int64  \n",
      " 6   service_failure_count        62273 non-null  int64  \n",
      " 7   download_avg                 61948 non-null  float64\n",
      " 8   upload_avg                   61948 non-null  float64\n",
      " 9   download_over_limit          62273 non-null  int64  \n",
      " 10  churn                        62273 non-null  int64  \n",
      "dtypes: float64(4), int64(7)\n",
      "memory usage: 5.2 MB\n"
     ]
    }
   ],
   "source": [
    "# Getting an overview of the dataset\n",
    "train_prepared.info(show_counts=True,verbose=True)"
   ]
  },
  {
   "cell_type": "markdown",
   "id": "f8861005-b66a-4b10-9849-2867dfe38990",
   "metadata": {},
   "source": [
    "## Modeling"
   ]
  },
  {
   "cell_type": "code",
   "execution_count": 6,
   "id": "7a3d7abc-23b2-49db-ae10-f48cc9d222ae",
   "metadata": {},
   "outputs": [],
   "source": [
    "# Separating predictors and target\n",
    "X, y = train_prepared.loc[:, train_prepared.columns != 'churn'], train_prepared.loc[:, 'churn']"
   ]
  },
  {
   "cell_type": "markdown",
   "id": "38b08807-3450-4129-8767-d590de4da50b",
   "metadata": {},
   "source": [
    "### Finding Best Hyperparameters"
   ]
  },
  {
   "cell_type": "code",
   "execution_count": 7,
   "id": "1aeee432-77c1-4bbf-a3ea-148c5d47be7e",
   "metadata": {},
   "outputs": [],
   "source": [
    "def create_rfc_pipeline(quantile_transform: str, n_estimators: int,\n",
    "                        min_samples_split: int, min_samples_leaf: int,\n",
    "                        max_features: str) -> Pipeline:\n",
    "    \"\"\" Returns a pipeline object created around Random\n",
    "            Forest algorithm\n",
    "    \n",
    "    Takes data preparation and Random Forest Classifier\n",
    "        parameters as input, creates a Scikit-learn\n",
    "        pipeline object and returns it\n",
    "    \n",
    "    Parameters\n",
    "    ----------\n",
    "    quantile_transform : str\n",
    "        - \"Yes\": Quantile Transformation will be performed\n",
    "        - \"No\": No Transformation\n",
    "    \n",
    "    n_estimators: int\n",
    "        n_estimators argument of RandomForestClassifier\n",
    "    \n",
    "    min_samples_split: int\n",
    "        min_samples_split argument of RandomForestClassifier\n",
    "\n",
    "    min_samples_leaf: int\n",
    "        min_samples_leaf argument of RandomForestClassifier\n",
    "    \n",
    "    max_features: str\n",
    "        max_features argument of RandomForestClassifier\n",
    "    \n",
    "    Returns\n",
    "    -------\n",
    "    pipeline : Pipeline\n",
    "        The pipeline object from Scikit-Learn\n",
    "    \"\"\"\n",
    "    pipeline_steps = []\n",
    "    \n",
    "    # Adding SimpleImputer to pipeline\n",
    "    imputer = SimpleImputer(strategy = 'median')\n",
    "    pipeline_steps.append(('median_imputer', imputer))\n",
    "\n",
    "    # Adding QuantileTransformer to pipeline (if required)\n",
    "    if quantile_transform == \"Yes\":\n",
    "        quantile_transformer = QuantileTransformer(n_quantiles=1000,\n",
    "                                                   output_distribution='normal',\n",
    "                                                   random_state=42)\n",
    "\n",
    "        transformer = ColumnTransformer(transformers=[('quantile_transformer',\n",
    "                                                       quantile_transformer,\n",
    "                                                       [2, 3, 4, 6, 7, 8, 9])],\n",
    "                                        n_jobs=-1,\n",
    "                                        remainder='passthrough')\n",
    "        pipeline_steps.append(('transformer', transformer))\n",
    "    \n",
    "    # Adding CART Model to pipeline\n",
    "    model = RandomForestClassifier(n_estimators = n_estimators,\n",
    "                                   criterion = \"gini\",\n",
    "                                   max_features = max_features,                           \n",
    "                                   min_samples_split = min_samples_split,\n",
    "                                   min_samples_leaf = min_samples_leaf,\n",
    "                                   n_jobs = -1,\n",
    "                                   random_state = 42)\n",
    "    \n",
    "    pipeline_steps.append(('cart_model', model))\n",
    "    \n",
    "    # Building Pipeline Object\n",
    "    pipeline = Pipeline(steps = pipeline_steps)\n",
    "    \n",
    "    return pipeline"
   ]
  },
  {
   "cell_type": "code",
   "execution_count": 8,
   "id": "eaad1a3f-eb21-4baa-ad48-2b3dcb809ecb",
   "metadata": {},
   "outputs": [],
   "source": [
    "def objective(trial: optuna.trial.Trial) -> np.ndarray:\n",
    "    \"\"\" Returns mean ROC-AUC score for Random Forest\n",
    "        Classification algorithm\n",
    "    \n",
    "    Objective function for optimizing Random Forest\n",
    "        algorithm using Optuna. Takes optuna Trial\n",
    "        object as input, performs 10-fold cross-validation\n",
    "        and returns mean ROC-AUC score for a set of\n",
    "        hyperparameters of Random Forest modeling pipeline.\n",
    "        \n",
    "    Parameters\n",
    "    ----------\n",
    "    trial : optuna.trial.Trial\n",
    "        A trial is a process of evaluating an objective function.\n",
    "        This object is passed to an objective function and provides\n",
    "        interfaces to get parameter suggestion, manage the trial’s\n",
    "        state, and set/get user-defined attributes of the trial.\n",
    "    \n",
    "    Returns\n",
    "    -------\n",
    "    roc_auc_score : np.ndarray\n",
    "        Mean ROC-AUC Score of 10-fold cross-validation\n",
    "        for a Random Forest modeling pipeline with a set\n",
    "        of hyperparameters.\n",
    "    \"\"\"\n",
    "    # Data preparation parameters\n",
    "    quantile_transform = trial.suggest_categorical(\"quantile_transform\", [\"Yes\", \"No\"])\n",
    "    \n",
    "    # Modeling parameters\n",
    "    n_estimators = trial.suggest_int(\"n_estimators\", low=10, high=1000, step=10)\n",
    "    min_samples_split = trial.suggest_int(\"min_samples_split\", low=2, high=40, step=1)\n",
    "    min_samples_leaf = trial.suggest_int(\"min_samples_leaf\", low=2, high=40, step=1)\n",
    "    max_features = trial.suggest_categorical(\"max_features\", [\"auto\", None])\n",
    "    \n",
    "    # Building modeling pipeline\n",
    "    pipeline = create_rfc_pipeline(quantile_transform, n_estimators, min_samples_split,\n",
    "                                   min_samples_leaf, max_features)\n",
    "    \n",
    "    # Defining Cross-Validation\n",
    "    cv = RepeatedStratifiedKFold(n_splits=10, n_repeats=1, random_state=42)\n",
    "    scores = cross_val_score(pipeline, X, y, scoring='roc_auc', cv=cv, n_jobs=-1)\n",
    "    \n",
    "    return np.mean(scores)"
   ]
  },
  {
   "cell_type": "code",
   "execution_count": 9,
   "id": "1f0f3f2a-d7bb-421f-a9e9-d4d8662d7a5d",
   "metadata": {},
   "outputs": [
    {
     "name": "stderr",
     "output_type": "stream",
     "text": [
      "\u001b[32m[I 2021-10-13 08:03:27,429]\u001b[0m A new study created in memory with name: no-name-8d2c641b-4302-4364-9e7d-50c1c37ca1a5\u001b[0m\n",
      "/home/abhishek/anaconda3/envs/isp-churn-prediction/lib/python3.9/site-packages/optuna/progress_bar.py:47: ExperimentalWarning: Progress bar is experimental (supported from v1.2.0). The interface can change in the future.\n",
      "  self._init_valid()\n"
     ]
    },
    {
     "data": {
      "application/vnd.jupyter.widget-view+json": {
       "model_id": "8f1ddf556388493db63e2301b1b98915",
       "version_major": 2,
       "version_minor": 0
      },
      "text/plain": [
       "  0%|          | 0/30 [00:00<?, ?it/s]"
      ]
     },
     "metadata": {},
     "output_type": "display_data"
    },
    {
     "name": "stdout",
     "output_type": "stream",
     "text": [
      "\u001b[32m[I 2021-10-13 08:06:17,366]\u001b[0m Trial 0 finished with value: 0.9796091029785851 and parameters: {'quantile_transform': 'No', 'n_estimators': 930, 'min_samples_split': 16, 'min_samples_leaf': 30, 'max_features': 'auto'}. Best is trial 0 with value: 0.9796091029785851.\u001b[0m\n",
      "\u001b[32m[I 2021-10-13 08:09:23,673]\u001b[0m Trial 1 finished with value: 0.9812105743577086 and parameters: {'quantile_transform': 'Yes', 'n_estimators': 940, 'min_samples_split': 26, 'min_samples_leaf': 10, 'max_features': 'auto'}. Best is trial 1 with value: 0.9812105743577086.\u001b[0m\n",
      "\u001b[32m[I 2021-10-13 08:10:04,690]\u001b[0m Trial 2 finished with value: 0.9803973890206571 and parameters: {'quantile_transform': 'Yes', 'n_estimators': 210, 'min_samples_split': 13, 'min_samples_leaf': 18, 'max_features': 'auto'}. Best is trial 1 with value: 0.9812105743577086.\u001b[0m\n",
      "\u001b[32m[I 2021-10-13 08:11:27,251]\u001b[0m Trial 3 finished with value: 0.9812747364807709 and parameters: {'quantile_transform': 'Yes', 'n_estimators': 410, 'min_samples_split': 33, 'min_samples_leaf': 8, 'max_features': 'auto'}. Best is trial 3 with value: 0.9812747364807709.\u001b[0m\n",
      "\u001b[32m[I 2021-10-13 08:17:26,980]\u001b[0m Trial 4 finished with value: 0.9822468338336643 and parameters: {'quantile_transform': 'Yes', 'n_estimators': 710, 'min_samples_split': 14, 'min_samples_leaf': 13, 'max_features': None}. Best is trial 4 with value: 0.9822468338336643.\u001b[0m\n",
      "\u001b[32m[I 2021-10-13 08:20:20,880]\u001b[0m Trial 5 finished with value: 0.9808847787519499 and parameters: {'quantile_transform': 'No', 'n_estimators': 380, 'min_samples_split': 30, 'min_samples_leaf': 34, 'max_features': None}. Best is trial 4 with value: 0.9822468338336643.\u001b[0m\n",
      "\u001b[32m[I 2021-10-13 08:22:36,773]\u001b[0m Trial 6 finished with value: 0.9818536389033066 and parameters: {'quantile_transform': 'Yes', 'n_estimators': 280, 'min_samples_split': 35, 'min_samples_leaf': 19, 'max_features': None}. Best is trial 4 with value: 0.9822468338336643.\u001b[0m\n",
      "\u001b[32m[I 2021-10-13 08:26:31,907]\u001b[0m Trial 7 finished with value: 0.9809399282469281 and parameters: {'quantile_transform': 'Yes', 'n_estimators': 510, 'min_samples_split': 16, 'min_samples_leaf': 33, 'max_features': None}. Best is trial 4 with value: 0.9822468338336643.\u001b[0m\n",
      "\u001b[32m[I 2021-10-13 08:32:03,677]\u001b[0m Trial 8 finished with value: 0.9819719801595603 and parameters: {'quantile_transform': 'No', 'n_estimators': 680, 'min_samples_split': 34, 'min_samples_leaf': 17, 'max_features': None}. Best is trial 4 with value: 0.9822468338336643.\u001b[0m\n",
      "\u001b[32m[I 2021-10-13 08:34:56,967]\u001b[0m Trial 9 finished with value: 0.9797320521503708 and parameters: {'quantile_transform': 'No', 'n_estimators': 960, 'min_samples_split': 32, 'min_samples_leaf': 29, 'max_features': 'auto'}. Best is trial 4 with value: 0.9822468338336643.\u001b[0m\n",
      "\u001b[32m[I 2021-10-13 08:41:21,484]\u001b[0m Trial 10 finished with value: 0.9823457637682411 and parameters: {'quantile_transform': 'Yes', 'n_estimators': 690, 'min_samples_split': 3, 'min_samples_leaf': 2, 'max_features': None}. Best is trial 10 with value: 0.9823457637682411.\u001b[0m\n",
      "\u001b[32m[I 2021-10-13 08:47:25,975]\u001b[0m Trial 11 finished with value: 0.9826841263766781 and parameters: {'quantile_transform': 'Yes', 'n_estimators': 680, 'min_samples_split': 3, 'min_samples_leaf': 4, 'max_features': None}. Best is trial 11 with value: 0.9826841263766781.\u001b[0m\n",
      "\u001b[32m[I 2021-10-13 08:53:29,676]\u001b[0m Trial 12 finished with value: 0.9826841368151176 and parameters: {'quantile_transform': 'Yes', 'n_estimators': 680, 'min_samples_split': 2, 'min_samples_leaf': 4, 'max_features': None}. Best is trial 12 with value: 0.9826841368151176.\u001b[0m\n",
      "\u001b[32m[I 2021-10-13 08:54:09,420]\u001b[0m Trial 13 finished with value: 0.9814656264237502 and parameters: {'quantile_transform': 'Yes', 'n_estimators': 70, 'min_samples_split': 3, 'min_samples_leaf': 2, 'max_features': None}. Best is trial 12 with value: 0.9826841368151176.\u001b[0m\n",
      "\u001b[32m[I 2021-10-13 08:58:32,904]\u001b[0m Trial 14 finished with value: 0.980566918452279 and parameters: {'quantile_transform': 'Yes', 'n_estimators': 580, 'min_samples_split': 8, 'min_samples_leaf': 40, 'max_features': None}. Best is trial 12 with value: 0.9826841368151176.\u001b[0m\n",
      "\u001b[32m[I 2021-10-13 09:05:16,108]\u001b[0m Trial 15 finished with value: 0.9827071698465281 and parameters: {'quantile_transform': 'Yes', 'n_estimators': 770, 'min_samples_split': 8, 'min_samples_leaf': 6, 'max_features': None}. Best is trial 15 with value: 0.9827071698465281.\u001b[0m\n",
      "\u001b[32m[I 2021-10-13 09:12:18,719]\u001b[0m Trial 16 finished with value: 0.9825952047933153 and parameters: {'quantile_transform': 'Yes', 'n_estimators': 820, 'min_samples_split': 9, 'min_samples_leaf': 8, 'max_features': None}. Best is trial 15 with value: 0.9827071698465281.\u001b[0m\n",
      "\u001b[32m[I 2021-10-13 09:18:53,570]\u001b[0m Trial 17 finished with value: 0.9822531372572053 and parameters: {'quantile_transform': 'Yes', 'n_estimators': 790, 'min_samples_split': 21, 'min_samples_leaf': 13, 'max_features': None}. Best is trial 15 with value: 0.9827071698465281.\u001b[0m\n",
      "\u001b[32m[I 2021-10-13 09:23:33,567]\u001b[0m Trial 18 finished with value: 0.9814158930025625 and parameters: {'quantile_transform': 'No', 'n_estimators': 590, 'min_samples_split': 8, 'min_samples_leaf': 25, 'max_features': None}. Best is trial 15 with value: 0.9827071698465281.\u001b[0m\n",
      "\u001b[32m[I 2021-10-13 09:31:01,871]\u001b[0m Trial 19 finished with value: 0.9827338370517131 and parameters: {'quantile_transform': 'Yes', 'n_estimators': 850, 'min_samples_split': 21, 'min_samples_leaf': 5, 'max_features': None}. Best is trial 19 with value: 0.9827338370517131.\u001b[0m\n",
      "\u001b[32m[I 2021-10-13 09:37:56,019]\u001b[0m Trial 20 finished with value: 0.9816566077777725 and parameters: {'quantile_transform': 'Yes', 'n_estimators': 860, 'min_samples_split': 22, 'min_samples_leaf': 22, 'max_features': None}. Best is trial 19 with value: 0.9827338370517131.\u001b[0m\n",
      "\u001b[32m[I 2021-10-13 09:45:00,084]\u001b[0m Trial 21 finished with value: 0.9825844132860049 and parameters: {'quantile_transform': 'Yes', 'n_estimators': 790, 'min_samples_split': 40, 'min_samples_leaf': 6, 'max_features': None}. Best is trial 19 with value: 0.9827338370517131.\u001b[0m\n",
      "\u001b[32m[I 2021-10-13 09:52:35,984]\u001b[0m Trial 22 finished with value: 0.9823253381122651 and parameters: {'quantile_transform': 'Yes', 'n_estimators': 870, 'min_samples_split': 6, 'min_samples_leaf': 12, 'max_features': None}. Best is trial 19 with value: 0.9827338370517131.\u001b[0m\n",
      "\u001b[32m[I 2021-10-13 09:57:48,710]\u001b[0m Trial 23 finished with value: 0.9826805842414126 and parameters: {'quantile_transform': 'Yes', 'n_estimators': 590, 'min_samples_split': 11, 'min_samples_leaf': 6, 'max_features': None}. Best is trial 19 with value: 0.9827338370517131.\u001b[0m\n",
      "\u001b[32m[I 2021-10-13 10:04:22,757]\u001b[0m Trial 24 finished with value: 0.9827099383352375 and parameters: {'quantile_transform': 'Yes', 'n_estimators': 750, 'min_samples_split': 22, 'min_samples_leaf': 5, 'max_features': None}. Best is trial 19 with value: 0.9827338370517131.\u001b[0m\n",
      "\u001b[32m[I 2021-10-13 10:10:33,706]\u001b[0m Trial 25 finished with value: 0.9821171058125715 and parameters: {'quantile_transform': 'Yes', 'n_estimators': 750, 'min_samples_split': 24, 'min_samples_leaf': 15, 'max_features': None}. Best is trial 19 with value: 0.9827338370517131.\u001b[0m\n",
      "\u001b[32m[I 2021-10-13 10:17:57,174]\u001b[0m Trial 26 finished with value: 0.982489846610471 and parameters: {'quantile_transform': 'Yes', 'n_estimators': 870, 'min_samples_split': 19, 'min_samples_leaf': 10, 'max_features': None}. Best is trial 19 with value: 0.9827338370517131.\u001b[0m\n",
      "\u001b[32m[I 2021-10-13 10:26:19,919]\u001b[0m Trial 27 finished with value: 0.982625558774558 and parameters: {'quantile_transform': 'No', 'n_estimators': 980, 'min_samples_split': 27, 'min_samples_leaf': 7, 'max_features': None}. Best is trial 19 with value: 0.9827338370517131.\u001b[0m\n",
      "\u001b[32m[I 2021-10-13 10:30:44,897]\u001b[0m Trial 28 finished with value: 0.9824633576037709 and parameters: {'quantile_transform': 'Yes', 'n_estimators': 520, 'min_samples_split': 18, 'min_samples_leaf': 10, 'max_features': None}. Best is trial 19 with value: 0.9827338370517131.\u001b[0m\n",
      "\u001b[32m[I 2021-10-13 10:38:15,037]\u001b[0m Trial 29 finished with value: 0.9827541442864935 and parameters: {'quantile_transform': 'No', 'n_estimators': 850, 'min_samples_split': 27, 'min_samples_leaf': 4, 'max_features': None}. Best is trial 29 with value: 0.9827541442864935.\u001b[0m\n"
     ]
    }
   ],
   "source": [
    "study = optuna.create_study(direction = 'maximize')\n",
    "study.optimize(objective, show_progress_bar = True, n_trials = 30)"
   ]
  },
  {
   "cell_type": "code",
   "execution_count": 10,
   "id": "65e6e79a-ce58-4508-97c2-acbc103ad489",
   "metadata": {},
   "outputs": [
    {
     "name": "stdout",
     "output_type": "stream",
     "text": [
      "Highest Score:  0.9827541442864935\n",
      "Best Parameters:  {'quantile_transform': 'No', 'n_estimators': 850, 'min_samples_split': 27, 'min_samples_leaf': 4, 'max_features': None}\n",
      "Best Trial:  FrozenTrial(number=29, values=[0.9827541442864935], datetime_start=datetime.datetime(2021, 10, 13, 10, 30, 44, 903786), datetime_complete=datetime.datetime(2021, 10, 13, 10, 38, 15, 36450), params={'quantile_transform': 'No', 'n_estimators': 850, 'min_samples_split': 27, 'min_samples_leaf': 4, 'max_features': None}, distributions={'quantile_transform': CategoricalDistribution(choices=('Yes', 'No')), 'n_estimators': IntUniformDistribution(high=1000, low=10, step=10), 'min_samples_split': IntUniformDistribution(high=40, low=2, step=1), 'min_samples_leaf': IntUniformDistribution(high=40, low=2, step=1), 'max_features': CategoricalDistribution(choices=('auto', None))}, user_attrs={}, system_attrs={}, intermediate_values={}, trial_id=29, state=TrialState.COMPLETE, value=None)\n"
     ]
    }
   ],
   "source": [
    "print(\"Highest Score: \", study.best_value)\n",
    "print(\"Best Parameters: \", study.best_params)\n",
    "print(\"Best Trial: \", study.best_trial)"
   ]
  },
  {
   "cell_type": "markdown",
   "id": "5ea3cb18-5e56-4f11-a32f-10c3d90316c9",
   "metadata": {},
   "source": [
    "### Building Model with tuned parameters"
   ]
  },
  {
   "cell_type": "code",
   "execution_count": 11,
   "id": "1b736f19-0500-4e1d-84e5-02db9bff4787",
   "metadata": {},
   "outputs": [],
   "source": [
    "tuned_params = study.best_params"
   ]
  },
  {
   "cell_type": "code",
   "execution_count": 12,
   "id": "59b9e067-bfa8-4065-80bc-2c4b9a625ce5",
   "metadata": {},
   "outputs": [],
   "source": [
    "# Building modeling pipeline\n",
    "pipeline = create_rfc_pipeline(quantile_transform = tuned_params[\"quantile_transform\"],\n",
    "                               n_estimators = tuned_params[\"n_estimators\"],\n",
    "                               min_samples_split = tuned_params[\"min_samples_split\"],\n",
    "                               min_samples_leaf = tuned_params[\"min_samples_leaf\"],\n",
    "                               max_features = tuned_params[\"max_features\"])\n",
    "\n",
    "# Defining model evaluation\n",
    "cv = RepeatedStratifiedKFold(n_splits=10, n_repeats=10, random_state=42)\n",
    "\n",
    "# Evaluating Model\n",
    "scores = cross_val_score(pipeline, X, y, scoring='roc_auc', cv = cv, n_jobs = -1)"
   ]
  },
  {
   "cell_type": "code",
   "execution_count": 13,
   "id": "978c11ef-656d-4917-9abb-22b6221aae0e",
   "metadata": {},
   "outputs": [
    {
     "name": "stdout",
     "output_type": "stream",
     "text": [
      "Random Forest Classifier Pipeline:  Pipeline(steps=[('median_imputer', SimpleImputer(strategy='median')),\n",
      "                ('cart_model',\n",
      "                 RandomForestClassifier(max_features=None, min_samples_leaf=4,\n",
      "                                        min_samples_split=27, n_estimators=850,\n",
      "                                        n_jobs=-1, random_state=42))])\n",
      "Mean AUC-ROC Score of Random Forest Classifier: 0.9827 ± 0.0015\n"
     ]
    }
   ],
   "source": [
    "print(\"Random Forest Classifier Pipeline: \", pipeline)\n",
    "print('Mean AUC-ROC Score of Random Forest Classifier: %.4f \\u00B1 %.4f' % (np.mean(scores), np.std(scores)))"
   ]
  }
 ],
 "metadata": {
  "kernelspec": {
   "display_name": "Python 3.9: isp-churn-prediction",
   "language": "python",
   "name": "isp-churn-prediction"
  },
  "language_info": {
   "codemirror_mode": {
    "name": "ipython",
    "version": 3
   },
   "file_extension": ".py",
   "mimetype": "text/x-python",
   "name": "python",
   "nbconvert_exporter": "python",
   "pygments_lexer": "ipython3",
   "version": "3.9.7"
  }
 },
 "nbformat": 4,
 "nbformat_minor": 5
}
