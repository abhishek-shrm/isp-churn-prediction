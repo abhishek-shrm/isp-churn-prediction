{
 "cells": [
  {
   "cell_type": "markdown",
   "id": "b9b037b9-c278-4afe-ba09-ca02907ec79e",
   "metadata": {},
   "source": [
    "# Modeling - Decision Tree\n",
    "In this notebook, I have created a Decision Tree for predicting churn for an Internet Service Provider and tuned its hyperparameters using Optuna which is a Hyperparameter Optimization Framework that uses Tree-structured Parzen Estimator (TPE) to find the most optimal parameters."
   ]
  },
  {
   "cell_type": "markdown",
   "id": "8fea6c0a-346a-4a0c-b6c7-d1e2dd6f3445",
   "metadata": {},
   "source": [
    "## Table of Contents:\n",
    "1. Data Loading\n",
    "2. Modeling\n",
    "    - Finding Best Hyperparameters\n",
    "    - Building Model with tuned parameters"
   ]
  },
  {
   "cell_type": "code",
   "execution_count": 1,
   "id": "83103ec0-5e89-4305-953c-78983ede78f8",
   "metadata": {},
   "outputs": [],
   "source": [
    "# Importing required libraries and modules\n",
    "import os\n",
    "import sys\n",
    "import optuna\n",
    "import numpy as np\n",
    "import pandas as pd\n",
    "import seaborn as sns\n",
    "import matplotlib.pyplot as plt\n",
    "\n",
    "from sklearn.pipeline import Pipeline\n",
    "from sklearn.impute import SimpleImputer\n",
    "from sklearn.compose import ColumnTransformer\n",
    "from sklearn.tree import DecisionTreeClassifier\n",
    "from sklearn.model_selection import GridSearchCV\n",
    "from sklearn.preprocessing import QuantileTransformer\n",
    "\n",
    "from sklearn.model_selection import cross_val_score, RepeatedStratifiedKFold"
   ]
  },
  {
   "cell_type": "code",
   "execution_count": 2,
   "id": "3ad93099-c244-4504-ac65-3792f1c98b94",
   "metadata": {},
   "outputs": [],
   "source": [
    "# Setting seaborn figure size\n",
    "sns.set(rc={'figure.figsize':(10,8)})\n",
    "\n",
    "# Setting the seed\n",
    "np.random.seed(42)"
   ]
  },
  {
   "cell_type": "markdown",
   "id": "38a5b3ff-0624-4d61-a45f-b1a791f5f00e",
   "metadata": {},
   "source": [
    "## Data Loading"
   ]
  },
  {
   "cell_type": "code",
   "execution_count": 3,
   "id": "10d4b864-0e98-4225-8c0b-29c12afb9de8",
   "metadata": {},
   "outputs": [],
   "source": [
    "train_prepared = pd.read_csv('../data/processed/train-prepared.csv')"
   ]
  },
  {
   "cell_type": "code",
   "execution_count": 4,
   "id": "1a133eda-6c9b-449e-a83e-472e2e9fd185",
   "metadata": {},
   "outputs": [
    {
     "name": "stdout",
     "output_type": "stream",
     "text": [
      "Shape=> (62273, 11)\n"
     ]
    },
    {
     "data": {
      "text/html": [
       "<div>\n",
       "<style scoped>\n",
       "    .dataframe tbody tr th:only-of-type {\n",
       "        vertical-align: middle;\n",
       "    }\n",
       "\n",
       "    .dataframe tbody tr th {\n",
       "        vertical-align: top;\n",
       "    }\n",
       "\n",
       "    .dataframe thead th {\n",
       "        text-align: right;\n",
       "    }\n",
       "</style>\n",
       "<table border=\"1\" class=\"dataframe\">\n",
       "  <thead>\n",
       "    <tr style=\"text-align: right;\">\n",
       "      <th></th>\n",
       "      <th>is_tv_subscriber</th>\n",
       "      <th>is_movie_package_subscriber</th>\n",
       "      <th>subscription_age</th>\n",
       "      <th>bill_avg</th>\n",
       "      <th>remaining_contract</th>\n",
       "      <th>is_contract</th>\n",
       "      <th>service_failure_count</th>\n",
       "      <th>download_avg</th>\n",
       "      <th>upload_avg</th>\n",
       "      <th>download_over_limit</th>\n",
       "      <th>churn</th>\n",
       "    </tr>\n",
       "  </thead>\n",
       "  <tbody>\n",
       "    <tr>\n",
       "      <th>0</th>\n",
       "      <td>1</td>\n",
       "      <td>1</td>\n",
       "      <td>1.77</td>\n",
       "      <td>7</td>\n",
       "      <td>0.19</td>\n",
       "      <td>1</td>\n",
       "      <td>0</td>\n",
       "      <td>114.1</td>\n",
       "      <td>8.7</td>\n",
       "      <td>0</td>\n",
       "      <td>0</td>\n",
       "    </tr>\n",
       "    <tr>\n",
       "      <th>1</th>\n",
       "      <td>1</td>\n",
       "      <td>0</td>\n",
       "      <td>0.05</td>\n",
       "      <td>6</td>\n",
       "      <td>0.59</td>\n",
       "      <td>1</td>\n",
       "      <td>0</td>\n",
       "      <td>12.7</td>\n",
       "      <td>1.3</td>\n",
       "      <td>0</td>\n",
       "      <td>0</td>\n",
       "    </tr>\n",
       "    <tr>\n",
       "      <th>2</th>\n",
       "      <td>0</td>\n",
       "      <td>0</td>\n",
       "      <td>1.42</td>\n",
       "      <td>18</td>\n",
       "      <td>0.00</td>\n",
       "      <td>0</td>\n",
       "      <td>0</td>\n",
       "      <td>0.4</td>\n",
       "      <td>0.0</td>\n",
       "      <td>0</td>\n",
       "      <td>1</td>\n",
       "    </tr>\n",
       "    <tr>\n",
       "      <th>3</th>\n",
       "      <td>1</td>\n",
       "      <td>0</td>\n",
       "      <td>0.73</td>\n",
       "      <td>20</td>\n",
       "      <td>0.00</td>\n",
       "      <td>1</td>\n",
       "      <td>0</td>\n",
       "      <td>9.3</td>\n",
       "      <td>0.4</td>\n",
       "      <td>0</td>\n",
       "      <td>1</td>\n",
       "    </tr>\n",
       "    <tr>\n",
       "      <th>4</th>\n",
       "      <td>1</td>\n",
       "      <td>0</td>\n",
       "      <td>0.25</td>\n",
       "      <td>17</td>\n",
       "      <td>0.00</td>\n",
       "      <td>1</td>\n",
       "      <td>0</td>\n",
       "      <td>6.1</td>\n",
       "      <td>0.5</td>\n",
       "      <td>0</td>\n",
       "      <td>1</td>\n",
       "    </tr>\n",
       "  </tbody>\n",
       "</table>\n",
       "</div>"
      ],
      "text/plain": [
       "   is_tv_subscriber  is_movie_package_subscriber  subscription_age  bill_avg  \\\n",
       "0                 1                            1              1.77         7   \n",
       "1                 1                            0              0.05         6   \n",
       "2                 0                            0              1.42        18   \n",
       "3                 1                            0              0.73        20   \n",
       "4                 1                            0              0.25        17   \n",
       "\n",
       "   remaining_contract  is_contract  service_failure_count  download_avg  \\\n",
       "0                0.19            1                      0         114.1   \n",
       "1                0.59            1                      0          12.7   \n",
       "2                0.00            0                      0           0.4   \n",
       "3                0.00            1                      0           9.3   \n",
       "4                0.00            1                      0           6.1   \n",
       "\n",
       "   upload_avg  download_over_limit  churn  \n",
       "0         8.7                    0      0  \n",
       "1         1.3                    0      0  \n",
       "2         0.0                    0      1  \n",
       "3         0.4                    0      1  \n",
       "4         0.5                    0      1  "
      ]
     },
     "execution_count": 4,
     "metadata": {},
     "output_type": "execute_result"
    }
   ],
   "source": [
    "print('Shape=>', train_prepared.shape)\n",
    "train_prepared.head()"
   ]
  },
  {
   "cell_type": "code",
   "execution_count": 5,
   "id": "ced0459f-7a00-4873-be26-f9815544aebe",
   "metadata": {},
   "outputs": [
    {
     "name": "stdout",
     "output_type": "stream",
     "text": [
      "<class 'pandas.core.frame.DataFrame'>\n",
      "RangeIndex: 62273 entries, 0 to 62272\n",
      "Data columns (total 11 columns):\n",
      " #   Column                       Non-Null Count  Dtype  \n",
      "---  ------                       --------------  -----  \n",
      " 0   is_tv_subscriber             62273 non-null  int64  \n",
      " 1   is_movie_package_subscriber  62273 non-null  int64  \n",
      " 2   subscription_age             62273 non-null  float64\n",
      " 3   bill_avg                     62273 non-null  int64  \n",
      " 4   remaining_contract           62273 non-null  float64\n",
      " 5   is_contract                  62273 non-null  int64  \n",
      " 6   service_failure_count        62273 non-null  int64  \n",
      " 7   download_avg                 61948 non-null  float64\n",
      " 8   upload_avg                   61948 non-null  float64\n",
      " 9   download_over_limit          62273 non-null  int64  \n",
      " 10  churn                        62273 non-null  int64  \n",
      "dtypes: float64(4), int64(7)\n",
      "memory usage: 5.2 MB\n"
     ]
    }
   ],
   "source": [
    "# Getting an overview of the dataset\n",
    "train_prepared.info(show_counts=True,verbose=True)"
   ]
  },
  {
   "cell_type": "markdown",
   "id": "f8861005-b66a-4b10-9849-2867dfe38990",
   "metadata": {},
   "source": [
    "## Modeling"
   ]
  },
  {
   "cell_type": "code",
   "execution_count": 6,
   "id": "7a3d7abc-23b2-49db-ae10-f48cc9d222ae",
   "metadata": {},
   "outputs": [],
   "source": [
    "# Separating predictors and target\n",
    "X, y = train_prepared.loc[:, train_prepared.columns != 'churn'], train_prepared.loc[:, 'churn']"
   ]
  },
  {
   "cell_type": "markdown",
   "id": "38b08807-3450-4129-8767-d590de4da50b",
   "metadata": {},
   "source": [
    "### Finding Best Hyperparameters"
   ]
  },
  {
   "cell_type": "code",
   "execution_count": 7,
   "id": "1aeee432-77c1-4bbf-a3ea-148c5d47be7e",
   "metadata": {},
   "outputs": [],
   "source": [
    "def create_cart_pipeline(quantile_transform: str, min_samples_split: int,\n",
    "                         min_samples_leaf: int) -> Pipeline:\n",
    "    \"\"\" Returns a pipeline object created around Decision Tree\n",
    "        algorithm\n",
    "    \n",
    "    Takes data preparation and Decision Tree modeling\n",
    "        parameters as input, creates a Scikit-learn\n",
    "        pipeline object and returns it\n",
    "    \n",
    "    Parameters\n",
    "    ----------\n",
    "    quantile_transform : str\n",
    "        - \"Yes\": Quantile Transformation will be performed\n",
    "        - \"No\": No Transformation\n",
    "    \n",
    "    min_samples_split: int\n",
    "        min_samples_split argument of DecisionTreeClassifier\n",
    "    \n",
    "    min_samples_leaf: int\n",
    "        min_samples_leaf argument of DecisionTreeClassifier\n",
    "        \n",
    "    Returns\n",
    "    -------\n",
    "    pipeline : Pipeline\n",
    "        The pipeline object from Scikit-Learn\n",
    "    \"\"\"\n",
    "    pipeline_steps = []\n",
    "    \n",
    "    # Adding SimpleImputer to pipeline\n",
    "    imputer = SimpleImputer(strategy = 'median')\n",
    "    pipeline_steps.append(('median_imputer', imputer))\n",
    "\n",
    "    # Adding QuantileTransformer to pipeline (if required)\n",
    "    if quantile_transform == \"Yes\":\n",
    "        quantile_transformer = QuantileTransformer(n_quantiles=1000,\n",
    "                                                   output_distribution='normal',\n",
    "                                                   random_state=42)\n",
    "\n",
    "        transformer = ColumnTransformer(transformers=[('quantile_transformer',\n",
    "                                                       quantile_transformer,\n",
    "                                                       [2, 3, 4, 6, 7, 8, 9])],\n",
    "                                        n_jobs=-1,\n",
    "                                        remainder='passthrough')\n",
    "        pipeline_steps.append(('transformer', transformer))\n",
    "    \n",
    "    # Adding CART Model to pipeline\n",
    "    model = DecisionTreeClassifier(criterion = \"gini\",\n",
    "                                   splitter = \"best\",\n",
    "                                   min_samples_split = min_samples_split,\n",
    "                                   min_samples_leaf = min_samples_leaf,\n",
    "                                   random_state = 42)\n",
    "    \n",
    "    pipeline_steps.append(('cart_model', model))\n",
    "    \n",
    "    # Building Pipeline Object\n",
    "    pipeline = Pipeline(steps = pipeline_steps)\n",
    "    \n",
    "    return pipeline"
   ]
  },
  {
   "cell_type": "code",
   "execution_count": 8,
   "id": "eaad1a3f-eb21-4baa-ad48-2b3dcb809ecb",
   "metadata": {},
   "outputs": [],
   "source": [
    "def objective(trial: optuna.trial.Trial) -> np.ndarray:\n",
    "    \"\"\" Returns ROC-AUC score for CART algorithm\n",
    "    \n",
    "    Objective function for optimizing CART algorithm\n",
    "        using Optuna. Takes optuna Trial object as\n",
    "        input, performs 10-fold cross-validation 5 times\n",
    "        and returns mean ROC-AUC score for a set of\n",
    "        hyperparameters of Decision Tree modeling\n",
    "        pipeline.\n",
    "        \n",
    "    Parameters\n",
    "    ----------\n",
    "    trial : optuna.trial.Trial\n",
    "        A trial is a process of evaluating an objective function.\n",
    "        This object is passed to an objective function and provides\n",
    "        interfaces to get parameter suggestion, manage the trial’s\n",
    "        state, and set/get user-defined attributes of the trial.\n",
    "    \n",
    "    Returns\n",
    "    -------\n",
    "    roc_auc_score : np.ndarray\n",
    "        Mean ROC-AUC Score of 10-fold cross-validation\n",
    "        repeated 5 times for a Decision Tree modeling\n",
    "        pipeline with a set of hyperparameters.\n",
    "    \"\"\"\n",
    "    # Data preparation parameters\n",
    "    quantile_transform = trial.suggest_categorical(\"quantile_transform\", [\"Yes\", \"No\"])\n",
    "    \n",
    "    # Modeling parameters\n",
    "    min_samples_split = trial.suggest_int(\"min_samples_split\", low=2, high=50, step=1)\n",
    "    min_samples_leaf = trial.suggest_int(\"min_samples_leaf\", low=2, high=50, step=1)\n",
    "    \n",
    "    # Building modeling pipeline\n",
    "    pipeline = create_cart_pipeline(quantile_transform, min_samples_split, min_samples_leaf)\n",
    "    \n",
    "    # Defining Cross-Validation\n",
    "    cv = RepeatedStratifiedKFold(n_splits=10, n_repeats=5, random_state=42)\n",
    "    scores = cross_val_score(pipeline, X, y, scoring='roc_auc', cv=cv, n_jobs=-1)\n",
    "    \n",
    "    return np.mean(scores)"
   ]
  },
  {
   "cell_type": "code",
   "execution_count": 9,
   "id": "1f0f3f2a-d7bb-421f-a9e9-d4d8662d7a5d",
   "metadata": {},
   "outputs": [
    {
     "name": "stderr",
     "output_type": "stream",
     "text": [
      "\u001b[32m[I 2021-10-13 07:14:32,747]\u001b[0m A new study created in memory with name: no-name-4dfa2af9-f21a-468c-86de-b410b3ca544d\u001b[0m\n",
      "/home/abhishek/anaconda3/envs/isp-churn-prediction/lib/python3.9/site-packages/optuna/progress_bar.py:47: ExperimentalWarning: Progress bar is experimental (supported from v1.2.0). The interface can change in the future.\n",
      "  self._init_valid()\n"
     ]
    },
    {
     "data": {
      "application/vnd.jupyter.widget-view+json": {
       "model_id": "1e5dab59ed1f41bdbf4f739620dab386",
       "version_major": 2,
       "version_minor": 0
      },
      "text/plain": [
       "  0%|          | 0/30 [00:00<?, ?it/s]"
      ]
     },
     "metadata": {},
     "output_type": "display_data"
    },
    {
     "name": "stdout",
     "output_type": "stream",
     "text": [
      "\u001b[32m[I 2021-10-13 07:14:42,848]\u001b[0m Trial 0 finished with value: 0.9708674611738232 and parameters: {'quantile_transform': 'Yes', 'min_samples_split': 25, 'min_samples_leaf': 16}. Best is trial 0 with value: 0.9708674611738232.\u001b[0m\n",
      "\u001b[32m[I 2021-10-13 07:14:51,166]\u001b[0m Trial 1 finished with value: 0.9728945116205585 and parameters: {'quantile_transform': 'Yes', 'min_samples_split': 50, 'min_samples_leaf': 19}. Best is trial 1 with value: 0.9728945116205585.\u001b[0m\n",
      "\u001b[32m[I 2021-10-13 07:14:59,309]\u001b[0m Trial 2 finished with value: 0.975060845011023 and parameters: {'quantile_transform': 'Yes', 'min_samples_split': 13, 'min_samples_leaf': 44}. Best is trial 2 with value: 0.975060845011023.\u001b[0m\n",
      "\u001b[32m[I 2021-10-13 07:15:06,476]\u001b[0m Trial 3 finished with value: 0.9732303801943619 and parameters: {'quantile_transform': 'No', 'min_samples_split': 29, 'min_samples_leaf': 25}. Best is trial 2 with value: 0.975060845011023.\u001b[0m\n",
      "\u001b[32m[I 2021-10-13 07:15:16,487]\u001b[0m Trial 4 finished with value: 0.9722869520514071 and parameters: {'quantile_transform': 'Yes', 'min_samples_split': 47, 'min_samples_leaf': 15}. Best is trial 2 with value: 0.975060845011023.\u001b[0m\n",
      "\u001b[32m[I 2021-10-13 07:15:24,649]\u001b[0m Trial 5 finished with value: 0.9751577233859277 and parameters: {'quantile_transform': 'Yes', 'min_samples_split': 16, 'min_samples_leaf': 46}. Best is trial 5 with value: 0.9751577233859277.\u001b[0m\n",
      "\u001b[32m[I 2021-10-13 07:15:30,672]\u001b[0m Trial 6 finished with value: 0.9710409393285897 and parameters: {'quantile_transform': 'No', 'min_samples_split': 34, 'min_samples_leaf': 16}. Best is trial 5 with value: 0.9751577233859277.\u001b[0m\n",
      "\u001b[32m[I 2021-10-13 07:15:39,031]\u001b[0m Trial 7 finished with value: 0.9720814236787062 and parameters: {'quantile_transform': 'Yes', 'min_samples_split': 9, 'min_samples_leaf': 20}. Best is trial 5 with value: 0.9751577233859277.\u001b[0m\n",
      "\u001b[32m[I 2021-10-13 07:15:46,656]\u001b[0m Trial 8 finished with value: 0.9735693056886049 and parameters: {'quantile_transform': 'Yes', 'min_samples_split': 2, 'min_samples_leaf': 27}. Best is trial 5 with value: 0.9751577233859277.\u001b[0m\n",
      "\u001b[32m[I 2021-10-13 07:15:54,393]\u001b[0m Trial 9 finished with value: 0.9712021635240411 and parameters: {'quantile_transform': 'Yes', 'min_samples_split': 11, 'min_samples_leaf': 17}. Best is trial 5 with value: 0.9751577233859277.\u001b[0m\n",
      "\u001b[32m[I 2021-10-13 07:15:59,970]\u001b[0m Trial 10 finished with value: 0.9750677367852869 and parameters: {'quantile_transform': 'No', 'min_samples_split': 21, 'min_samples_leaf': 48}. Best is trial 5 with value: 0.9751577233859277.\u001b[0m\n",
      "\u001b[32m[I 2021-10-13 07:16:06,091]\u001b[0m Trial 11 finished with value: 0.975131362571376 and parameters: {'quantile_transform': 'No', 'min_samples_split': 19, 'min_samples_leaf': 49}. Best is trial 5 with value: 0.9751577233859277.\u001b[0m\n",
      "\u001b[32m[I 2021-10-13 07:16:11,755]\u001b[0m Trial 12 finished with value: 0.9748477884069184 and parameters: {'quantile_transform': 'No', 'min_samples_split': 18, 'min_samples_leaf': 38}. Best is trial 5 with value: 0.9751577233859277.\u001b[0m\n",
      "\u001b[32m[I 2021-10-13 07:16:17,742]\u001b[0m Trial 13 finished with value: 0.9746804636924543 and parameters: {'quantile_transform': 'No', 'min_samples_split': 35, 'min_samples_leaf': 36}. Best is trial 5 with value: 0.9751577233859277.\u001b[0m\n",
      "\u001b[32m[I 2021-10-13 07:16:23,900]\u001b[0m Trial 14 finished with value: 0.9635357370599548 and parameters: {'quantile_transform': 'No', 'min_samples_split': 16, 'min_samples_leaf': 6}. Best is trial 5 with value: 0.9751577233859277.\u001b[0m\n",
      "\u001b[32m[I 2021-10-13 07:16:29,298]\u001b[0m Trial 15 finished with value: 0.975131362571376 and parameters: {'quantile_transform': 'No', 'min_samples_split': 3, 'min_samples_leaf': 49}. Best is trial 5 with value: 0.9751577233859277.\u001b[0m\n",
      "\u001b[32m[I 2021-10-13 07:16:37,562]\u001b[0m Trial 16 finished with value: 0.9749142953122408 and parameters: {'quantile_transform': 'Yes', 'min_samples_split': 23, 'min_samples_leaf': 40}. Best is trial 5 with value: 0.9751577233859277.\u001b[0m\n",
      "\u001b[32m[I 2021-10-13 07:16:43,644]\u001b[0m Trial 17 finished with value: 0.9742233302380103 and parameters: {'quantile_transform': 'No', 'min_samples_split': 29, 'min_samples_leaf': 32}. Best is trial 5 with value: 0.9751577233859277.\u001b[0m\n",
      "\u001b[32m[I 2021-10-13 07:16:51,483]\u001b[0m Trial 18 finished with value: 0.9749817304177307 and parameters: {'quantile_transform': 'Yes', 'min_samples_split': 4, 'min_samples_leaf': 42}. Best is trial 5 with value: 0.9751577233859277.\u001b[0m\n",
      "\u001b[32m[I 2021-10-13 07:16:56,930]\u001b[0m Trial 19 finished with value: 0.9751528137311779 and parameters: {'quantile_transform': 'No', 'min_samples_split': 36, 'min_samples_leaf': 50}. Best is trial 5 with value: 0.9751577233859277.\u001b[0m\n",
      "\u001b[32m[I 2021-10-13 07:17:04,887]\u001b[0m Trial 20 finished with value: 0.9743759519051335 and parameters: {'quantile_transform': 'Yes', 'min_samples_split': 34, 'min_samples_leaf': 33}. Best is trial 5 with value: 0.9751577233859277.\u001b[0m\n",
      "\u001b[32m[I 2021-10-13 07:17:10,515]\u001b[0m Trial 21 finished with value: 0.9751528137311779 and parameters: {'quantile_transform': 'No', 'min_samples_split': 43, 'min_samples_leaf': 50}. Best is trial 5 with value: 0.9751577233859277.\u001b[0m\n",
      "\u001b[32m[I 2021-10-13 07:17:15,795]\u001b[0m Trial 22 finished with value: 0.9750950134923335 and parameters: {'quantile_transform': 'No', 'min_samples_split': 42, 'min_samples_leaf': 45}. Best is trial 5 with value: 0.9751577233859277.\u001b[0m\n",
      "\u001b[32m[I 2021-10-13 07:17:20,981]\u001b[0m Trial 23 finished with value: 0.975066320056825 and parameters: {'quantile_transform': 'No', 'min_samples_split': 45, 'min_samples_leaf': 44}. Best is trial 5 with value: 0.9751577233859277.\u001b[0m\n",
      "\u001b[32m[I 2021-10-13 07:17:26,066]\u001b[0m Trial 24 finished with value: 0.9751528137311779 and parameters: {'quantile_transform': 'No', 'min_samples_split': 38, 'min_samples_leaf': 50}. Best is trial 5 with value: 0.9751577233859277.\u001b[0m\n",
      "\u001b[32m[I 2021-10-13 07:17:31,626]\u001b[0m Trial 25 finished with value: 0.9750995155907249 and parameters: {'quantile_transform': 'No', 'min_samples_split': 42, 'min_samples_leaf': 46}. Best is trial 5 with value: 0.9751577233859277.\u001b[0m\n",
      "\u001b[32m[I 2021-10-13 07:17:37,359]\u001b[0m Trial 26 finished with value: 0.974971651991658 and parameters: {'quantile_transform': 'No', 'min_samples_split': 39, 'min_samples_leaf': 41}. Best is trial 5 with value: 0.9751577233859277.\u001b[0m\n",
      "\u001b[32m[I 2021-10-13 07:17:42,581]\u001b[0m Trial 27 finished with value: 0.9746804636924543 and parameters: {'quantile_transform': 'No', 'min_samples_split': 29, 'min_samples_leaf': 36}. Best is trial 5 with value: 0.9751577233859277.\u001b[0m\n",
      "\u001b[32m[I 2021-10-13 07:17:50,121]\u001b[0m Trial 28 finished with value: 0.9707857599636064 and parameters: {'quantile_transform': 'Yes', 'min_samples_split': 39, 'min_samples_leaf': 7}. Best is trial 5 with value: 0.9751577233859277.\u001b[0m\n",
      "\u001b[32m[I 2021-10-13 07:17:57,312]\u001b[0m Trial 29 finished with value: 0.9751238372767037 and parameters: {'quantile_transform': 'Yes', 'min_samples_split': 26, 'min_samples_leaf': 47}. Best is trial 5 with value: 0.9751577233859277.\u001b[0m\n"
     ]
    }
   ],
   "source": [
    "study = optuna.create_study(direction = 'maximize')\n",
    "study.optimize(objective, show_progress_bar = True, n_trials = 30)"
   ]
  },
  {
   "cell_type": "code",
   "execution_count": 10,
   "id": "65e6e79a-ce58-4508-97c2-acbc103ad489",
   "metadata": {},
   "outputs": [
    {
     "name": "stdout",
     "output_type": "stream",
     "text": [
      "Highest Score:  0.9751577233859277\n",
      "Best Parameters:  {'quantile_transform': 'Yes', 'min_samples_split': 16, 'min_samples_leaf': 46}\n",
      "Best Trial:  FrozenTrial(number=5, values=[0.9751577233859277], datetime_start=datetime.datetime(2021, 10, 13, 7, 15, 16, 497292), datetime_complete=datetime.datetime(2021, 10, 13, 7, 15, 24, 648573), params={'quantile_transform': 'Yes', 'min_samples_split': 16, 'min_samples_leaf': 46}, distributions={'quantile_transform': CategoricalDistribution(choices=('Yes', 'No')), 'min_samples_split': IntUniformDistribution(high=50, low=2, step=1), 'min_samples_leaf': IntUniformDistribution(high=50, low=2, step=1)}, user_attrs={}, system_attrs={}, intermediate_values={}, trial_id=5, state=TrialState.COMPLETE, value=None)\n"
     ]
    }
   ],
   "source": [
    "print(\"Highest Score: \", study.best_value)\n",
    "print(\"Best Parameters: \", study.best_params)\n",
    "print(\"Best Trial: \", study.best_trial)"
   ]
  },
  {
   "cell_type": "markdown",
   "id": "5ea3cb18-5e56-4f11-a32f-10c3d90316c9",
   "metadata": {},
   "source": [
    "### Building Model with tuned parameters"
   ]
  },
  {
   "cell_type": "code",
   "execution_count": 11,
   "id": "1b736f19-0500-4e1d-84e5-02db9bff4787",
   "metadata": {},
   "outputs": [],
   "source": [
    "tuned_params = study.best_params"
   ]
  },
  {
   "cell_type": "code",
   "execution_count": 12,
   "id": "59b9e067-bfa8-4065-80bc-2c4b9a625ce5",
   "metadata": {},
   "outputs": [],
   "source": [
    "# Building modeling pipeline\n",
    "pipeline = create_cart_pipeline(quantile_transform = tuned_params[\"quantile_transform\"],\n",
    "                                min_samples_split = tuned_params[\"min_samples_split\"],\n",
    "                                min_samples_leaf = tuned_params[\"min_samples_leaf\"])\n",
    "\n",
    "# Defining model evaluation\n",
    "cv = RepeatedStratifiedKFold(n_splits=10, n_repeats=10, random_state=42)\n",
    "\n",
    "# Evaluating Model\n",
    "scores = cross_val_score(pipeline, X, y, scoring='roc_auc', cv = cv, n_jobs = -1)"
   ]
  },
  {
   "cell_type": "code",
   "execution_count": 13,
   "id": "978c11ef-656d-4917-9abb-22b6221aae0e",
   "metadata": {},
   "outputs": [
    {
     "name": "stdout",
     "output_type": "stream",
     "text": [
      "Decision Tree Classifier Pipeline:  Pipeline(steps=[('median_imputer', SimpleImputer(strategy='median')),\n",
      "                ('transformer',\n",
      "                 ColumnTransformer(n_jobs=-1, remainder='passthrough',\n",
      "                                   transformers=[('quantile_transformer',\n",
      "                                                  QuantileTransformer(output_distribution='normal',\n",
      "                                                                      random_state=42),\n",
      "                                                  [2, 3, 4, 6, 7, 8, 9])])),\n",
      "                ('cart_model',\n",
      "                 DecisionTreeClassifier(min_samples_leaf=46,\n",
      "                                        min_samples_split=16,\n",
      "                                        random_state=42))])\n",
      "Mean AUC-ROC Score of Decision Tree Classifier: 0.9751 ± 0.0021\n"
     ]
    }
   ],
   "source": [
    "print(\"Decision Tree Classifier Pipeline: \", pipeline)\n",
    "print('Mean AUC-ROC Score of Decision Tree Classifier: %.4f \\u00B1 %.4f' % (np.mean(scores), np.std(scores)))"
   ]
  }
 ],
 "metadata": {
  "kernelspec": {
   "display_name": "Python 3.9: isp-churn-prediction",
   "language": "python",
   "name": "isp-churn-prediction"
  },
  "language_info": {
   "codemirror_mode": {
    "name": "ipython",
    "version": 3
   },
   "file_extension": ".py",
   "mimetype": "text/x-python",
   "name": "python",
   "nbconvert_exporter": "python",
   "pygments_lexer": "ipython3",
   "version": "3.9.7"
  }
 },
 "nbformat": 4,
 "nbformat_minor": 5
}
