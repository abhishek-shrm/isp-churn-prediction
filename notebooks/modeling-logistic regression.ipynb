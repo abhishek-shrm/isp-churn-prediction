{
 "cells": [
  {
   "cell_type": "markdown",
   "id": "6da986b0-baf0-45de-9787-00f70b5a5c04",
   "metadata": {},
   "source": [
    "# Modeling - Logistic Regression\n",
    "In this notebook, I have created a Logistic Regression Model for predicting churn for an Internet Service Provider. I have also used Grid Search for tuning the hyperparameters."
   ]
  },
  {
   "cell_type": "markdown",
   "id": "977b7c4b-be83-46cd-93c6-83163b89a8cf",
   "metadata": {},
   "source": [
    "## Table of Contents:\n",
    "1. Data Loading\n",
    "2. Checking for Assumptions of Logistic Regression\n",
    "    - Categorical Target\n",
    "    - Independence of Observations\n",
    "    - Linear relationship between numerical variables and log odds of target\n",
    "    - Absence of Multicollinearity\n",
    "3. Modeling\n",
    "    - Finding Best Hyperparameters\n",
    "    - Building Model with tuned parameters"
   ]
  },
  {
   "cell_type": "code",
   "execution_count": 1,
   "id": "9d7cf092-c7da-485c-a159-6f74242c13e6",
   "metadata": {},
   "outputs": [],
   "source": [
    "# Importing required libraries and modules\n",
    "import os\n",
    "import sys\n",
    "import numpy as np\n",
    "import pandas as pd\n",
    "import seaborn as sns\n",
    "import missingno as msno\n",
    "import matplotlib.pyplot as plt\n",
    "\n",
    "from statsmodels.stats.outliers_influence import variance_inflation_factor\n",
    "\n",
    "from sklearn.pipeline import Pipeline\n",
    "from sklearn.impute import SimpleImputer\n",
    "from sklearn.compose import ColumnTransformer\n",
    "from sklearn.model_selection import GridSearchCV\n",
    "from sklearn.preprocessing import QuantileTransformer\n",
    "from sklearn.linear_model import LogisticRegression\n",
    "from sklearn.model_selection import cross_val_score, RepeatedStratifiedKFold"
   ]
  },
  {
   "cell_type": "code",
   "execution_count": 2,
   "id": "64a8184b-1682-4322-9273-1e73e329fd37",
   "metadata": {},
   "outputs": [],
   "source": [
    "# Setting seaborn figure size\n",
    "sns.set(rc={'figure.figsize':(10,8)})\n",
    "\n",
    "# Setting the seed\n",
    "np.random.seed(42)"
   ]
  },
  {
   "cell_type": "markdown",
   "id": "35d4ae93-6668-4908-b769-e47562398e7d",
   "metadata": {},
   "source": [
    "## Data Loading"
   ]
  },
  {
   "cell_type": "code",
   "execution_count": 3,
   "id": "aeedc42a-04b2-43e0-a8ff-bcad70cc068a",
   "metadata": {},
   "outputs": [],
   "source": [
    "train_prepared = pd.read_csv('../data/processed/train-prepared.csv')"
   ]
  },
  {
   "cell_type": "code",
   "execution_count": 4,
   "id": "c78dd738-3ade-4bd3-bfa2-9ea27eb0b3c2",
   "metadata": {},
   "outputs": [
    {
     "name": "stdout",
     "output_type": "stream",
     "text": [
      "Shape=> (62273, 11)\n"
     ]
    },
    {
     "data": {
      "text/html": [
       "<div>\n",
       "<style scoped>\n",
       "    .dataframe tbody tr th:only-of-type {\n",
       "        vertical-align: middle;\n",
       "    }\n",
       "\n",
       "    .dataframe tbody tr th {\n",
       "        vertical-align: top;\n",
       "    }\n",
       "\n",
       "    .dataframe thead th {\n",
       "        text-align: right;\n",
       "    }\n",
       "</style>\n",
       "<table border=\"1\" class=\"dataframe\">\n",
       "  <thead>\n",
       "    <tr style=\"text-align: right;\">\n",
       "      <th></th>\n",
       "      <th>is_tv_subscriber</th>\n",
       "      <th>is_movie_package_subscriber</th>\n",
       "      <th>subscription_age</th>\n",
       "      <th>bill_avg</th>\n",
       "      <th>remaining_contract</th>\n",
       "      <th>is_contract</th>\n",
       "      <th>service_failure_count</th>\n",
       "      <th>download_avg</th>\n",
       "      <th>upload_avg</th>\n",
       "      <th>download_over_limit</th>\n",
       "      <th>churn</th>\n",
       "    </tr>\n",
       "  </thead>\n",
       "  <tbody>\n",
       "    <tr>\n",
       "      <th>0</th>\n",
       "      <td>1</td>\n",
       "      <td>1</td>\n",
       "      <td>1.77</td>\n",
       "      <td>7</td>\n",
       "      <td>0.19</td>\n",
       "      <td>1</td>\n",
       "      <td>0</td>\n",
       "      <td>114.1</td>\n",
       "      <td>8.7</td>\n",
       "      <td>0</td>\n",
       "      <td>0</td>\n",
       "    </tr>\n",
       "    <tr>\n",
       "      <th>1</th>\n",
       "      <td>1</td>\n",
       "      <td>0</td>\n",
       "      <td>0.05</td>\n",
       "      <td>6</td>\n",
       "      <td>0.59</td>\n",
       "      <td>1</td>\n",
       "      <td>0</td>\n",
       "      <td>12.7</td>\n",
       "      <td>1.3</td>\n",
       "      <td>0</td>\n",
       "      <td>0</td>\n",
       "    </tr>\n",
       "    <tr>\n",
       "      <th>2</th>\n",
       "      <td>0</td>\n",
       "      <td>0</td>\n",
       "      <td>1.42</td>\n",
       "      <td>18</td>\n",
       "      <td>0.00</td>\n",
       "      <td>0</td>\n",
       "      <td>0</td>\n",
       "      <td>0.4</td>\n",
       "      <td>0.0</td>\n",
       "      <td>0</td>\n",
       "      <td>1</td>\n",
       "    </tr>\n",
       "    <tr>\n",
       "      <th>3</th>\n",
       "      <td>1</td>\n",
       "      <td>0</td>\n",
       "      <td>0.73</td>\n",
       "      <td>20</td>\n",
       "      <td>0.00</td>\n",
       "      <td>1</td>\n",
       "      <td>0</td>\n",
       "      <td>9.3</td>\n",
       "      <td>0.4</td>\n",
       "      <td>0</td>\n",
       "      <td>1</td>\n",
       "    </tr>\n",
       "    <tr>\n",
       "      <th>4</th>\n",
       "      <td>1</td>\n",
       "      <td>0</td>\n",
       "      <td>0.25</td>\n",
       "      <td>17</td>\n",
       "      <td>0.00</td>\n",
       "      <td>1</td>\n",
       "      <td>0</td>\n",
       "      <td>6.1</td>\n",
       "      <td>0.5</td>\n",
       "      <td>0</td>\n",
       "      <td>1</td>\n",
       "    </tr>\n",
       "  </tbody>\n",
       "</table>\n",
       "</div>"
      ],
      "text/plain": [
       "   is_tv_subscriber  is_movie_package_subscriber  subscription_age  bill_avg  \\\n",
       "0                 1                            1              1.77         7   \n",
       "1                 1                            0              0.05         6   \n",
       "2                 0                            0              1.42        18   \n",
       "3                 1                            0              0.73        20   \n",
       "4                 1                            0              0.25        17   \n",
       "\n",
       "   remaining_contract  is_contract  service_failure_count  download_avg  \\\n",
       "0                0.19            1                      0         114.1   \n",
       "1                0.59            1                      0          12.7   \n",
       "2                0.00            0                      0           0.4   \n",
       "3                0.00            1                      0           9.3   \n",
       "4                0.00            1                      0           6.1   \n",
       "\n",
       "   upload_avg  download_over_limit  churn  \n",
       "0         8.7                    0      0  \n",
       "1         1.3                    0      0  \n",
       "2         0.0                    0      1  \n",
       "3         0.4                    0      1  \n",
       "4         0.5                    0      1  "
      ]
     },
     "execution_count": 4,
     "metadata": {},
     "output_type": "execute_result"
    }
   ],
   "source": [
    "print('Shape=>', train_prepared.shape)\n",
    "train_prepared.head()"
   ]
  },
  {
   "cell_type": "code",
   "execution_count": 5,
   "id": "71412fba-158e-4bff-90c5-b3e3f62c22d9",
   "metadata": {},
   "outputs": [
    {
     "name": "stdout",
     "output_type": "stream",
     "text": [
      "<class 'pandas.core.frame.DataFrame'>\n",
      "RangeIndex: 62273 entries, 0 to 62272\n",
      "Data columns (total 11 columns):\n",
      " #   Column                       Non-Null Count  Dtype  \n",
      "---  ------                       --------------  -----  \n",
      " 0   is_tv_subscriber             62273 non-null  int64  \n",
      " 1   is_movie_package_subscriber  62273 non-null  int64  \n",
      " 2   subscription_age             62273 non-null  float64\n",
      " 3   bill_avg                     62273 non-null  int64  \n",
      " 4   remaining_contract           62273 non-null  float64\n",
      " 5   is_contract                  62273 non-null  int64  \n",
      " 6   service_failure_count        62273 non-null  int64  \n",
      " 7   download_avg                 61948 non-null  float64\n",
      " 8   upload_avg                   61948 non-null  float64\n",
      " 9   download_over_limit          62273 non-null  int64  \n",
      " 10  churn                        62273 non-null  int64  \n",
      "dtypes: float64(4), int64(7)\n",
      "memory usage: 5.2 MB\n"
     ]
    }
   ],
   "source": [
    "# Getting an overview of the dataset\n",
    "train_prepared.info(show_counts=True,verbose=True)"
   ]
  },
  {
   "cell_type": "markdown",
   "id": "1b46da47-9ec4-4387-9982-1c5bdbfb2a12",
   "metadata": {},
   "source": [
    "## Checking for Assumptions of Logistic Regression"
   ]
  },
  {
   "cell_type": "markdown",
   "id": "a7c7944e-1d87-4d85-a214-7737371a1bfa",
   "metadata": {},
   "source": [
    "### 1. Categorical Target\n",
    "The target is *churn* column which is a binary variable. Therefore, 1st assumption holds true for our data."
   ]
  },
  {
   "cell_type": "markdown",
   "id": "a2ddc303-ea99-4dc2-b46b-014ed44b3e49",
   "metadata": {},
   "source": [
    "### 2. Independence of Observations\n",
    "The internet usage and subscription of one user is not affected by other users. Therefore, 2nd assumption also holds."
   ]
  },
  {
   "cell_type": "markdown",
   "id": "4fba7cab-6217-4a0b-af82-c11df9e3a0bb",
   "metadata": {},
   "source": [
    "### 3. Linear relationship between numerical variables and log odds of target\n",
    "To check this assumption, we can plot the relationship between numerical variables and log odds of *churn=1* and see if it is linear. Or, we can simply plot the target and numerical variables and see if their relationship can be modelled by a sigmoid curve."
   ]
  },
  {
   "cell_type": "code",
   "execution_count": 6,
   "id": "d4de5cac-82b6-4af9-9f8a-4c3cfcc33616",
   "metadata": {},
   "outputs": [],
   "source": [
    "# Defining quantile transformation pipeline\n",
    "imputer = SimpleImputer(strategy='median')\n",
    "quantile_transformer = QuantileTransformer(n_quantiles=1000,\n",
    "                                           output_distribution='normal',\n",
    "                                           random_state=42)\n",
    "transformer = ColumnTransformer(transformers=[('quantile_transformer',\n",
    "                                               quantile_transformer,\n",
    "                                               [2, 3, 4, 6, 7, 8, 9])],\n",
    "                                n_jobs=-1,\n",
    "                                remainder='passthrough')\n",
    "\n",
    "transformer_pipeline = Pipeline(steps = [('median_imputer', imputer),\n",
    "                                         ('transformer', transformer)])"
   ]
  },
  {
   "cell_type": "code",
   "execution_count": 7,
   "id": "8ffa4ceb-570c-476e-85df-48421745bed7",
   "metadata": {},
   "outputs": [],
   "source": [
    "# Applying Transformation\n",
    "train_transformed = transformer_pipeline.fit_transform(train_prepared)\n",
    "train_transformed = pd.DataFrame(data = train_transformed, columns = train_prepared.columns)"
   ]
  },
  {
   "cell_type": "code",
   "execution_count": 8,
   "id": "60363719-402c-4137-b935-f4279b128efb",
   "metadata": {},
   "outputs": [
    {
     "data": {
      "image/png": "[encoded data removed]",
      "text/plain": [
       "<Figure size 1152x1440 with 7 Axes>"
      ]
     },
     "metadata": {},
     "output_type": "display_data"
    }
   ],
   "source": [
    "fig, axes = plt.subplots(4,2, figsize=(16, 20))\n",
    "fig.delaxes(axes[3,1])\n",
    "fig.suptitle('Relationship between numerical variables and target')\n",
    "\n",
    "numerical_cols = ['subscription_age', 'bill_avg', 'remaining_contract',\n",
    "                  'service_failure_count', 'download_avg', 'upload_avg',\n",
    "                  'download_over_limit']\n",
    "\n",
    "for ax, col in zip(axes.flatten(), numerical_cols):\n",
    "    sns.regplot(x=f'{col}',\n",
    "                y='churn',\n",
    "                data=train_transformed,\n",
    "                ax=ax,\n",
    "                logistic=True, seed=42).set_title(f\"{col} vs churn\")\n",
    "\n",
    "plt.show()"
   ]
  },
  {
   "cell_type": "markdown",
   "id": "be4c2ab6-b4a1-428d-85f4-379ddb529e7f",
   "metadata": {},
   "source": [
    "### 4. Absence of Multicollinearity\n",
    "We can check this using the VIF(Variance Inflation Factor) which is a measure of amount of multicollinearity in a group of numerical variables. If a feature has VIF > 10 then, it indicates multicollinearity."
   ]
  },
  {
   "cell_type": "code",
   "execution_count": 9,
   "id": "71f5308b-1969-4f79-8deb-8ce70b9833d5",
   "metadata": {},
   "outputs": [],
   "source": [
    "X = train_prepared.loc[:, train_prepared.columns != 'churn']\n",
    "\n",
    "# Creating a dataframe for storing VIFs\n",
    "vif_data = pd.DataFrame()\n",
    "vif_data['feature'] = X.columns"
   ]
  },
  {
   "cell_type": "code",
   "execution_count": 10,
   "id": "c4427ed5-443f-49eb-921c-acf4419258c0",
   "metadata": {},
   "outputs": [],
   "source": [
    "# Imputing null values with median\n",
    "imputer = SimpleImputer(strategy='median')\n",
    "\n",
    "imputer.fit(X)\n",
    "X=imputer.transform(X)"
   ]
  },
  {
   "cell_type": "code",
   "execution_count": 11,
   "id": "8d6bbe15-9b14-44e6-8d41-f0d61f38554b",
   "metadata": {},
   "outputs": [],
   "source": [
    "# Computing VIF for predictors\n",
    "vif_data['vif'] = [variance_inflation_factor(X, i) for i in range(10)]"
   ]
  },
  {
   "cell_type": "code",
   "execution_count": 12,
   "id": "6b57099e-3bfb-4313-a476-2421fb1c6934",
   "metadata": {},
   "outputs": [
    {
     "data": {
      "text/html": [
       "<div>\n",
       "<style scoped>\n",
       "    .dataframe tbody tr th:only-of-type {\n",
       "        vertical-align: middle;\n",
       "    }\n",
       "\n",
       "    .dataframe tbody tr th {\n",
       "        vertical-align: top;\n",
       "    }\n",
       "\n",
       "    .dataframe thead th {\n",
       "        text-align: right;\n",
       "    }\n",
       "</style>\n",
       "<table border=\"1\" class=\"dataframe\">\n",
       "  <thead>\n",
       "    <tr style=\"text-align: right;\">\n",
       "      <th></th>\n",
       "      <th>feature</th>\n",
       "      <th>vif</th>\n",
       "    </tr>\n",
       "  </thead>\n",
       "  <tbody>\n",
       "    <tr>\n",
       "      <th>0</th>\n",
       "      <td>is_tv_subscriber</td>\n",
       "      <td>4.947096</td>\n",
       "    </tr>\n",
       "    <tr>\n",
       "      <th>1</th>\n",
       "      <td>is_movie_package_subscriber</td>\n",
       "      <td>1.875925</td>\n",
       "    </tr>\n",
       "    <tr>\n",
       "      <th>2</th>\n",
       "      <td>subscription_age</td>\n",
       "      <td>2.323774</td>\n",
       "    </tr>\n",
       "    <tr>\n",
       "      <th>3</th>\n",
       "      <td>bill_avg</td>\n",
       "      <td>3.065352</td>\n",
       "    </tr>\n",
       "    <tr>\n",
       "      <th>4</th>\n",
       "      <td>remaining_contract</td>\n",
       "      <td>2.276598</td>\n",
       "    </tr>\n",
       "    <tr>\n",
       "      <th>5</th>\n",
       "      <td>is_contract</td>\n",
       "      <td>4.169998</td>\n",
       "    </tr>\n",
       "    <tr>\n",
       "      <th>6</th>\n",
       "      <td>service_failure_count</td>\n",
       "      <td>1.124501</td>\n",
       "    </tr>\n",
       "    <tr>\n",
       "      <th>7</th>\n",
       "      <td>download_avg</td>\n",
       "      <td>2.507009</td>\n",
       "    </tr>\n",
       "    <tr>\n",
       "      <th>8</th>\n",
       "      <td>upload_avg</td>\n",
       "      <td>1.745037</td>\n",
       "    </tr>\n",
       "    <tr>\n",
       "      <th>9</th>\n",
       "      <td>download_over_limit</td>\n",
       "      <td>1.061599</td>\n",
       "    </tr>\n",
       "  </tbody>\n",
       "</table>\n",
       "</div>"
      ],
      "text/plain": [
       "                       feature       vif\n",
       "0             is_tv_subscriber  4.947096\n",
       "1  is_movie_package_subscriber  1.875925\n",
       "2             subscription_age  2.323774\n",
       "3                     bill_avg  3.065352\n",
       "4           remaining_contract  2.276598\n",
       "5                  is_contract  4.169998\n",
       "6        service_failure_count  1.124501\n",
       "7                 download_avg  2.507009\n",
       "8                   upload_avg  1.745037\n",
       "9          download_over_limit  1.061599"
      ]
     },
     "execution_count": 12,
     "metadata": {},
     "output_type": "execute_result"
    }
   ],
   "source": [
    "vif_data"
   ]
  },
  {
   "cell_type": "markdown",
   "id": "f205e66e-802a-44b3-86a4-af32f7dc9879",
   "metadata": {},
   "source": [
    "None of the predictors has VIF > 10, which means we don't have multicollinearity in our dataset."
   ]
  },
  {
   "cell_type": "markdown",
   "id": "341c5bb8-9097-47c5-a1b5-ca257f443139",
   "metadata": {},
   "source": [
    "## Modeling\n",
    "Now, I'll train the Logistic Regression Model and evaluate it using 10 fold cross-validation with AUC-ROC as evaluation metric."
   ]
  },
  {
   "cell_type": "code",
   "execution_count": 13,
   "id": "642632fc-5fbc-4749-835e-fb27ea363a17",
   "metadata": {},
   "outputs": [],
   "source": [
    "# Separating predictors and target\n",
    "X, y = train_prepared.loc[:, train_prepared.columns != 'churn'], train_prepared.loc[:, 'churn']"
   ]
  },
  {
   "cell_type": "markdown",
   "id": "8a4fa320-ca7d-4185-b2aa-4dbb8042c095",
   "metadata": {},
   "source": [
    "### Finding Best Hyperparameters"
   ]
  },
  {
   "cell_type": "code",
   "execution_count": 14,
   "id": "ad753782-982d-4911-9903-06d4a5ce8226",
   "metadata": {},
   "outputs": [],
   "source": [
    "# Defining search space for Grid Search\n",
    "grid_params = {'logistic_regression__penalty' : ['l2'],\n",
    "               'logistic_regression__solver' : ['newton-cg', 'lbfgs', 'liblinear'],\n",
    "               'logistic_regression__C' : [100, 10, 1.0, 0.1, 0.01, 0.001]}"
   ]
  },
  {
   "cell_type": "code",
   "execution_count": 15,
   "id": "45ae9a20-0dea-40eb-a80e-4c4db296932b",
   "metadata": {},
   "outputs": [],
   "source": [
    "# Components of Modeling Pipeline\n",
    "imputer = SimpleImputer(strategy='median')\n",
    "\n",
    "quantile_transformer = QuantileTransformer(n_quantiles=1000,\n",
    "                                           output_distribution='normal',\n",
    "                                           random_state=42)\n",
    "transformer = ColumnTransformer(transformers=[('quantile_transformer',\n",
    "                                               quantile_transformer,\n",
    "                                               [2, 3, 4, 6, 7, 8, 9])],\n",
    "                                n_jobs=-1,\n",
    "                                remainder='passthrough')\n",
    "\n",
    "model = LogisticRegression(max_iter=1000)\n",
    "\n",
    "# Defining modeling pipeline\n",
    "pipeline = Pipeline(steps = [('median_imputer', imputer),\n",
    "                             ('transformer', transformer),\n",
    "                             ('logistic_regression', model)])"
   ]
  },
  {
   "cell_type": "code",
   "execution_count": 16,
   "id": "0fb3affa-f8e2-4b12-9415-b2d8420296cb",
   "metadata": {},
   "outputs": [],
   "source": [
    "# Defining model evaluation\n",
    "cv = RepeatedStratifiedKFold(n_splits=10, n_repeats=5, random_state=42)"
   ]
  },
  {
   "cell_type": "code",
   "execution_count": 17,
   "id": "20fb83aa-360c-44c0-96c5-1925e5d0b26d",
   "metadata": {},
   "outputs": [],
   "source": [
    "gs = GridSearchCV(estimator = pipeline, param_grid = grid_params,\n",
    "                  scoring='roc_auc', verbose = 1, cv = cv, n_jobs = -1)"
   ]
  },
  {
   "cell_type": "code",
   "execution_count": 18,
   "id": "bcc28546-cd7a-4d5b-a24b-51cd101ecd15",
   "metadata": {},
   "outputs": [
    {
     "name": "stdout",
     "output_type": "stream",
     "text": [
      "Fitting 50 folds for each of 18 candidates, totalling 900 fits\n"
     ]
    }
   ],
   "source": [
    "g_res = gs.fit(X, y)"
   ]
  },
  {
   "cell_type": "code",
   "execution_count": 19,
   "id": "8d664ee4-a639-4506-936a-bda7d9f251f4",
   "metadata": {},
   "outputs": [
    {
     "name": "stdout",
     "output_type": "stream",
     "text": [
      "Best Score:  0.9623934403156107\n",
      "Best Parameters:  {'logistic_regression__C': 100, 'logistic_regression__penalty': 'l2', 'logistic_regression__solver': 'newton-cg'}\n"
     ]
    }
   ],
   "source": [
    "print('Best Score: ', g_res.best_score_)\n",
    "print('Best Parameters: ', g_res.best_params_)"
   ]
  },
  {
   "cell_type": "markdown",
   "id": "480d7cef-5221-4264-b401-ccfa7dc62c1f",
   "metadata": {},
   "source": [
    "### Building Model with tuned parameters"
   ]
  },
  {
   "cell_type": "code",
   "execution_count": 20,
   "id": "dc4740b1-f3b2-421d-9fd2-8ebfa68463b6",
   "metadata": {},
   "outputs": [],
   "source": [
    "# Components of Modeling Pipeline\n",
    "imputer = SimpleImputer(strategy='median')\n",
    "\n",
    "quantile_transformer = QuantileTransformer(n_quantiles=1000,\n",
    "                                           output_distribution='normal',\n",
    "                                           random_state=42)\n",
    "transformer = ColumnTransformer(transformers=[('quantile_transformer',\n",
    "                                               quantile_transformer,\n",
    "                                               [2, 3, 4, 6, 7, 8, 9])],\n",
    "                                n_jobs=-1,\n",
    "                                remainder='passthrough')\n",
    "\n",
    "model = LogisticRegression(solver = g_res.best_params_[\"logistic_regression__solver\"],\n",
    "                           penalty = g_res.best_params_[\"logistic_regression__penalty\"],\n",
    "                           C = g_res.best_params_[\"logistic_regression__C\"],\n",
    "                           max_iter=1000, n_jobs=-1)\n",
    "\n",
    "# Defining modeling pipeline\n",
    "pipeline = Pipeline(steps = [('median_imputer', imputer),\n",
    "                             ('transformer', transformer),\n",
    "                             ('logistic_regression', model)])"
   ]
  },
  {
   "cell_type": "code",
   "execution_count": 21,
   "id": "74267b74-6d53-4cd7-a282-3f89b055e10c",
   "metadata": {},
   "outputs": [],
   "source": [
    "# Defining model evaluation\n",
    "cv = RepeatedStratifiedKFold(n_splits=10, n_repeats=10, random_state=42)"
   ]
  },
  {
   "cell_type": "code",
   "execution_count": 22,
   "id": "ce0ce806-4459-4179-81bf-0391b13a6818",
   "metadata": {},
   "outputs": [],
   "source": [
    "# Evaluating Model\n",
    "scores = cross_val_score(pipeline, X, y, scoring = 'roc_auc', cv = cv, n_jobs= -1)"
   ]
  },
  {
   "cell_type": "code",
   "execution_count": 23,
   "id": "55e3b786-90fe-43b9-a501-df5cb507dbfb",
   "metadata": {},
   "outputs": [
    {
     "name": "stdout",
     "output_type": "stream",
     "text": [
      "Mean AUC-ROC Score of Logistic Regression: 0.9624 ± 0.0027\n"
     ]
    }
   ],
   "source": [
    "print('Mean AUC-ROC Score of Logistic Regression: %.4f \\u00B1 %.4f' % (np.mean(scores), np.std(scores)))"
   ]
  }
 ],
 "metadata": {
  "kernelspec": {
   "display_name": "Python 3.9: isp-churn-prediction",
   "language": "python",
   "name": "isp-churn-prediction"
  },
  "language_info": {
   "codemirror_mode": {
    "name": "ipython",
    "version": 3
   },
   "file_extension": ".py",
   "mimetype": "text/x-python",
   "name": "python",
   "nbconvert_exporter": "python",
   "pygments_lexer": "ipython3",
   "version": "3.9.7"
  }
 },
 "nbformat": 4,
 "nbformat_minor": 5
}
