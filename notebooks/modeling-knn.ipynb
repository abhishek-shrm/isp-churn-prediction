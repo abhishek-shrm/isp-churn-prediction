{
 "cells": [
  {
   "cell_type": "markdown",
   "id": "b9b037b9-c278-4afe-ba09-ca02907ec79e",
   "metadata": {},
   "source": [
    "# Modeling - KNN\n",
    "In this notebook, I have created a K-Nearest Neighbors Model for predicting churn for an ISP and tuned its hyperparameters using Optuna which is a Hyperparameter Optimization Framework that uses Tree-structured Parzen Estimator (TPE) to find the most optimal parameters."
   ]
  },
  {
   "cell_type": "markdown",
   "id": "29c2cbe4-925c-46fb-b328-1c854093a7a7",
   "metadata": {},
   "source": [
    "## Table of Contents:\n",
    "1. Data Loading\n",
    "2. Modeling\n",
    "    - Finding Best Hyperparameters\n",
    "    - Building Model with tuned parameters"
   ]
  },
  {
   "cell_type": "code",
   "execution_count": 1,
   "id": "83103ec0-5e89-4305-953c-78983ede78f8",
   "metadata": {},
   "outputs": [],
   "source": [
    "# Importing required libraries and modules\n",
    "import os\n",
    "import sys\n",
    "import optuna\n",
    "import numpy as np\n",
    "import pandas as pd\n",
    "import seaborn as sns\n",
    "import matplotlib.pyplot as plt\n",
    "\n",
    "from sklearn.pipeline import Pipeline\n",
    "from sklearn.impute import SimpleImputer\n",
    "from sklearn.compose import ColumnTransformer\n",
    "from sklearn.model_selection import GridSearchCV\n",
    "from sklearn.neighbors import KNeighborsClassifier\n",
    "from sklearn.preprocessing import QuantileTransformer\n",
    "\n",
    "from sklearn.model_selection import cross_val_score, RepeatedStratifiedKFold"
   ]
  },
  {
   "cell_type": "code",
   "execution_count": 2,
   "id": "3ad93099-c244-4504-ac65-3792f1c98b94",
   "metadata": {},
   "outputs": [],
   "source": [
    "# Setting seaborn figure size\n",
    "sns.set(rc={'figure.figsize':(10,8)})\n",
    "\n",
    "# Setting the seed\n",
    "np.random.seed(42)"
   ]
  },
  {
   "cell_type": "markdown",
   "id": "38a5b3ff-0624-4d61-a45f-b1a791f5f00e",
   "metadata": {},
   "source": [
    "## Data Loading"
   ]
  },
  {
   "cell_type": "code",
   "execution_count": 3,
   "id": "10d4b864-0e98-4225-8c0b-29c12afb9de8",
   "metadata": {},
   "outputs": [],
   "source": [
    "train_prepared = pd.read_csv('../data/processed/train-prepared.csv')"
   ]
  },
  {
   "cell_type": "code",
   "execution_count": 4,
   "id": "1a133eda-6c9b-449e-a83e-472e2e9fd185",
   "metadata": {},
   "outputs": [
    {
     "name": "stdout",
     "output_type": "stream",
     "text": [
      "Shape=> (62273, 11)\n"
     ]
    },
    {
     "data": {
      "text/html": [
       "<div>\n",
       "<style scoped>\n",
       "    .dataframe tbody tr th:only-of-type {\n",
       "        vertical-align: middle;\n",
       "    }\n",
       "\n",
       "    .dataframe tbody tr th {\n",
       "        vertical-align: top;\n",
       "    }\n",
       "\n",
       "    .dataframe thead th {\n",
       "        text-align: right;\n",
       "    }\n",
       "</style>\n",
       "<table border=\"1\" class=\"dataframe\">\n",
       "  <thead>\n",
       "    <tr style=\"text-align: right;\">\n",
       "      <th></th>\n",
       "      <th>is_tv_subscriber</th>\n",
       "      <th>is_movie_package_subscriber</th>\n",
       "      <th>subscription_age</th>\n",
       "      <th>bill_avg</th>\n",
       "      <th>remaining_contract</th>\n",
       "      <th>is_contract</th>\n",
       "      <th>service_failure_count</th>\n",
       "      <th>download_avg</th>\n",
       "      <th>upload_avg</th>\n",
       "      <th>download_over_limit</th>\n",
       "      <th>churn</th>\n",
       "    </tr>\n",
       "  </thead>\n",
       "  <tbody>\n",
       "    <tr>\n",
       "      <th>0</th>\n",
       "      <td>1</td>\n",
       "      <td>1</td>\n",
       "      <td>1.77</td>\n",
       "      <td>7</td>\n",
       "      <td>0.19</td>\n",
       "      <td>1</td>\n",
       "      <td>0</td>\n",
       "      <td>114.1</td>\n",
       "      <td>8.7</td>\n",
       "      <td>0</td>\n",
       "      <td>0</td>\n",
       "    </tr>\n",
       "    <tr>\n",
       "      <th>1</th>\n",
       "      <td>1</td>\n",
       "      <td>0</td>\n",
       "      <td>0.05</td>\n",
       "      <td>6</td>\n",
       "      <td>0.59</td>\n",
       "      <td>1</td>\n",
       "      <td>0</td>\n",
       "      <td>12.7</td>\n",
       "      <td>1.3</td>\n",
       "      <td>0</td>\n",
       "      <td>0</td>\n",
       "    </tr>\n",
       "    <tr>\n",
       "      <th>2</th>\n",
       "      <td>0</td>\n",
       "      <td>0</td>\n",
       "      <td>1.42</td>\n",
       "      <td>18</td>\n",
       "      <td>0.00</td>\n",
       "      <td>0</td>\n",
       "      <td>0</td>\n",
       "      <td>0.4</td>\n",
       "      <td>0.0</td>\n",
       "      <td>0</td>\n",
       "      <td>1</td>\n",
       "    </tr>\n",
       "    <tr>\n",
       "      <th>3</th>\n",
       "      <td>1</td>\n",
       "      <td>0</td>\n",
       "      <td>0.73</td>\n",
       "      <td>20</td>\n",
       "      <td>0.00</td>\n",
       "      <td>1</td>\n",
       "      <td>0</td>\n",
       "      <td>9.3</td>\n",
       "      <td>0.4</td>\n",
       "      <td>0</td>\n",
       "      <td>1</td>\n",
       "    </tr>\n",
       "    <tr>\n",
       "      <th>4</th>\n",
       "      <td>1</td>\n",
       "      <td>0</td>\n",
       "      <td>0.25</td>\n",
       "      <td>17</td>\n",
       "      <td>0.00</td>\n",
       "      <td>1</td>\n",
       "      <td>0</td>\n",
       "      <td>6.1</td>\n",
       "      <td>0.5</td>\n",
       "      <td>0</td>\n",
       "      <td>1</td>\n",
       "    </tr>\n",
       "  </tbody>\n",
       "</table>\n",
       "</div>"
      ],
      "text/plain": [
       "   is_tv_subscriber  is_movie_package_subscriber  subscription_age  bill_avg  \\\n",
       "0                 1                            1              1.77         7   \n",
       "1                 1                            0              0.05         6   \n",
       "2                 0                            0              1.42        18   \n",
       "3                 1                            0              0.73        20   \n",
       "4                 1                            0              0.25        17   \n",
       "\n",
       "   remaining_contract  is_contract  service_failure_count  download_avg  \\\n",
       "0                0.19            1                      0         114.1   \n",
       "1                0.59            1                      0          12.7   \n",
       "2                0.00            0                      0           0.4   \n",
       "3                0.00            1                      0           9.3   \n",
       "4                0.00            1                      0           6.1   \n",
       "\n",
       "   upload_avg  download_over_limit  churn  \n",
       "0         8.7                    0      0  \n",
       "1         1.3                    0      0  \n",
       "2         0.0                    0      1  \n",
       "3         0.4                    0      1  \n",
       "4         0.5                    0      1  "
      ]
     },
     "execution_count": 4,
     "metadata": {},
     "output_type": "execute_result"
    }
   ],
   "source": [
    "print('Shape=>', train_prepared.shape)\n",
    "train_prepared.head()"
   ]
  },
  {
   "cell_type": "code",
   "execution_count": 5,
   "id": "ced0459f-7a00-4873-be26-f9815544aebe",
   "metadata": {},
   "outputs": [
    {
     "name": "stdout",
     "output_type": "stream",
     "text": [
      "<class 'pandas.core.frame.DataFrame'>\n",
      "RangeIndex: 62273 entries, 0 to 62272\n",
      "Data columns (total 11 columns):\n",
      " #   Column                       Non-Null Count  Dtype  \n",
      "---  ------                       --------------  -----  \n",
      " 0   is_tv_subscriber             62273 non-null  int64  \n",
      " 1   is_movie_package_subscriber  62273 non-null  int64  \n",
      " 2   subscription_age             62273 non-null  float64\n",
      " 3   bill_avg                     62273 non-null  int64  \n",
      " 4   remaining_contract           62273 non-null  float64\n",
      " 5   is_contract                  62273 non-null  int64  \n",
      " 6   service_failure_count        62273 non-null  int64  \n",
      " 7   download_avg                 61948 non-null  float64\n",
      " 8   upload_avg                   61948 non-null  float64\n",
      " 9   download_over_limit          62273 non-null  int64  \n",
      " 10  churn                        62273 non-null  int64  \n",
      "dtypes: float64(4), int64(7)\n",
      "memory usage: 5.2 MB\n"
     ]
    }
   ],
   "source": [
    "# Getting an overview of the dataset\n",
    "train_prepared.info(show_counts=True,verbose=True)"
   ]
  },
  {
   "cell_type": "markdown",
   "id": "f8861005-b66a-4b10-9849-2867dfe38990",
   "metadata": {},
   "source": [
    "## Modeling"
   ]
  },
  {
   "cell_type": "code",
   "execution_count": 6,
   "id": "7a3d7abc-23b2-49db-ae10-f48cc9d222ae",
   "metadata": {},
   "outputs": [],
   "source": [
    "# Separating predictors and target\n",
    "X, y = train_prepared.loc[:, train_prepared.columns != 'churn'], train_prepared.loc[:, 'churn']"
   ]
  },
  {
   "cell_type": "markdown",
   "id": "38b08807-3450-4129-8767-d590de4da50b",
   "metadata": {},
   "source": [
    "### Finding Best Hyperparameters"
   ]
  },
  {
   "cell_type": "code",
   "execution_count": 7,
   "id": "1aeee432-77c1-4bbf-a3ea-148c5d47be7e",
   "metadata": {},
   "outputs": [],
   "source": [
    "def create_knn_pipeline(quantile_transform: str, n_neighbors: int,\n",
    "                        weights: str, metric: str) -> Pipeline:\n",
    "    \"\"\" Returns a pipeline object created around KNN algorithm\n",
    "    \n",
    "    Takes data preparation and KNN modeling parameters as input,\n",
    "        creates a Scikit-learn pipeline object and returns it\n",
    "    \n",
    "    Parameters\n",
    "    ----------\n",
    "    quantile_transform : str\n",
    "        - \"Yes\": Quantile Transformation will be performed\n",
    "        - \"No\": No Transformation\n",
    "    \n",
    "    n_neighbors : int\n",
    "        n_neighbors argument of KNeighborsClassifier\n",
    "    \n",
    "    weights : str\n",
    "        weights argument of KNeighborsClassifier\n",
    "    \n",
    "    metric : str\n",
    "        metric argument of KNeighborsClassifier\n",
    "        \n",
    "    Returns\n",
    "    -------\n",
    "    pipeline : Pipeline\n",
    "        The pipeline object from Scikit-Learn\n",
    "    \"\"\"\n",
    "    model = KNeighborsClassifier(n_neighbors = n_neighbors,\n",
    "                                 weights = weights,\n",
    "                                 metric = metric)\n",
    "    imputer = SimpleImputer(strategy='median')\n",
    "\n",
    "    if quantile_transform == \"Yes\":\n",
    "        quantile_transformer = QuantileTransformer(n_quantiles=1000,\n",
    "                                           output_distribution='normal',\n",
    "                                           random_state=42)\n",
    "\n",
    "        transformer = ColumnTransformer(transformers=[('quantile_transformer',\n",
    "                                                       quantile_transformer,\n",
    "                                                       [2, 3, 4, 6, 7, 8, 9])],\n",
    "                                        n_jobs=-1,\n",
    "                                        remainder='passthrough')\n",
    "        pipeline = Pipeline(steps = [('median_imputer', imputer),\n",
    "                                     ('transformer', transformer),\n",
    "                                     ('knn', model)])\n",
    "    else:\n",
    "        pipeline = Pipeline(steps = [('median_imputer', imputer),\n",
    "                                     ('knn', model)])\n",
    "    \n",
    "    return pipeline"
   ]
  },
  {
   "cell_type": "code",
   "execution_count": 8,
   "id": "eaad1a3f-eb21-4baa-ad48-2b3dcb809ecb",
   "metadata": {},
   "outputs": [],
   "source": [
    "def objective(trial: optuna.trial.Trial) -> np.ndarray:\n",
    "    \"\"\" Returns ROC-AUC score for KNN algorithm\n",
    "    \n",
    "    Objective function for optimizing KNN algorithm\n",
    "        using Optuna. Takes optuna Trial object as\n",
    "        input, performs 10-fold cross-validation 5 times\n",
    "        and returns mean ROC-AUC score for a set of\n",
    "        hyperparameters of KNN modeling pipeline.\n",
    "        \n",
    "    Parameters\n",
    "    ----------\n",
    "    trial : optuna.trial.Trial\n",
    "        A trial is a process of evaluating an objective function.\n",
    "        This object is passed to an objective function and provides\n",
    "        interfaces to get parameter suggestion, manage the trial’s\n",
    "        state, and set/get user-defined attributes of the trial.\n",
    "    \n",
    "    Returns\n",
    "    -------\n",
    "    roc_auc_score : np.ndarray\n",
    "        Mean ROC-AUC Score of 10-fold cross-validation\n",
    "        repeated 5 times for a KNN modeling pipeline\n",
    "        with a set of hyperparameters.\n",
    "    \"\"\"\n",
    "    # Data preparation parameters\n",
    "    quantile_transform = trial.suggest_categorical(\"quantile_transform\", [\"Yes\", \"No\"])\n",
    "    \n",
    "    # Modeling parameters\n",
    "    n_neighbors = trial.suggest_int(\"n_neighbors\", low=5, high=101, step=1)\n",
    "    weights = trial.suggest_categorical(\"weights\", [\"uniform\", \"distance\"])\n",
    "    metric = trial.suggest_categorical(\"metric\", [\"minkowski\", \n",
    "                                                  \"euclidean\",\n",
    "                                                  \"manhattan\"])\n",
    "    \n",
    "    # Building modeling pipeline\n",
    "    pipeline = create_knn_pipeline(quantile_transform, n_neighbors, weights, metric)\n",
    "    \n",
    "    # Defining Cross-Validation\n",
    "    cv = RepeatedStratifiedKFold(n_splits=10, n_repeats=5, random_state=42)\n",
    "    scores = cross_val_score(pipeline, X, y, scoring='roc_auc', cv=cv, n_jobs=-1)\n",
    "    \n",
    "    return np.mean(scores)"
   ]
  },
  {
   "cell_type": "code",
   "execution_count": 9,
   "id": "1f0f3f2a-d7bb-421f-a9e9-d4d8662d7a5d",
   "metadata": {},
   "outputs": [
    {
     "name": "stderr",
     "output_type": "stream",
     "text": [
      "\u001b[32m[I 2021-10-12 09:34:40,198]\u001b[0m A new study created in memory with name: no-name-98d1c1af-ded3-443c-887f-df7ba71ed644\u001b[0m\n",
      "/home/abhishek/anaconda3/envs/isp-churn-prediction/lib/python3.9/site-packages/optuna/progress_bar.py:47: ExperimentalWarning: Progress bar is experimental (supported from v1.2.0). The interface can change in the future.\n",
      "  self._init_valid()\n"
     ]
    },
    {
     "data": {
      "application/vnd.jupyter.widget-view+json": {
       "model_id": "1b9c25a5ea4f400ca4d0dcb6eb99affe",
       "version_major": 2,
       "version_minor": 0
      },
      "text/plain": [
       "  0%|          | 0/30 [00:00<?, ?it/s]"
      ]
     },
     "metadata": {},
     "output_type": "display_data"
    },
    {
     "name": "stdout",
     "output_type": "stream",
     "text": [
      "\u001b[32m[I 2021-10-12 09:34:53,625]\u001b[0m Trial 0 finished with value: 0.9297784416439074 and parameters: {'quantile_transform': 'No', 'n_neighbors': 7, 'weights': 'distance', 'metric': 'manhattan'}. Best is trial 0 with value: 0.9297784416439074.\u001b[0m\n",
      "\u001b[32m[I 2021-10-12 09:35:02,053]\u001b[0m Trial 1 finished with value: 0.9124641789496056 and parameters: {'quantile_transform': 'No', 'n_neighbors': 8, 'weights': 'distance', 'metric': 'euclidean'}. Best is trial 0 with value: 0.9297784416439074.\u001b[0m\n",
      "\u001b[32m[I 2021-10-12 09:35:40,464]\u001b[0m Trial 2 finished with value: 0.9706911166345559 and parameters: {'quantile_transform': 'Yes', 'n_neighbors': 61, 'weights': 'uniform', 'metric': 'euclidean'}. Best is trial 2 with value: 0.9706911166345559.\u001b[0m\n",
      "\u001b[32m[I 2021-10-12 09:35:52,527]\u001b[0m Trial 3 finished with value: 0.9087124289332473 and parameters: {'quantile_transform': 'No', 'n_neighbors': 40, 'weights': 'distance', 'metric': 'minkowski'}. Best is trial 2 with value: 0.9706911166345559.\u001b[0m\n",
      "\u001b[32m[I 2021-10-12 09:36:32,953]\u001b[0m Trial 4 finished with value: 0.9716953460434522 and parameters: {'quantile_transform': 'Yes', 'n_neighbors': 20, 'weights': 'uniform', 'metric': 'manhattan'}. Best is trial 4 with value: 0.9716953460434522.\u001b[0m\n",
      "\u001b[32m[I 2021-10-12 09:37:12,141]\u001b[0m Trial 5 finished with value: 0.9706909281969662 and parameters: {'quantile_transform': 'Yes', 'n_neighbors': 64, 'weights': 'uniform', 'metric': 'minkowski'}. Best is trial 4 with value: 0.9716953460434522.\u001b[0m\n",
      "\u001b[32m[I 2021-10-12 09:37:53,974]\u001b[0m Trial 6 finished with value: 0.9720529319716725 and parameters: {'quantile_transform': 'Yes', 'n_neighbors': 80, 'weights': 'distance', 'metric': 'minkowski'}. Best is trial 6 with value: 0.9720529319716725.\u001b[0m\n",
      "\u001b[32m[I 2021-10-12 09:38:05,386]\u001b[0m Trial 7 finished with value: 0.9111919113005307 and parameters: {'quantile_transform': 'No', 'n_neighbors': 32, 'weights': 'distance', 'metric': 'euclidean'}. Best is trial 6 with value: 0.9720529319716725.\u001b[0m\n",
      "\u001b[32m[I 2021-10-12 09:38:19,385]\u001b[0m Trial 8 finished with value: 0.9016691834656271 and parameters: {'quantile_transform': 'No', 'n_neighbors': 66, 'weights': 'distance', 'metric': 'euclidean'}. Best is trial 6 with value: 0.9720529319716725.\u001b[0m\n",
      "\u001b[32m[I 2021-10-12 09:38:41,881]\u001b[0m Trial 9 finished with value: 0.9297680776833107 and parameters: {'quantile_transform': 'No', 'n_neighbors': 78, 'weights': 'distance', 'metric': 'manhattan'}. Best is trial 6 with value: 0.9720529319716725.\u001b[0m\n",
      "\u001b[32m[I 2021-10-12 09:39:26,922]\u001b[0m Trial 10 finished with value: 0.9719708255451961 and parameters: {'quantile_transform': 'Yes', 'n_neighbors': 101, 'weights': 'distance', 'metric': 'minkowski'}. Best is trial 6 with value: 0.9720529319716725.\u001b[0m\n",
      "\u001b[32m[I 2021-10-12 09:40:11,528]\u001b[0m Trial 11 finished with value: 0.9719772114820444 and parameters: {'quantile_transform': 'Yes', 'n_neighbors': 100, 'weights': 'distance', 'metric': 'minkowski'}. Best is trial 6 with value: 0.9720529319716725.\u001b[0m\n",
      "\u001b[32m[I 2021-10-12 09:40:55,435]\u001b[0m Trial 12 finished with value: 0.9719815882108114 and parameters: {'quantile_transform': 'Yes', 'n_neighbors': 97, 'weights': 'distance', 'metric': 'minkowski'}. Best is trial 6 with value: 0.9720529319716725.\u001b[0m\n",
      "\u001b[32m[I 2021-10-12 09:41:37,969]\u001b[0m Trial 13 finished with value: 0.9720716719042147 and parameters: {'quantile_transform': 'Yes', 'n_neighbors': 85, 'weights': 'distance', 'metric': 'minkowski'}. Best is trial 13 with value: 0.9720716719042147.\u001b[0m\n",
      "\u001b[32m[I 2021-10-12 09:42:20,287]\u001b[0m Trial 14 finished with value: 0.972060146478005 and parameters: {'quantile_transform': 'Yes', 'n_neighbors': 84, 'weights': 'distance', 'metric': 'minkowski'}. Best is trial 13 with value: 0.9720716719042147.\u001b[0m\n",
      "\u001b[32m[I 2021-10-12 09:43:02,297]\u001b[0m Trial 15 finished with value: 0.9707032567627684 and parameters: {'quantile_transform': 'Yes', 'n_neighbors': 83, 'weights': 'uniform', 'metric': 'minkowski'}. Best is trial 13 with value: 0.9720716719042147.\u001b[0m\n",
      "\u001b[32m[I 2021-10-12 09:43:44,681]\u001b[0m Trial 16 finished with value: 0.9720881521706368 and parameters: {'quantile_transform': 'Yes', 'n_neighbors': 87, 'weights': 'distance', 'metric': 'minkowski'}. Best is trial 16 with value: 0.9720881521706368.\u001b[0m\n",
      "\u001b[32m[I 2021-10-12 09:44:20,293]\u001b[0m Trial 17 finished with value: 0.9719133329177783 and parameters: {'quantile_transform': 'Yes', 'n_neighbors': 46, 'weights': 'distance', 'metric': 'minkowski'}. Best is trial 16 with value: 0.9720881521706368.\u001b[0m\n",
      "\u001b[32m[I 2021-10-12 09:45:00,600]\u001b[0m Trial 18 finished with value: 0.9707292096481751 and parameters: {'quantile_transform': 'Yes', 'n_neighbors': 72, 'weights': 'uniform', 'metric': 'minkowski'}. Best is trial 16 with value: 0.9720881521706368.\u001b[0m\n",
      "\u001b[32m[I 2021-10-12 09:46:00,345]\u001b[0m Trial 19 finished with value: 0.9747285643253845 and parameters: {'quantile_transform': 'Yes', 'n_neighbors': 90, 'weights': 'distance', 'metric': 'manhattan'}. Best is trial 19 with value: 0.9747285643253845.\u001b[0m\n",
      "\u001b[32m[I 2021-10-12 09:47:00,566]\u001b[0m Trial 20 finished with value: 0.9747285643253845 and parameters: {'quantile_transform': 'Yes', 'n_neighbors': 90, 'weights': 'distance', 'metric': 'manhattan'}. Best is trial 19 with value: 0.9747285643253845.\u001b[0m\n",
      "\u001b[32m[I 2021-10-12 09:48:00,898]\u001b[0m Trial 21 finished with value: 0.9747468017695787 and parameters: {'quantile_transform': 'Yes', 'n_neighbors': 93, 'weights': 'distance', 'metric': 'manhattan'}. Best is trial 21 with value: 0.9747468017695787.\u001b[0m\n",
      "\u001b[32m[I 2021-10-12 09:49:01,322]\u001b[0m Trial 22 finished with value: 0.974733961599093 and parameters: {'quantile_transform': 'Yes', 'n_neighbors': 92, 'weights': 'distance', 'metric': 'manhattan'}. Best is trial 21 with value: 0.9747468017695787.\u001b[0m\n",
      "\u001b[32m[I 2021-10-12 09:49:53,075]\u001b[0m Trial 23 finished with value: 0.97451616252484 and parameters: {'quantile_transform': 'Yes', 'n_neighbors': 55, 'weights': 'distance', 'metric': 'manhattan'}. Best is trial 21 with value: 0.9747468017695787.\u001b[0m\n",
      "\u001b[32m[I 2021-10-12 09:50:53,492]\u001b[0m Trial 24 finished with value: 0.9747468017695787 and parameters: {'quantile_transform': 'Yes', 'n_neighbors': 93, 'weights': 'distance', 'metric': 'manhattan'}. Best is trial 21 with value: 0.9747468017695787.\u001b[0m\n",
      "\u001b[32m[I 2021-10-12 09:51:50,132]\u001b[0m Trial 25 finished with value: 0.9747159173482801 and parameters: {'quantile_transform': 'Yes', 'n_neighbors': 73, 'weights': 'distance', 'metric': 'manhattan'}. Best is trial 21 with value: 0.9747468017695787.\u001b[0m\n",
      "\u001b[32m[I 2021-10-12 09:52:51,099]\u001b[0m Trial 26 finished with value: 0.973531468563163 and parameters: {'quantile_transform': 'Yes', 'n_neighbors': 97, 'weights': 'uniform', 'metric': 'manhattan'}. Best is trial 21 with value: 0.9747468017695787.\u001b[0m\n",
      "\u001b[32m[I 2021-10-12 09:53:51,214]\u001b[0m Trial 27 finished with value: 0.974733961599093 and parameters: {'quantile_transform': 'Yes', 'n_neighbors': 92, 'weights': 'distance', 'metric': 'manhattan'}. Best is trial 21 with value: 0.9747468017695787.\u001b[0m\n",
      "\u001b[32m[I 2021-10-12 09:54:47,791]\u001b[0m Trial 28 finished with value: 0.9746978546253748 and parameters: {'quantile_transform': 'Yes', 'n_neighbors': 74, 'weights': 'distance', 'metric': 'manhattan'}. Best is trial 21 with value: 0.9747468017695787.\u001b[0m\n",
      "\u001b[32m[I 2021-10-12 09:55:11,752]\u001b[0m Trial 29 finished with value: 0.9280421722659484 and parameters: {'quantile_transform': 'No', 'n_neighbors': 94, 'weights': 'distance', 'metric': 'manhattan'}. Best is trial 21 with value: 0.9747468017695787.\u001b[0m\n"
     ]
    }
   ],
   "source": [
    "study = optuna.create_study(direction='maximize')\n",
    "study.optimize(objective, show_progress_bar = True, n_trials = 30)"
   ]
  },
  {
   "cell_type": "code",
   "execution_count": 10,
   "id": "65e6e79a-ce58-4508-97c2-acbc103ad489",
   "metadata": {},
   "outputs": [
    {
     "name": "stdout",
     "output_type": "stream",
     "text": [
      "Highest Score:  0.9747468017695787\n",
      "Best Parameters:  {'quantile_transform': 'Yes', 'n_neighbors': 93, 'weights': 'distance', 'metric': 'manhattan'}\n",
      "Best Trial:  FrozenTrial(number=21, values=[0.9747468017695787], datetime_start=datetime.datetime(2021, 10, 12, 9, 47, 0, 570678), datetime_complete=datetime.datetime(2021, 10, 12, 9, 48, 0, 898156), params={'quantile_transform': 'Yes', 'n_neighbors': 93, 'weights': 'distance', 'metric': 'manhattan'}, distributions={'quantile_transform': CategoricalDistribution(choices=('Yes', 'No')), 'n_neighbors': IntUniformDistribution(high=101, low=5, step=1), 'weights': CategoricalDistribution(choices=('uniform', 'distance')), 'metric': CategoricalDistribution(choices=('minkowski', 'euclidean', 'manhattan'))}, user_attrs={}, system_attrs={}, intermediate_values={}, trial_id=21, state=TrialState.COMPLETE, value=None)\n"
     ]
    }
   ],
   "source": [
    "print(\"Highest Score: \", study.best_value)\n",
    "print(\"Best Parameters: \", study.best_params)\n",
    "print(\"Best Trial: \", study.best_trial)"
   ]
  },
  {
   "cell_type": "markdown",
   "id": "5ea3cb18-5e56-4f11-a32f-10c3d90316c9",
   "metadata": {},
   "source": [
    "### Building Model with tuned parameters"
   ]
  },
  {
   "cell_type": "code",
   "execution_count": 11,
   "id": "1b736f19-0500-4e1d-84e5-02db9bff4787",
   "metadata": {},
   "outputs": [],
   "source": [
    "tuned_params = study.best_params"
   ]
  },
  {
   "cell_type": "code",
   "execution_count": 12,
   "id": "59b9e067-bfa8-4065-80bc-2c4b9a625ce5",
   "metadata": {},
   "outputs": [],
   "source": [
    "# Building modeling pipeline\n",
    "pipeline = create_knn_pipeline(tuned_params[\"quantile_transform\"],\n",
    "                               tuned_params[\"n_neighbors\"],\n",
    "                               tuned_params[\"weights\"],\n",
    "                               tuned_params[\"metric\"])\n",
    "\n",
    "# Defining model evaluation\n",
    "cv = RepeatedStratifiedKFold(n_splits=10, n_repeats=10, random_state=42)\n",
    "\n",
    "# Evaluating Model\n",
    "scores = cross_val_score(pipeline, X, y, scoring='roc_auc', cv=cv, n_jobs=-1)"
   ]
  },
  {
   "cell_type": "code",
   "execution_count": 13,
   "id": "978c11ef-656d-4917-9abb-22b6221aae0e",
   "metadata": {},
   "outputs": [
    {
     "name": "stdout",
     "output_type": "stream",
     "text": [
      "Mean AUC-ROC Score of KNN: 0.9748 ± 0.0020\n"
     ]
    }
   ],
   "source": [
    "print('Mean AUC-ROC Score of KNN: %.4f \\u00B1 %.4f' % (np.mean(scores), np.std(scores)))"
   ]
  }
 ],
 "metadata": {
  "kernelspec": {
   "display_name": "Python 3.9: isp-churn-prediction",
   "language": "python",
   "name": "isp-churn-prediction"
  },
  "language_info": {
   "codemirror_mode": {
    "name": "ipython",
    "version": 3
   },
   "file_extension": ".py",
   "mimetype": "text/x-python",
   "name": "python",
   "nbconvert_exporter": "python",
   "pygments_lexer": "ipython3",
   "version": "3.9.7"
  }
 },
 "nbformat": 4,
 "nbformat_minor": 5
}
